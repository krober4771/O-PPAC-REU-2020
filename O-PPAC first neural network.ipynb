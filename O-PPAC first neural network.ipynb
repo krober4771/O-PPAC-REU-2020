{
 "cells": [
  {
   "cell_type": "code",
   "execution_count": 56,
   "metadata": {},
   "outputs": [],
   "source": [
    "#This program fits the O-PPAC data onto a FCNN model\n",
    "import tensorflow as tf\n",
    "from tensorflow.keras import datasets, layers, models, metrics, Model\n",
    "from tensorflow.keras.callbacks import Callback\n",
    "from sklearn.model_selection import train_test_split\n",
    "from sklearn.metrics import classification_report\n",
    "from sklearn.preprocessing import normalize\n",
    "import tensorflow_docs as tfdocs\n",
    "import tensorflow_docs.plots\n",
    "import tensorflow_docs.modeling\n",
    "import numpy as np\n",
    "from numpy import *\n",
    "import pandas as pd\n",
    "import matplotlib.pyplot as plt\n",
    "import h5py\n",
    "import datetime"
   ]
  },
  {
   "cell_type": "code",
   "execution_count": 57,
   "metadata": {},
   "outputs": [],
   "source": [
    "dataset = h5py.File('simu_HDF.h5', 'r')\n",
    "num_diodes = dataset['Num_diodes'][...]\n",
    "x_pos = (dataset['Xpos'][...])/100\n",
    "y_pos = (dataset['Ypos'][...])/100\n",
    "histgrid = dataset['histgrid'][...]\n",
    "output = np.vstack((x_pos,y_pos))\n",
    "output = np.transpose(output)\n",
    "where_are_NaNs = isnan(histgrid)\n",
    "histgrid[where_are_NaNs] = 0\n",
    "\n",
    "dataset.close()\n",
    "#print(histgrid)\n",
    "#print(output)"
   ]
  },
  {
   "cell_type": "code",
   "execution_count": 58,
   "metadata": {},
   "outputs": [
    {
     "data": {
      "text/plain": [
       "(342, 132, 1001)"
      ]
     },
     "execution_count": 58,
     "metadata": {},
     "output_type": "execute_result"
    }
   ],
   "source": [
    "histgrid.shape"
   ]
  },
  {
   "cell_type": "code",
   "execution_count": null,
   "metadata": {},
   "outputs": [],
   "source": []
  },
  {
   "cell_type": "code",
   "execution_count": 59,
   "metadata": {},
   "outputs": [
    {
     "data": {
      "text/plain": [
       "array([  0.,   1.,   0.,   2.,   0.,   0.,   0.,   0.,   0.,   7.,  24.,\n",
       "        58.,  82.,  57.,  29.,   5.,   0.,   2.,   1.,   0.,   1.,   0.,\n",
       "         0.,   0.,   0.,   0.,   1.,   1.,   1.,   0.,   0.,   0.,   0.,\n",
       "         0.,   0.,   0.,   1.,   1.,   0.,   0.,   1.,   0.,   1.,   6.,\n",
       "        71., 110.,  95.,   5.,   1.,   0.,   0.,   0.,   0.,   0.,   0.,\n",
       "         0.,   1.,   0.,   0.,   1.,   0.,   0.,   0.,   1.,   0.,   0.,\n",
       "         0.,   0.,   0.,   0.,   0.,   0.,   0.,   0.,   1.,   7.,  36.,\n",
       "        47.,  61.,  71.,  20.,   4.,   0.,   0.,   0.,   0.,   0.,   0.,\n",
       "         2.,   0.,   0.,   0.,   0.,   0.,   0.,   0.,   0.,   0.,   0.,\n",
       "         0.,   0.,   0.,   0.,   0.,   0.,   0.,   0.,   0.,   1.,   7.,\n",
       "        57., 124.,  54.,  10.,   0.,   2.,   0.,   0.,   0.,   0.,   0.,\n",
       "         0.,   0.,   0.,   0.,   0.,   0.,   0.,   0.,   0.,   0.,   0.])"
      ]
     },
     "execution_count": 59,
     "metadata": {},
     "output_type": "execute_result"
    }
   ],
   "source": [
    "histgrid[0,0:132,0]"
   ]
  },
  {
   "cell_type": "code",
   "execution_count": 60,
   "metadata": {},
   "outputs": [],
   "source": [
    "#Testing lists vs arrays\n",
    "all_data = []\n",
    "labels = []\n",
    "for i in range(343):\n",
    "    all_data.append(i)\n",
    "    labels.append(i)"
   ]
  },
  {
   "cell_type": "code",
   "execution_count": 159,
   "metadata": {
    "scrolled": true
   },
   "outputs": [
    {
     "name": "stdout",
     "output_type": "stream",
     "text": [
      "[-12. -12.]\n"
     ]
    },
    {
     "data": {
      "text/plain": [
       "array([[0.00000000e+000],\n",
       "       [0.00000000e+000],\n",
       "       [1.00000000e+000],\n",
       "       ...,\n",
       "       [6.35192734e-269],\n",
       "       [2.03268160e-068],\n",
       "       [9.00829169e-312]])"
      ]
     },
     "execution_count": 159,
     "metadata": {},
     "output_type": "execute_result"
    }
   ],
   "source": [
    "def data_compile(histdata):\n",
    "    data = []\n",
    "    labels = []\n",
    "    for i in range(histdata.shape[0]):\n",
    "        for j in range(1,histdata.shape[2]):\n",
    "            data.append(histdata[i,0:132,j])\n",
    "            labels.append(output[i])\n",
    "    return(np.array(data),np.array(labels))\n",
    "\n",
    "all_data, all_labels = data_compile(histgrid)\n",
    "all_data.reshape(-1,1)"
   ]
  },
  {
   "cell_type": "code",
   "execution_count": 107,
   "metadata": {},
   "outputs": [
    {
     "name": "stdout",
     "output_type": "stream",
     "text": [
      "1.0\n"
     ]
    }
   ],
   "source": [
    "all_data = normalize(all_data,axis = 1)\n",
    "max_value = np.amax(all_data)\n",
    "print(max_value)\n",
    "#no need to normalize if max == 1 ??"
   ]
  },
  {
   "cell_type": "code",
   "execution_count": 108,
   "metadata": {},
   "outputs": [],
   "source": [
    "train_data, test_data, train_labels, test_labels = train_test_split(all_data, all_labels, test_size=0.2,shuffle=True)"
   ]
  },
  {
   "cell_type": "code",
   "execution_count": 109,
   "metadata": {},
   "outputs": [
    {
     "data": {
      "text/plain": [
       "2"
      ]
     },
     "execution_count": 109,
     "metadata": {},
     "output_type": "execute_result"
    }
   ],
   "source": [
    "train_data.ndim"
   ]
  },
  {
   "cell_type": "code",
   "execution_count": 110,
   "metadata": {},
   "outputs": [
    {
     "data": {
      "text/plain": [
       "(273600, 132)"
      ]
     },
     "execution_count": 110,
     "metadata": {},
     "output_type": "execute_result"
    }
   ],
   "source": [
    "train_data.shape"
   ]
  },
  {
   "cell_type": "code",
   "execution_count": 111,
   "metadata": {},
   "outputs": [
    {
     "data": {
      "text/plain": [
       "array([0.35320744, 0.25901879, 0.04709433, 0.        , 0.        ,\n",
       "       0.        , 0.        , 0.        , 0.        , 0.        ,\n",
       "       0.        , 0.00392453, 0.        , 0.        , 0.        ,\n",
       "       0.00392453, 0.        , 0.        , 0.        , 0.        ,\n",
       "       0.        , 0.        , 0.        , 0.        , 0.00392453,\n",
       "       0.        , 0.        , 0.        , 0.        , 0.        ,\n",
       "       0.00784905, 0.12950939, 0.30218859, 0.23547163, 0.21192446,\n",
       "       0.10988676, 0.01569811, 0.00392453, 0.        , 0.00784905,\n",
       "       0.        , 0.        , 0.        , 0.00392453, 0.        ,\n",
       "       0.        , 0.        , 0.        , 0.00392453, 0.00392453,\n",
       "       0.        , 0.        , 0.        , 0.        , 0.        ,\n",
       "       0.00392453, 0.        , 0.        , 0.        , 0.        ,\n",
       "       0.        , 0.        , 0.        , 0.        , 0.        ,\n",
       "       0.00392453, 0.        , 0.        , 0.        , 0.        ,\n",
       "       0.00392453, 0.        , 0.00392453, 0.00392453, 0.06279243,\n",
       "       0.09811318, 0.25901879, 0.20015088, 0.12558487, 0.05886791,\n",
       "       0.01962264, 0.        , 0.        , 0.00784905, 0.        ,\n",
       "       0.        , 0.        , 0.        , 0.        , 0.00392453,\n",
       "       0.        , 0.        , 0.        , 0.00392453, 0.        ,\n",
       "       0.        , 0.        , 0.        , 0.        , 0.        ,\n",
       "       0.        , 0.        , 0.        , 0.        , 0.00392453,\n",
       "       0.        , 0.00392453, 0.00392453, 0.01177358, 0.30611311,\n",
       "       0.47879231, 0.09418865, 0.        , 0.00392453, 0.        ,\n",
       "       0.00392453, 0.        , 0.        , 0.        , 0.        ,\n",
       "       0.00392453, 0.        , 0.        , 0.        , 0.00784905,\n",
       "       0.        , 0.00392453, 0.00392453, 0.05494338, 0.18445277,\n",
       "       0.15305656, 0.22762257])"
      ]
     },
     "execution_count": 111,
     "metadata": {},
     "output_type": "execute_result"
    }
   ],
   "source": [
    "train_data[0]"
   ]
  },
  {
   "cell_type": "code",
   "execution_count": 112,
   "metadata": {},
   "outputs": [],
   "source": [
    "log_dir = \"logs/fit/\" + \"O-PPAC_FCNN\" + \"RMSprop0.001,mse,no_dropout,1dense128,relu\"\n",
    "tensorboard_callback = tf.keras.callbacks.TensorBoard(log_dir=log_dir, histogram_freq=1, profile_batch = 0)"
   ]
  },
  {
   "cell_type": "code",
   "execution_count": 113,
   "metadata": {},
   "outputs": [],
   "source": [
    "callback = tf.keras.callbacks.EarlyStopping(monitor='val_loss', patience=10)"
   ]
  },
  {
   "cell_type": "code",
   "execution_count": 129,
   "metadata": {},
   "outputs": [],
   "source": [
    "FCNN_model = tf.keras.Sequential()\n",
    "FCNN_model.add(layers.Dense(256, activation='relu', input_shape = [132]))\n",
    "FCNN_model.add(layers.Dense(256, activation = 'relu'))\n",
    "#FCNN_model.add(layers.Dropout(0.5))\n",
    "FCNN_model.add(layers.Dense(2, activation = 'linear'))"
   ]
  },
  {
   "cell_type": "code",
   "execution_count": 130,
   "metadata": {},
   "outputs": [],
   "source": [
    "FCNN_model.compile(optimizer = tf.keras.optimizers.RMSprop(learning_rate=0.001), \n",
    "              loss = 'mse', \n",
    "              metrics=['mae', 'mse'])"
   ]
  },
  {
   "cell_type": "code",
   "execution_count": 187,
   "metadata": {},
   "outputs": [
    {
     "name": "stdout",
     "output_type": "stream",
     "text": [
      "Epoch 1/50\n",
      "5985/5985 [==============================] - 18s 3ms/step - loss: 0.6892 - mae: 0.5582 - mse: 0.6892 - val_loss: 0.7698 - val_mae: 0.5665 - val_mse: 0.7698\n",
      "Epoch 2/50\n",
      "5985/5985 [==============================] - 17s 3ms/step - loss: 0.6638 - mae: 0.5466 - mse: 0.6638 - val_loss: 0.7001 - val_mae: 0.5515 - val_mse: 0.7001\n",
      "Epoch 3/50\n",
      "5985/5985 [==============================] - 17s 3ms/step - loss: 0.6327 - mae: 0.5331 - mse: 0.6327 - val_loss: 0.6303 - val_mae: 0.5117 - val_mse: 0.6303\n",
      "Epoch 4/50\n",
      "5985/5985 [==============================] - 18s 3ms/step - loss: 0.6092 - mae: 0.5220 - mse: 0.6092 - val_loss: 0.7461 - val_mae: 0.5574 - val_mse: 0.7461\n",
      "Epoch 5/50\n",
      "5985/5985 [==============================] - 17s 3ms/step - loss: 0.5877 - mae: 0.5113 - mse: 0.5877 - val_loss: 0.6387 - val_mae: 0.5174 - val_mse: 0.6387\n",
      "Epoch 6/50\n",
      "5985/5985 [==============================] - 18s 3ms/step - loss: 0.5664 - mae: 0.5016 - mse: 0.5664 - val_loss: 0.5558 - val_mae: 0.4701 - val_mse: 0.5558\n",
      "Epoch 7/50\n",
      "5985/5985 [==============================] - 18s 3ms/step - loss: 0.5455 - mae: 0.4912 - mse: 0.5455 - val_loss: 0.5957 - val_mae: 0.4844 - val_mse: 0.5957\n",
      "Epoch 8/50\n",
      "5985/5985 [==============================] - 24s 4ms/step - loss: 0.5229 - mae: 0.4815 - mse: 0.5229 - val_loss: 0.6273 - val_mae: 0.5336 - val_mse: 0.6273\n",
      "Epoch 9/50\n",
      "5985/5985 [==============================] - 17s 3ms/step - loss: 0.5072 - mae: 0.4727 - mse: 0.5072 - val_loss: 0.5591 - val_mae: 0.4671 - val_mse: 0.5591\n",
      "Epoch 10/50\n",
      "5985/5985 [==============================] - 17s 3ms/step - loss: 0.4903 - mae: 0.4644 - mse: 0.4903 - val_loss: 0.5561 - val_mae: 0.4714 - val_mse: 0.5561\n",
      "Epoch 11/50\n",
      "5985/5985 [==============================] - 17s 3ms/step - loss: 0.4776 - mae: 0.4571 - mse: 0.4776 - val_loss: 0.5603 - val_mae: 0.4774 - val_mse: 0.5603\n",
      "Epoch 12/50\n",
      "5985/5985 [==============================] - 18s 3ms/step - loss: 0.4638 - mae: 0.4500 - mse: 0.4638 - val_loss: 0.4846 - val_mae: 0.4322 - val_mse: 0.4846\n",
      "Epoch 13/50\n",
      "5985/5985 [==============================] - 17s 3ms/step - loss: 0.4483 - mae: 0.4432 - mse: 0.4483 - val_loss: 0.4727 - val_mae: 0.4196 - val_mse: 0.4727\n",
      "Epoch 14/50\n",
      "5985/5985 [==============================] - 17s 3ms/step - loss: 0.4358 - mae: 0.4379 - mse: 0.4358 - val_loss: 0.4651 - val_mae: 0.4037 - val_mse: 0.4651\n",
      "Epoch 15/50\n",
      "5985/5985 [==============================] - 18s 3ms/step - loss: 0.4262 - mae: 0.4314 - mse: 0.4262 - val_loss: 0.5020 - val_mae: 0.4432 - val_mse: 0.5020\n",
      "Epoch 16/50\n",
      "5985/5985 [==============================] - 18s 3ms/step - loss: 0.4168 - mae: 0.4247 - mse: 0.4168 - val_loss: 0.5420 - val_mae: 0.4733 - val_mse: 0.5420\n",
      "Epoch 17/50\n",
      "5985/5985 [==============================] - 17s 3ms/step - loss: 0.4111 - mae: 0.4210 - mse: 0.4111 - val_loss: 0.4873 - val_mae: 0.4260 - val_mse: 0.4873\n",
      "Epoch 18/50\n",
      "5985/5985 [==============================] - 17s 3ms/step - loss: 0.4009 - mae: 0.4162 - mse: 0.4009 - val_loss: 0.5584 - val_mae: 0.4952 - val_mse: 0.5584\n",
      "Epoch 19/50\n",
      "5985/5985 [==============================] - 17s 3ms/step - loss: 0.3943 - mae: 0.4117 - mse: 0.3943 - val_loss: 0.4979 - val_mae: 0.4390 - val_mse: 0.4979\n",
      "Epoch 20/50\n",
      "5985/5985 [==============================] - 18s 3ms/step - loss: 0.3845 - mae: 0.4078 - mse: 0.3845 - val_loss: 0.4952 - val_mae: 0.4380 - val_mse: 0.4952\n",
      "Epoch 21/50\n",
      "5985/5985 [==============================] - 19s 3ms/step - loss: 0.3780 - mae: 0.4023 - mse: 0.3780 - val_loss: 0.4355 - val_mae: 0.3916 - val_mse: 0.4355\n",
      "Epoch 22/50\n",
      "5985/5985 [==============================] - 18s 3ms/step - loss: 0.3693 - mae: 0.3987 - mse: 0.3693 - val_loss: 0.4700 - val_mae: 0.4158 - val_mse: 0.4700\n",
      "Epoch 23/50\n",
      "5985/5985 [==============================] - 17s 3ms/step - loss: 0.3663 - mae: 0.3960 - mse: 0.3663 - val_loss: 0.4355 - val_mae: 0.3915 - val_mse: 0.4355\n",
      "Epoch 24/50\n",
      "5985/5985 [==============================] - 17s 3ms/step - loss: 0.3603 - mae: 0.3921 - mse: 0.3603 - val_loss: 0.4192 - val_mae: 0.3884 - val_mse: 0.4192\n",
      "Epoch 25/50\n",
      "5985/5985 [==============================] - 17s 3ms/step - loss: 0.3523 - mae: 0.3890 - mse: 0.3523 - val_loss: 0.4499 - val_mae: 0.4076 - val_mse: 0.4499\n",
      "Epoch 26/50\n",
      "5985/5985 [==============================] - 17s 3ms/step - loss: 0.3497 - mae: 0.3853 - mse: 0.3497 - val_loss: 0.4784 - val_mae: 0.4466 - val_mse: 0.4784\n",
      "Epoch 27/50\n",
      "5985/5985 [==============================] - 18s 3ms/step - loss: 0.3439 - mae: 0.3820 - mse: 0.3439 - val_loss: 0.4528 - val_mae: 0.4100 - val_mse: 0.4528\n",
      "Epoch 28/50\n",
      "5985/5985 [==============================] - 18s 3ms/step - loss: 0.3373 - mae: 0.3793 - mse: 0.3373 - val_loss: 0.4400 - val_mae: 0.4100 - val_mse: 0.4400\n",
      "Epoch 29/50\n",
      "5985/5985 [==============================] - 19s 3ms/step - loss: 0.3332 - mae: 0.3769 - mse: 0.3332 - val_loss: 0.3994 - val_mae: 0.3719 - val_mse: 0.3994\n",
      "Epoch 30/50\n",
      "5985/5985 [==============================] - 17s 3ms/step - loss: 0.3302 - mae: 0.3739 - mse: 0.3302 - val_loss: 0.4661 - val_mae: 0.4298 - val_mse: 0.4661\n",
      "Epoch 31/50\n",
      "5985/5985 [==============================] - 17s 3ms/step - loss: 0.3268 - mae: 0.3715 - mse: 0.3268 - val_loss: 0.3873 - val_mae: 0.3509 - val_mse: 0.3873\n",
      "Epoch 32/50\n",
      "5985/5985 [==============================] - 17s 3ms/step - loss: 0.3248 - mae: 0.3690 - mse: 0.3248 - val_loss: 0.4489 - val_mae: 0.4145 - val_mse: 0.4489\n",
      "Epoch 33/50\n",
      "5985/5985 [==============================] - 19s 3ms/step - loss: 0.3192 - mae: 0.3665 - mse: 0.3192 - val_loss: 0.4221 - val_mae: 0.3891 - val_mse: 0.4221\n",
      "Epoch 34/50\n",
      "5985/5985 [==============================] - 18s 3ms/step - loss: 0.3165 - mae: 0.3645 - mse: 0.3165 - val_loss: 0.3903 - val_mae: 0.3565 - val_mse: 0.3903\n",
      "Epoch 35/50\n",
      "5985/5985 [==============================] - 18s 3ms/step - loss: 0.3127 - mae: 0.3617 - mse: 0.3127 - val_loss: 0.3995 - val_mae: 0.3735 - val_mse: 0.3995\n",
      "Epoch 36/50\n",
      "5985/5985 [==============================] - 16s 3ms/step - loss: 0.3086 - mae: 0.3591 - mse: 0.3086 - val_loss: 0.3769 - val_mae: 0.3504 - val_mse: 0.3769\n",
      "Epoch 37/50\n",
      "5985/5985 [==============================] - 21s 3ms/step - loss: 0.3055 - mae: 0.3577 - mse: 0.3055 - val_loss: 0.3954 - val_mae: 0.3582 - val_mse: 0.3954\n",
      "Epoch 38/50\n",
      "5985/5985 [==============================] - 18s 3ms/step - loss: 0.3013 - mae: 0.3553 - mse: 0.3013 - val_loss: 0.4317 - val_mae: 0.4077 - val_mse: 0.4317\n",
      "Epoch 39/50\n",
      "5985/5985 [==============================] - 17s 3ms/step - loss: 0.2986 - mae: 0.3532 - mse: 0.2986 - val_loss: 0.4041 - val_mae: 0.3654 - val_mse: 0.4041\n",
      "Epoch 40/50\n",
      "5985/5985 [==============================] - 17s 3ms/step - loss: 0.2971 - mae: 0.3521 - mse: 0.2971 - val_loss: 0.3695 - val_mae: 0.3416 - val_mse: 0.3695\n",
      "Epoch 41/50\n",
      "5985/5985 [==============================] - 18s 3ms/step - loss: 0.2933 - mae: 0.3502 - mse: 0.2933 - val_loss: 0.3778 - val_mae: 0.3590 - val_mse: 0.3778\n",
      "Epoch 42/50\n",
      "5985/5985 [==============================] - 20s 3ms/step - loss: 0.2909 - mae: 0.3475 - mse: 0.2909 - val_loss: 0.4269 - val_mae: 0.3872 - val_mse: 0.4269\n",
      "Epoch 43/50\n",
      "5985/5985 [==============================] - 18s 3ms/step - loss: 0.2879 - mae: 0.3463 - mse: 0.2879 - val_loss: 0.4004 - val_mae: 0.3713 - val_mse: 0.4004\n",
      "Epoch 44/50\n",
      "5985/5985 [==============================] - 19s 3ms/step - loss: 0.2841 - mae: 0.3440 - mse: 0.2841 - val_loss: 0.3616 - val_mae: 0.3328 - val_mse: 0.3616\n",
      "Epoch 45/50\n",
      "5985/5985 [==============================] - 18s 3ms/step - loss: 0.2810 - mae: 0.3427 - mse: 0.2810 - val_loss: 0.3801 - val_mae: 0.3642 - val_mse: 0.3801\n",
      "Epoch 46/50\n",
      "5985/5985 [==============================] - 16s 3ms/step - loss: 0.2812 - mae: 0.3407 - mse: 0.2812 - val_loss: 0.4166 - val_mae: 0.4075 - val_mse: 0.4166\n",
      "Epoch 47/50\n",
      "5985/5985 [==============================] - 18s 3ms/step - loss: 0.2786 - mae: 0.3399 - mse: 0.2786 - val_loss: 0.3607 - val_mae: 0.3385 - val_mse: 0.3607\n",
      "Epoch 48/50\n",
      "5985/5985 [==============================] - 18s 3ms/step - loss: 0.2760 - mae: 0.3370 - mse: 0.2760 - val_loss: 0.3610 - val_mae: 0.3452 - val_mse: 0.3610\n",
      "Epoch 49/50\n",
      "5985/5985 [==============================] - 19s 3ms/step - loss: 0.2771 - mae: 0.3363 - mse: 0.2771 - val_loss: 0.4151 - val_mae: 0.3963 - val_mse: 0.4151\n"
     ]
    },
    {
     "name": "stdout",
     "output_type": "stream",
     "text": [
      "Epoch 50/50\n",
      "5985/5985 [==============================] - 19s 3ms/step - loss: 0.2740 - mae: 0.3344 - mse: 0.2740 - val_loss: 0.4056 - val_mae: 0.3752 - val_mse: 0.4056\n"
     ]
    }
   ],
   "source": [
    "FCNN_history = FCNN_model.fit(train_data, train_labels,\n",
    "                    epochs=50,\n",
    "                    batch_size = 32,\n",
    "                    callbacks = [callback],\n",
    "                    validation_split = 0.3 \n",
    "                    )"
   ]
  },
  {
   "cell_type": "code",
   "execution_count": 188,
   "metadata": {},
   "outputs": [
    {
     "data": {
      "text/plain": [
       "Text(0.5, 1.0, 'FCNN O-PPAC Loss Curve, Dropout 0, 2 Dense 256 Node, RMSprop 0.001, MSE, linear activation')"
      ]
     },
     "execution_count": 188,
     "metadata": {},
     "output_type": "execute_result"
    },
    {
     "data": {
      "image/png": "[encoded data removed]",
      "text/plain": [
       "<Figure size 432x288 with 1 Axes>"
      ]
     },
     "metadata": {
      "needs_background": "light"
     },
     "output_type": "display_data"
    }
   ],
   "source": [
    "plt.plot(FCNN_history.history['loss'], label='loss')\n",
    "plt.plot(FCNN_history.history['val_loss'], label = 'val_loss')\n",
    "plt.xlabel('Epoch')\n",
    "plt.ylabel('Loss')\n",
    "#plt.ylim([0, 40])\n",
    "plt.legend(loc='upper right')\n",
    "plt.title(\"FCNN O-PPAC Loss Curve, Dropout 0, 2 Dense 256 Node, RMSprop 0.001, MSE, linear activation\")"
   ]
  },
  {
   "cell_type": "code",
   "execution_count": 189,
   "metadata": {},
   "outputs": [
    {
     "name": "stdout",
     "output_type": "stream",
     "text": [
      "2138/2138 - 3s - loss: 0.3643 - mae: 0.3761 - mse: 0.3643\n"
     ]
    }
   ],
   "source": [
    "result = FCNN_model.evaluate(test_data, test_labels, verbose=2)"
   ]
  },
  {
   "cell_type": "code",
   "execution_count": 190,
   "metadata": {},
   "outputs": [],
   "source": [
    "predictions = FCNN_model.predict(test_data)"
   ]
  },
  {
   "cell_type": "code",
   "execution_count": 191,
   "metadata": {},
   "outputs": [
    {
     "name": "stdout",
     "output_type": "stream",
     "text": [
      "<class 'numpy.ndarray'>\n",
      "<class 'numpy.ndarray'>\n"
     ]
    }
   ],
   "source": [
    "x_pred = predictions[:,0]\n",
    "y_pred = predictions[:,1]\n",
    "\n",
    "print(type(x_pred))\n",
    "print(type(x_test))\n",
    "\n",
    "x_test1 = [i[0] for i in test_labels]\n",
    "y_test1 = [i[1] for i in test_labels]\n",
    "\n",
    "x_test = np.array(x_test1)\n",
    "y_test = np.array(y_test1)"
   ]
  },
  {
   "cell_type": "code",
   "execution_count": 192,
   "metadata": {},
   "outputs": [
    {
     "data": {
      "text/plain": [
       "[24.0]"
      ]
     },
     "execution_count": 192,
     "metadata": {},
     "output_type": "execute_result"
    }
   ],
   "source": [
    "new_x_labels = []\n",
    "for i in range(x_test.shape[0]):\n",
    "    new_x_labels.append([x_test[i]])\n",
    "np.array(new_x_labels)\n",
    "new_x_labels[2]"
   ]
  },
  {
   "cell_type": "code",
   "execution_count": 193,
   "metadata": {},
   "outputs": [
    {
     "data": {
      "text/plain": [
       "Text(0.5, 1.0, 'FCNN O-PPAC X Predictions vs True X Values')"
      ]
     },
     "execution_count": 193,
     "metadata": {},
     "output_type": "execute_result"
    },
    {
     "data": {
      "image/png": "[encoded data removed]",
      "text/plain": [
       "<Figure size 432x288 with 1 Axes>"
      ]
     },
     "metadata": {
      "needs_background": "light"
     },
     "output_type": "display_data"
    }
   ],
   "source": [
    "a = plt.axes(aspect='equal')\n",
    "plt.scatter(new_x_labels, x_pred)\n",
    "plt.xlabel('True Values')\n",
    "plt.ylabel('Predictions')\n",
    "lims = [-50, 50]\n",
    "plt.xlim(lims)\n",
    "plt.ylim(lims)\n",
    "_ = plt.plot(lims, lims)\n",
    "plt.title(\"FCNN O-PPAC X Predictions vs True X Values\")"
   ]
  },
  {
   "cell_type": "code",
   "execution_count": 194,
   "metadata": {},
   "outputs": [
    {
     "data": {
      "text/plain": [
       "[-20.0]"
      ]
     },
     "execution_count": 194,
     "metadata": {},
     "output_type": "execute_result"
    }
   ],
   "source": [
    "new_y_labels = []\n",
    "for i in range(y_test.shape[0]):\n",
    "    new_y_labels.append([y_test[i]])\n",
    "np.array(new_y_labels)\n",
    "new_y_labels[2]"
   ]
  },
  {
   "cell_type": "code",
   "execution_count": 195,
   "metadata": {},
   "outputs": [
    {
     "data": {
      "text/plain": [
       "Text(0.5, 1.0, 'FCNN O-PPAC Y Predictions vs True Y Values')"
      ]
     },
     "execution_count": 195,
     "metadata": {},
     "output_type": "execute_result"
    },
    {
     "data": {
      "image/png": "[encoded data removed]",
      "text/plain": [
       "<Figure size 432x288 with 1 Axes>"
      ]
     },
     "metadata": {
      "needs_background": "light"
     },
     "output_type": "display_data"
    }
   ],
   "source": [
    "a = plt.axes(aspect='equal')\n",
    "plt.scatter(new_y_labels, y_pred)\n",
    "plt.xlabel('True Values')\n",
    "plt.ylabel('Predictions')\n",
    "lims = [-50, 50]\n",
    "plt.xlim(lims)\n",
    "plt.ylim(lims)\n",
    "_ = plt.plot(lims, lims)\n",
    "plt.title(\"FCNN O-PPAC Y Predictions vs True Y Values\")"
   ]
  },
  {
   "cell_type": "code",
   "execution_count": null,
   "metadata": {},
   "outputs": [],
   "source": []
  }
 ],
 "metadata": {
  "kernelspec": {
   "display_name": "Python 3",
   "language": "python",
   "name": "python3"
  },
  "language_info": {
   "codemirror_mode": {
    "name": "ipython",
    "version": 3
   },
   "file_extension": ".py",
   "mimetype": "text/x-python",
   "name": "python",
   "nbconvert_exporter": "python",
   "pygments_lexer": "ipython3",
   "version": "3.7.6"
  }
 },
 "nbformat": 4,
 "nbformat_minor": 4
}
