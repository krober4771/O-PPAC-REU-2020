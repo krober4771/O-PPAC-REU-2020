{
 "cells": [
  {
   "cell_type": "code",
   "execution_count": 56,
   "metadata": {},
   "outputs": [],
   "source": [
    "#This program fits the O-PPAC data onto a FCNN model\n",
    "import tensorflow as tf\n",
    "from tensorflow.keras import datasets, layers, models, metrics, Model\n",
    "from tensorflow.keras.callbacks import Callback\n",
    "from sklearn.model_selection import train_test_split\n",
    "from sklearn.metrics import classification_report\n",
    "from sklearn.preprocessing import normalize\n",
    "import tensorflow_docs as tfdocs\n",
    "import tensorflow_docs.plots\n",
    "import tensorflow_docs.modeling\n",
    "import numpy as np\n",
    "from numpy import *\n",
    "import pandas as pd\n",
    "import matplotlib.pyplot as plt\n",
    "import h5py\n",
    "import datetime"
   ]
  },
  {
   "cell_type": "code",
   "execution_count": 57,
   "metadata": {},
   "outputs": [],
   "source": [
    "dataset = h5py.File('simu_HDF.h5', 'r')\n",
    "num_diodes = dataset['Num_diodes'][...]\n",
    "x_pos = (dataset['Xpos'][...])/100\n",
    "y_pos = (dataset['Ypos'][...])/100\n",
    "histgrid = dataset['histgrid'][...]\n",
    "output = np.vstack((x_pos,y_pos))\n",
    "output = np.transpose(output)\n",
    "where_are_NaNs = isnan(histgrid)\n",
    "histgrid[where_are_NaNs] = 0\n",
    "\n",
    "dataset.close()\n",
    "#print(histgrid)\n",
    "#print(output)"
   ]
  },
  {
   "cell_type": "code",
   "execution_count": 58,
   "metadata": {},
   "outputs": [
    {
     "data": {
      "text/plain": [
       "(342, 132, 1001)"
      ]
     },
     "execution_count": 58,
     "metadata": {},
     "output_type": "execute_result"
    }
   ],
   "source": [
    "histgrid.shape"
   ]
  },
  {
   "cell_type": "code",
   "execution_count": null,
   "metadata": {},
   "outputs": [],
   "source": []
  },
  {
   "cell_type": "code",
   "execution_count": 59,
   "metadata": {},
   "outputs": [
    {
     "data": {
      "text/plain": [
       "array([  0.,   1.,   0.,   2.,   0.,   0.,   0.,   0.,   0.,   7.,  24.,\n",
       "        58.,  82.,  57.,  29.,   5.,   0.,   2.,   1.,   0.,   1.,   0.,\n",
       "         0.,   0.,   0.,   0.,   1.,   1.,   1.,   0.,   0.,   0.,   0.,\n",
       "         0.,   0.,   0.,   1.,   1.,   0.,   0.,   1.,   0.,   1.,   6.,\n",
       "        71., 110.,  95.,   5.,   1.,   0.,   0.,   0.,   0.,   0.,   0.,\n",
       "         0.,   1.,   0.,   0.,   1.,   0.,   0.,   0.,   1.,   0.,   0.,\n",
       "         0.,   0.,   0.,   0.,   0.,   0.,   0.,   0.,   1.,   7.,  36.,\n",
       "        47.,  61.,  71.,  20.,   4.,   0.,   0.,   0.,   0.,   0.,   0.,\n",
       "         2.,   0.,   0.,   0.,   0.,   0.,   0.,   0.,   0.,   0.,   0.,\n",
       "         0.,   0.,   0.,   0.,   0.,   0.,   0.,   0.,   0.,   1.,   7.,\n",
       "        57., 124.,  54.,  10.,   0.,   2.,   0.,   0.,   0.,   0.,   0.,\n",
       "         0.,   0.,   0.,   0.,   0.,   0.,   0.,   0.,   0.,   0.,   0.])"
      ]
     },
     "execution_count": 59,
     "metadata": {},
     "output_type": "execute_result"
    }
   ],
   "source": [
    "histgrid[0,0:132,0]"
   ]
  },
  {
   "cell_type": "code",
   "execution_count": 60,
   "metadata": {},
   "outputs": [],
   "source": [
    "#Testing lists vs arrays\n",
    "all_data = []\n",
    "labels = []\n",
    "for i in range(343):\n",
    "    all_data.append(i)\n",
    "    labels.append(i)"
   ]
  },
  {
   "cell_type": "code",
   "execution_count": 66,
   "metadata": {
    "scrolled": true
   },
   "outputs": [
    {
     "data": {
      "text/plain": [
       "array([[0.00000000e+000],\n",
       "       [0.00000000e+000],\n",
       "       [1.00000000e+000],\n",
       "       ...,\n",
       "       [6.35192734e-269],\n",
       "       [2.03268160e-068],\n",
       "       [9.00829169e-312]])"
      ]
     },
     "execution_count": 66,
     "metadata": {},
     "output_type": "execute_result"
    }
   ],
   "source": [
    "def data_compile(histdata):\n",
    "    data = []\n",
    "    labels = []\n",
    "    for i in range(histdata.shape[0]):\n",
    "        for j in range(1,histdata.shape[2]):\n",
    "            data.append(histdata[i,0:132,j])\n",
    "            labels.append(output[i])\n",
    "    return(np.array(data),np.array(labels))\n",
    "\n",
    "\n",
    "all_data, all_labels = data_compile(histgrid)\n",
    "all_data.reshape(-1,1)"
   ]
  },
  {
   "cell_type": "code",
   "execution_count": 107,
   "metadata": {},
   "outputs": [
    {
     "name": "stdout",
     "output_type": "stream",
     "text": [
      "1.0\n"
     ]
    }
   ],
   "source": [
    "all_data = normalize(all_data,axis = 1)\n",
    "max_value = np.amax(all_data)\n",
    "print(max_value)\n",
    "#no need to normalize if max == 1 ??"
   ]
  },
  {
   "cell_type": "code",
   "execution_count": 108,
   "metadata": {},
   "outputs": [],
   "source": [
    "train_data, test_data, train_labels, test_labels = train_test_split(all_data, all_labels, test_size=0.2,shuffle=True)"
   ]
  },
  {
   "cell_type": "code",
   "execution_count": 109,
   "metadata": {},
   "outputs": [
    {
     "data": {
      "text/plain": [
       "2"
      ]
     },
     "execution_count": 109,
     "metadata": {},
     "output_type": "execute_result"
    }
   ],
   "source": [
    "train_data.ndim"
   ]
  },
  {
   "cell_type": "code",
   "execution_count": 110,
   "metadata": {},
   "outputs": [
    {
     "data": {
      "text/plain": [
       "(273600, 132)"
      ]
     },
     "execution_count": 110,
     "metadata": {},
     "output_type": "execute_result"
    }
   ],
   "source": [
    "train_data.shape"
   ]
  },
  {
   "cell_type": "code",
   "execution_count": 111,
   "metadata": {},
   "outputs": [
    {
     "data": {
      "text/plain": [
       "array([0.35320744, 0.25901879, 0.04709433, 0.        , 0.        ,\n",
       "       0.        , 0.        , 0.        , 0.        , 0.        ,\n",
       "       0.        , 0.00392453, 0.        , 0.        , 0.        ,\n",
       "       0.00392453, 0.        , 0.        , 0.        , 0.        ,\n",
       "       0.        , 0.        , 0.        , 0.        , 0.00392453,\n",
       "       0.        , 0.        , 0.        , 0.        , 0.        ,\n",
       "       0.00784905, 0.12950939, 0.30218859, 0.23547163, 0.21192446,\n",
       "       0.10988676, 0.01569811, 0.00392453, 0.        , 0.00784905,\n",
       "       0.        , 0.        , 0.        , 0.00392453, 0.        ,\n",
       "       0.        , 0.        , 0.        , 0.00392453, 0.00392453,\n",
       "       0.        , 0.        , 0.        , 0.        , 0.        ,\n",
       "       0.00392453, 0.        , 0.        , 0.        , 0.        ,\n",
       "       0.        , 0.        , 0.        , 0.        , 0.        ,\n",
       "       0.00392453, 0.        , 0.        , 0.        , 0.        ,\n",
       "       0.00392453, 0.        , 0.00392453, 0.00392453, 0.06279243,\n",
       "       0.09811318, 0.25901879, 0.20015088, 0.12558487, 0.05886791,\n",
       "       0.01962264, 0.        , 0.        , 0.00784905, 0.        ,\n",
       "       0.        , 0.        , 0.        , 0.        , 0.00392453,\n",
       "       0.        , 0.        , 0.        , 0.00392453, 0.        ,\n",
       "       0.        , 0.        , 0.        , 0.        , 0.        ,\n",
       "       0.        , 0.        , 0.        , 0.        , 0.00392453,\n",
       "       0.        , 0.00392453, 0.00392453, 0.01177358, 0.30611311,\n",
       "       0.47879231, 0.09418865, 0.        , 0.00392453, 0.        ,\n",
       "       0.00392453, 0.        , 0.        , 0.        , 0.        ,\n",
       "       0.00392453, 0.        , 0.        , 0.        , 0.00784905,\n",
       "       0.        , 0.00392453, 0.00392453, 0.05494338, 0.18445277,\n",
       "       0.15305656, 0.22762257])"
      ]
     },
     "execution_count": 111,
     "metadata": {},
     "output_type": "execute_result"
    }
   ],
   "source": [
    "train_data[0]"
   ]
  },
  {
   "cell_type": "code",
   "execution_count": 112,
   "metadata": {},
   "outputs": [],
   "source": [
    "log_dir = \"logs/fit/\" + \"O-PPAC_FCNN\" + \"RMSprop0.001,mse,no_dropout,1dense128,relu\"\n",
    "tensorboard_callback = tf.keras.callbacks.TensorBoard(log_dir=log_dir, histogram_freq=1, profile_batch = 0)"
   ]
  },
  {
   "cell_type": "code",
   "execution_count": 113,
   "metadata": {},
   "outputs": [],
   "source": [
    "callback = tf.keras.callbacks.EarlyStopping(monitor='val_loss', patience=10)"
   ]
  },
  {
   "cell_type": "code",
   "execution_count": 129,
   "metadata": {},
   "outputs": [],
   "source": [
    "FCNN_model = tf.keras.Sequential()\n",
    "FCNN_model.add(layers.Dense(256, activation='relu', input_shape = [132]))\n",
    "FCNN_model.add(layers.Dense(256, activation = 'relu'))\n",
    "#FCNN_model.add(layers.Dropout(0.5))\n",
    "FCNN_model.add(layers.Dense(2, activation = 'linear'))"
   ]
  },
  {
   "cell_type": "code",
   "execution_count": 130,
   "metadata": {},
   "outputs": [],
   "source": [
    "FCNN_model.compile(optimizer = tf.keras.optimizers.RMSprop(learning_rate=0.001), \n",
    "              loss = 'mse', \n",
    "              metrics=['mae', 'mse'])"
   ]
  },
  {
   "cell_type": "code",
   "execution_count": 131,
   "metadata": {},
   "outputs": [
    {
     "name": "stdout",
     "output_type": "stream",
     "text": [
      "Epoch 1/10\n",
      "5985/5985 [==============================] - 17s 3ms/step - loss: 20.3753 - mae: 2.5348 - mse: 20.3753 - val_loss: 4.0675 - val_mae: 1.5249 - val_mse: 4.0675\n",
      "Epoch 2/10\n",
      "5985/5985 [==============================] - 18s 3ms/step - loss: 2.5137 - mae: 1.1333 - mse: 2.5137 - val_loss: 1.7855 - val_mae: 0.9311 - val_mse: 1.7855\n",
      "Epoch 3/10\n",
      "5985/5985 [==============================] - 15s 2ms/step - loss: 1.7725 - mae: 0.9451 - mse: 1.7725 - val_loss: 1.8088 - val_mae: 0.9540 - val_mse: 1.8088\n",
      "Epoch 4/10\n",
      "5985/5985 [==============================] - 14s 2ms/step - loss: 1.4408 - mae: 0.8425 - mse: 1.4408 - val_loss: 1.4462 - val_mae: 0.8477 - val_mse: 1.4462\n",
      "Epoch 5/10\n",
      "5985/5985 [==============================] - 14s 2ms/step - loss: 1.2492 - mae: 0.7797 - mse: 1.2492 - val_loss: 1.2011 - val_mae: 0.7438 - val_mse: 1.2011\n",
      "Epoch 6/10\n",
      "5985/5985 [==============================] - 16s 3ms/step - loss: 1.1227 - mae: 0.7335 - mse: 1.1227 - val_loss: 0.9841 - val_mae: 0.6480 - val_mse: 0.9841\n",
      "Epoch 7/10\n",
      "5985/5985 [==============================] - 20s 3ms/step - loss: 1.0217 - mae: 0.6975 - mse: 1.0217 - val_loss: 1.0240 - val_mae: 0.6832 - val_mse: 1.0240\n",
      "Epoch 8/10\n",
      "5985/5985 [==============================] - 17s 3ms/step - loss: 0.9452 - mae: 0.6664 - mse: 0.9452 - val_loss: 0.8762 - val_mae: 0.5983 - val_mse: 0.8762\n",
      "Epoch 9/10\n",
      "5985/5985 [==============================] - 17s 3ms/step - loss: 0.8837 - mae: 0.6443 - mse: 0.8837 - val_loss: 0.9247 - val_mae: 0.6406 - val_mse: 0.9247\n",
      "Epoch 10/10\n",
      "5985/5985 [==============================] - 18s 3ms/step - loss: 0.8350 - mae: 0.6218 - mse: 0.8350 - val_loss: 0.9744 - val_mae: 0.6704 - val_mse: 0.9744\n"
     ]
    }
   ],
   "source": [
    "FCNN_history = FCNN_model.fit(train_data, train_labels,\n",
    "                    epochs=10,\n",
    "                    batch_size = 32,\n",
    "                    callbacks = [callback],\n",
    "                    validation_split = 0.3 \n",
    "                    )"
   ]
  },
  {
   "cell_type": "code",
   "execution_count": 132,
   "metadata": {},
   "outputs": [
    {
     "data": {
      "text/plain": [
       "Text(0.5, 1.0, 'FCNN O-PPAC Loss Curve, Dropout 0, 2 Dense 256 Node, RMSprop 0.001, MSE, linear activation')"
      ]
     },
     "execution_count": 132,
     "metadata": {},
     "output_type": "execute_result"
    },
    {
     "data": {
      "image/png": "[encoded data removed]",
      "text/plain": [
       "<Figure size 432x288 with 1 Axes>"
      ]
     },
     "metadata": {
      "needs_background": "light"
     },
     "output_type": "display_data"
    }
   ],
   "source": [
    "plt.plot(FCNN_history.history['loss'], label='loss')\n",
    "plt.plot(FCNN_history.history['val_loss'], label = 'val_loss')\n",
    "plt.xlabel('Epoch')\n",
    "plt.ylabel('Loss')\n",
    "plt.ylim([0, 40])\n",
    "plt.legend(loc='upper right')\n",
    "plt.title(\"FCNN O-PPAC Loss Curve, Dropout 0, 2 Dense 256 Node, RMSprop 0.001, MSE, linear activation\")"
   ]
  },
  {
   "cell_type": "code",
   "execution_count": 121,
   "metadata": {},
   "outputs": [
    {
     "name": "stdout",
     "output_type": "stream",
     "text": [
      "2138/2138 - 3s - loss: 1.7188 - mae: 0.9432 - mse: 1.7188\n"
     ]
    }
   ],
   "source": [
    "result = FCNN_model.evaluate(test_data, test_labels, verbose=2)"
   ]
  },
  {
   "cell_type": "code",
   "execution_count": 122,
   "metadata": {},
   "outputs": [],
   "source": [
    "predictions = FCNN_model.predict(test_data)"
   ]
  },
  {
   "cell_type": "code",
   "execution_count": 123,
   "metadata": {},
   "outputs": [
    {
     "data": {
      "text/plain": [
       "[array([ 24., -20.])]"
      ]
     },
     "execution_count": 123,
     "metadata": {},
     "output_type": "execute_result"
    }
   ],
   "source": [
    "new_labels = []\n",
    "for i in range(test_labels.shape[0]):\n",
    "    new_labels.append([test_labels[i]])\n",
    "np.array(new_labels)\n",
    "new_labels[2]"
   ]
  },
  {
   "cell_type": "code",
   "execution_count": 124,
   "metadata": {},
   "outputs": [
    {
     "data": {
      "text/plain": [
       "Text(0.5, 1.0, 'FCNN O-PPAC Predictions vs True Values')"
      ]
     },
     "execution_count": 124,
     "metadata": {},
     "output_type": "execute_result"
    },
    {
     "data": {
      "image/png": "[encoded data removed]",
      "text/plain": [
       "<Figure size 432x288 with 1 Axes>"
      ]
     },
     "metadata": {
      "needs_background": "light"
     },
     "output_type": "display_data"
    }
   ],
   "source": [
    "a = plt.axes(aspect='equal')\n",
    "plt.scatter(test_labels, predictions)\n",
    "plt.xlabel('True Values')\n",
    "plt.ylabel('Predictions')\n",
    "lims = [-50, 50]\n",
    "plt.xlim(lims)\n",
    "plt.ylim(lims)\n",
    "_ = plt.plot(lims, lims)\n",
    "plt.title(\"FCNN O-PPAC Predictions vs True Values\")"
   ]
  },
  {
   "cell_type": "code",
   "execution_count": null,
   "metadata": {},
   "outputs": [],
   "source": []
  }
 ],
 "metadata": {
  "kernelspec": {
   "display_name": "Python 3",
   "language": "python",
   "name": "python3"
  },
  "language_info": {
   "codemirror_mode": {
    "name": "ipython",
    "version": 3
   },
   "file_extension": ".py",
   "mimetype": "text/x-python",
   "name": "python",
   "nbconvert_exporter": "python",
   "pygments_lexer": "ipython3",
   "version": "3.7.6"
  }
 },
 "nbformat": 4,
 "nbformat_minor": 4
}
