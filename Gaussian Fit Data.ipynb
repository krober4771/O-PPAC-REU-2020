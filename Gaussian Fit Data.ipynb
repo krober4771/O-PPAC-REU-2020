{
 "cells": [
  {
   "cell_type": "code",
   "execution_count": 11,
   "metadata": {},
   "outputs": [],
   "source": [
    "#first i need data from a previous run\n",
    "import tensorflow as tf\n",
    "from tensorflow.keras import datasets, layers, models, metrics, Model\n",
    "from tensorflow.keras.callbacks import Callback\n",
    "from scipy.stats import truncnorm\n",
    "from sklearn.model_selection import train_test_split\n",
    "from sklearn.metrics import classification_report\n",
    "from sklearn.preprocessing import normalize\n",
    "import tensorflow_docs as tfdocs\n",
    "import tensorflow_docs.plots\n",
    "import tensorflow_docs.modeling\n",
    "import numpy as np\n",
    "from numpy import *\n",
    "import pandas as pd\n",
    "import matplotlib.pyplot as plt\n",
    "import matplotlib.mlab as mlab\n",
    "import h5py\n",
    "import datetime\n",
    "from scipy.optimize import curve_fit\n",
    "import math\n",
    "from scipy import asarray as ar,exp\n",
    "import pylab as plb\n",
    "import tqdm\n",
    "from tqdm import tqdm\n",
    "import time\n",
    "import progressbar\n",
    "import sys"
   ]
  },
  {
   "cell_type": "code",
   "execution_count": 51,
   "metadata": {},
   "outputs": [],
   "source": [
    "#importing data from my other file so I'm not running over other kernels\n",
    "x1_peaks = np.load(\"x1_peaks_file_5.npy\")\n",
    "x2_peaks = np.load(\"x2_peaks_file_5.npy\")\n",
    "y1_peaks = np.load(\"y1_peaks_file_5.npy\")\n",
    "y2_peaks = np.load(\"y2_peaks_file_5.npy\")\n",
    "\n",
    "x1_peaks_XS = np.load(\"x1_peaks_file_VERY_SMALL.npy\")\n",
    "x2_peaks_XS = np.load(\"x2_peaks_file_VERY_SMALL.npy\")\n",
    "\n",
    "#need the labels as well; easier to work with in an array for the 2nd step of splitting between x and y\n",
    "test_labels = pd.read_pickle(\"test_labels_df_5\")\n",
    "test_labels_arr = test_labels.to_numpy()\n",
    "\n",
    "test_data = pd.read_pickle(\"test_data_df_5\")\n",
    "test_data_arr = test_data.to_numpy()\n",
    "\n",
    "x_label_test = test_labels_arr[ : , 0 ]\n",
    "y_label_test = test_labels_arr[ : , 1 ]\n",
    "\n",
    "x_label_test_XS = test_labels_arr[ :25 , 0 ]\n",
    "x1_data_test_XS = (test_data_arr[:25 , :33])*100\n",
    "x2_data_test_XS = (test_data_arr[:25, 33:66])*100\n",
    "\n",
    "x1_data_test = (test_data_arr[: , :33])*100\n",
    "x2_data_test = (test_data_arr[:, 33:66])*100\n",
    "y1_data_test = (test_data_arr[:, 66:99])*100\n",
    "y2_data_test = (test_data_arr[:, 99:132])*100"
   ]
  },
  {
   "cell_type": "code",
   "execution_count": 13,
   "metadata": {},
   "outputs": [],
   "source": [
    "def remove_error(arr1data, arr2data, arrlabels):\n",
    "    error_indices1 = np.where(arr1data == -5555 )\n",
    "    error_indices2 = np.where(arr2data == -5555 )\n",
    "        \n",
    "    arr1data_df = pd.DataFrame(arr1data)\n",
    "    arr2data_df = pd.DataFrame(arr2data)\n",
    "    arrlabels_df = pd.DataFrame(arrlabels)\n",
    "        \n",
    "    error_indices = np.unique(np.concatenate([error_indices1, error_indices2], axis = 1))\n",
    "        \n",
    "    arr1data_df_fixed = arr1data_df.drop(arr1data_df.index[error_indices])\n",
    "    arr2data_df_fixed = arr2data_df.drop(arr2data_df.index[error_indices])\n",
    "    arrlabels_df_fixed = arrlabels_df.drop(arrlabels_df.index[error_indices])\n",
    "        \n",
    "    arr1data_fixed = arr1data_df_fixed.to_numpy()\n",
    "    arr2data_fixed = arr2data_df_fixed.to_numpy()\n",
    "    arrlabels_fixed = arrlabels_df_fixed.to_numpy()\n",
    "        \n",
    "    return arr1data_fixed, arr2data_fixed, arrlabels_fixed"
   ]
  },
  {
   "cell_type": "code",
   "execution_count": 14,
   "metadata": {},
   "outputs": [],
   "source": [
    "#conversions from diode number to millimeters and vice versa\n",
    "#might need to be updated if Yassid sends a better method of converting\n",
    "def diodenum_to_mm(arr1data):\n",
    "    convert = []\n",
    "    for i in range(len(arr1data)):\n",
    "        mm = (arr1data[i] /33)*100 - 48\n",
    "        convert.append(mm)\n",
    "    return np.concatenate(convert)\n",
    "\n",
    "def mm_to_diodenum(arr1data):\n",
    "    convert = []\n",
    "    for i in range(len(arr1data)):\n",
    "        diodenum = ((arr1data[i] + 48)/100)*33\n",
    "        convert.append(diodenum)\n",
    "    return np.concatenate(convert)"
   ]
  },
  {
   "cell_type": "code",
   "execution_count": 15,
   "metadata": {},
   "outputs": [],
   "source": [
    "def average(arr1data, arr2data):\n",
    "    avg = (arr1data + arr2data)/2\n",
    "    return avg"
   ]
  },
  {
   "cell_type": "code",
   "execution_count": 47,
   "metadata": {},
   "outputs": [],
   "source": [
    "#gaussian fit function\n",
    "def gaussianpdf(x, k, sigma, mu):\n",
    "    return k*np.exp(-(x-mu)**2/(2*sigma**2))"
   ]
  },
  {
   "cell_type": "code",
   "execution_count": 54,
   "metadata": {},
   "outputs": [
    {
     "name": "stdout",
     "output_type": "stream",
     "text": [
      "[16.65324992 14.60061502  6.28803819 16.57177884 17.36082744 17.36089121\n",
      " 30.76003915 14.62747125 15.84656452 24.6089622  17.36087901 18.56806498\n",
      " 17.36084208 17.3608678  16.72631323 20.89421552 28.80205469 12.51158466\n",
      "  4.43802514 10.89933255 14.61139758 19.38219551 17.34966416 10.58704653\n",
      " 32.72174418]\n",
      "[-32.  -4. -20.   0. -40.  36.  28.  -4. -28.  16.  40.   4. -40. -40.\n",
      "   0.   8.  24.  -8. -24. -12.  -4.  40.  32. -12.  32.]\n"
     ]
    }
   ],
   "source": [
    "fixed_x_peaks_XS = remove_error(x1_peaks_XS, x2_peaks_XS, x_label_test_XS)\n",
    "\n",
    "fixed_x1_peaks_XS = fixed_x_peaks_XS[0]\n",
    "fixed_x2_peaks_XS = fixed_x_peaks_XS[1]\n",
    "fixed_x_labels_XS = fixed_x_peaks_XS[2].reshape(-1)\n",
    "\n",
    "x_peaks_XS = average(fixed_x1_peaks_XS, fixed_x2_peaks_XS)\n",
    "\n",
    "x_peaks_mm_XS = diodenum_to_mm(x_peaks_XS)\n",
    "print(x_peaks_mm_XS)\n",
    "print(fixed_x_labels_XS)\n",
    "\n",
    "\n",
    "x_data_XS = average(x1_data_test_XS,  x2_data_test_XS)"
   ]
  },
  {
   "cell_type": "code",
   "execution_count": 56,
   "metadata": {},
   "outputs": [
    {
     "name": "stdout",
     "output_type": "stream",
     "text": [
      "9.24\n",
      "[17.9150526]\n"
     ]
    }
   ],
   "source": [
    "#basic gaussian fit stuff; needs x and y inputs for all data points; index is both for the y data and for lower code\n",
    "index = 2\n",
    "x_x_XS = np.arange(0,33,1)\n",
    "y_x_bad_XS = x_data_XS[index,:]\n",
    "\n",
    "y_x_XS = squeeze(y_x_bad_XS)\n",
    "\n",
    "x_peak_value_XS = ((fixed_x_labels_XS[index]+48)/100)*33\n",
    "x_pred_peak_XS = x_peaks_XS[index]\n",
    "\n",
    "print(x_peak_value_XS)\n",
    "print(x_pred_peak_XS)"
   ]
  },
  {
   "cell_type": "code",
   "execution_count": 57,
   "metadata": {},
   "outputs": [
    {
     "data": {
      "text/plain": [
       "array([32.84837624,  0.97940026,  9.31871139])"
      ]
     },
     "execution_count": 57,
     "metadata": {},
     "output_type": "execute_result"
    }
   ],
   "source": [
    "#curve fit code; bounds might be able to be played with still to improve model (specifically sigma in index 1)\n",
    "#trying new stuff to better balance k based on the input data\n",
    "if np.max(y_x_XS) > 20:\n",
    "    kvalue = np.max(y_x_XS)-.1*(np.max(y_x_XS))\n",
    "else:\n",
    "    kvalue = np.max(y_x_XS)\n",
    "\n",
    "popt, _ = curve_fit(gaussianpdf, x_x_XS, y_x_XS, bounds=(0, [kvalue,7., 33.]))\n",
    "popt"
   ]
  },
  {
   "cell_type": "code",
   "execution_count": 59,
   "metadata": {},
   "outputs": [
    {
     "data": {
      "image/png": "[encoded data removed]",
      "text/plain": [
       "<Figure size 432x288 with 1 Axes>"
      ]
     },
     "metadata": {
      "needs_background": "light"
     },
     "output_type": "display_data"
    }
   ],
   "source": [
    "#having some weird problems with double brackets and stuff so this was the solution\n",
    "x1plot = (x_data_XS[index, :])\n",
    "\n",
    "plt.title('Problem Location Example')\n",
    "plt.plot(x1plot)\n",
    "plt.plot(x_x1, gaussianpdf(x_x1, *popt), 'g--', label='fit: k=%5.2f, sigma=%5.2f, mu=%5.2f' % tuple(popt))\n",
    "plt.axvline(x = x_peak_value_XS, color = \"magenta\", linewidth=1, label='True Peak= %5.1f' % x_peak_value_XS)\n",
    "plt.axvline(x = x_pred_peak_XS, color = \"red\", linewidth=1, linestyle='dashdot', label='Pred Peak = %5.1f' % x_pred_peak_XS)\n",
    "plt.xlabel('Diode Number')\n",
    "plt.ylabel('Number of Detected Photons')\n",
    "plt.legend(bbox_to_anchor=(1.05, 1), loc='upper left', borderaxespad=0.)\n",
    "plt.show()"
   ]
  },
  {
   "cell_type": "code",
   "execution_count": 41,
   "metadata": {},
   "outputs": [
    {
     "data": {
      "image/png": "[encoded data removed]",
      "text/plain": [
       "<Figure size 432x288 with 1 Axes>"
      ]
     },
     "metadata": {
      "needs_background": "light"
     },
     "output_type": "display_data"
    }
   ],
   "source": [
    "num_bins_x = 80\n",
    "# the histogram of the data\n",
    "n, bins, patches = plt.hist(x_peaks_mm_XS, num_bins_x, density=1, facecolor='blue', alpha=0.5, label = 'Pred Peaks')\n",
    "\n",
    "#n, bins, patches = plt.hist(fixed_x2_peaks, num_bins_x, density=1, facecolor='red', alpha=0.5)\n",
    "\n",
    "n, bins, patches = plt.hist(fixed_x_labels_XS, num_bins_x, density=1, facecolor='green', alpha=0.5, label = 'True Peaks')\n",
    "\n",
    "plt.xlabel('Event Position (mm)')\n",
    "plt.title(r'X Peak Distribution')\n",
    "plt.legend()\n",
    "plt.show()"
   ]
  },
  {
   "cell_type": "code",
   "execution_count": 16,
   "metadata": {},
   "outputs": [],
   "source": [
    "fixed_x_peaks = remove_error(x1_peaks, x2_peaks, x_label_test)\n",
    "\n",
    "fixed_x1_peaks = fixed_x_peaks[0]\n",
    "fixed_x2_peaks = fixed_x_peaks[1]\n",
    "fixed_x_labels = fixed_x_peaks[2].reshape(-1)\n",
    "\n",
    "x_peaks = average(fixed_x1_peaks, fixed_x2_peaks)"
   ]
  },
  {
   "cell_type": "code",
   "execution_count": 17,
   "metadata": {},
   "outputs": [
    {
     "name": "stdout",
     "output_type": "stream",
     "text": [
      "[-15.36463063  -3.40185126 -19.90762544 ...  16.49809916 -15.92425282\n",
      "   1.99992526]\n"
     ]
    }
   ],
   "source": [
    "x_peaks_mm = diodenum_to_mm(x_peaks)\n",
    "print(x_peaks_mm)"
   ]
  },
  {
   "cell_type": "code",
   "execution_count": 18,
   "metadata": {},
   "outputs": [
    {
     "data": {
      "image/png": "[encoded data removed]",
      "text/plain": [
       "<Figure size 432x288 with 1 Axes>"
      ]
     },
     "metadata": {
      "needs_background": "light"
     },
     "output_type": "display_data"
    }
   ],
   "source": [
    "num_bins_x = 80\n",
    "# the histogram of the data\n",
    "n, bins, patches = plt.hist(x_peaks_mm, num_bins_x, density=1, facecolor='blue', alpha=0.5, label = 'Pred Peaks')\n",
    "\n",
    "#n, bins, patches = plt.hist(fixed_x2_peaks, num_bins_x, density=1, facecolor='red', alpha=0.5)\n",
    "\n",
    "n, bins, patches = plt.hist(fixed_x_labels, num_bins_x, density=1, facecolor='green', alpha=0.5, label = 'True Peaks')\n",
    "\n",
    "plt.xlabel('Event Position (mm)')\n",
    "plt.title(r'X Peak Distribution')\n",
    "plt.legend()\n",
    "plt.show()"
   ]
  },
  {
   "cell_type": "code",
   "execution_count": 19,
   "metadata": {},
   "outputs": [
    {
     "data": {
      "image/png": "[encoded data removed]",
      "text/plain": [
       "<Figure size 432x288 with 1 Axes>"
      ]
     },
     "metadata": {
      "needs_background": "light"
     },
     "output_type": "display_data"
    }
   ],
   "source": [
    "#graph showing the accuracy of fit by comparing predicted and true x values\n",
    "#should be as close to the diagonal as possible\n",
    "\n",
    "a = plt.axes(aspect='equal')\n",
    "\n",
    "plt.scatter(x_peaks_mm, fixed_x_labels, s=6, marker = \".\")\n",
    "plt.xlabel('True Values')\n",
    "plt.ylabel('Predictions')\n",
    "lims = [-50, 50]\n",
    "plt.xlim(lims)\n",
    "plt.ylim(lims)\n",
    "_ = plt.plot(lims, lims, linewidth = .5)\n",
    "plt.title(\"Gaussian Fit O-PPAC X Predictions vs True X Values\")\n",
    "plt.show()"
   ]
  },
  {
   "cell_type": "code",
   "execution_count": 20,
   "metadata": {},
   "outputs": [
    {
     "name": "stdout",
     "output_type": "stream",
     "text": [
      "(66268,)\n",
      "(66268,)\n"
     ]
    }
   ],
   "source": [
    "print(x_peaks_mm.shape)\n",
    "\n",
    "\n",
    "#fixed_x_labels = fixed_x_labels.reshape(-1)\n",
    "print(fixed_x_labels.shape)"
   ]
  },
  {
   "cell_type": "code",
   "execution_count": 21,
   "metadata": {},
   "outputs": [
    {
     "data": {
      "image/png": "[encoded data removed]",
      "text/plain": [
       "<Figure size 432x288 with 1 Axes>"
      ]
     },
     "metadata": {
      "needs_background": "light"
     },
     "output_type": "display_data"
    }
   ],
   "source": [
    "#reads through every data point from the FCNN and compares to the true value by finding the difference between the two\n",
    "x_error_g = x_peaks_mm - fixed_x_labels\n",
    "\n",
    "\n",
    "#this takes all the points with error greater than 1 mm\n",
    "#one can then see the number of points with large error + use lower code to see where/what they are\n",
    "error_list_x_g = [i for i in x_error_g if abs(i) <= 5]\n",
    "\n",
    "#print(error_list_y_g)\n",
    "#error_list_x_g = np.concatenate(error_list_x_g, axis = 0)\n",
    "\n",
    "num_bins_x = 81\n",
    "# the histogram of the data\n",
    "n, bins, patches = plt.hist(error_list_x_g, num_bins_x, density=1, facecolor='blue', alpha=0.5)\n",
    "\n",
    "plt.xlabel('X Error (real - pred)')\n",
    "plt.title(r'X Residual')\n",
    "plt.show()"
   ]
  },
  {
   "cell_type": "code",
   "execution_count": null,
   "metadata": {},
   "outputs": [],
   "source": []
  },
  {
   "cell_type": "code",
   "execution_count": 22,
   "metadata": {},
   "outputs": [
    {
     "name": "stdout",
     "output_type": "stream",
     "text": [
      "63432\n",
      "[ 60.25019739  59.67599091  59.24971446 ... -26.50154348 -26.50945357\n",
      " -26.97420635]\n"
     ]
    }
   ],
   "source": [
    "#to find the locations of largest error within my predicted x values\n",
    "#reads through every data point from the FCNN and compares to the true value by finding the difference between the two\n",
    "\n",
    "x_error = []\n",
    "#reads through every data point from the FCNN and compares to the true value by finding the difference between the two\n",
    "for i in range(x_peaks.shape[0]):\n",
    "    x_error_test = x_peaks[i] - fixed_x_labels[i]\n",
    "    x_error.append(x_error_test)\n",
    "    \n",
    "x_error_fix = np.concatenate(x_error)\n",
    "x_error_fix = np.array(x_error_fix)\n",
    "\n",
    "#this takes all the points with error greater than 1 mm\n",
    "#one can then see the number of points with large error + use lower code to see where/what they are\n",
    "xerror_list = [i for i in x_error if abs(i) >= 1]\n",
    "xerror_list.sort(reverse = True)\n",
    "xerror_list = np.concatenate(xerror_list, axis=0)\n",
    "print(len(xerror_list))\n",
    "print(xerror_list) #only uncomment if you want to see the actual error values"
   ]
  },
  {
   "cell_type": "code",
   "execution_count": 24,
   "metadata": {},
   "outputs": [
    {
     "name": "stdout",
     "output_type": "stream",
     "text": [
      "(array([56506], dtype=int64),)\n",
      "-16.0\n",
      "10.672812692631123\n"
     ]
    }
   ],
   "source": [
    "#graph the location of areas with larger x-error; uses unshuffled data from above\n",
    "bad_xvalue = 60.25019739            \n",
    "x_test_locat = np.where(np.isclose(x_error_fix, bad_xvalue))\n",
    "print(x_test_locat)\n",
    "\n",
    "x_peak_value = ((x_label_test[x_test_locat[0]][0]+48)/100)*33\n",
    "x_pred_peak = x_peaks[x_test_locat]\n",
    "\n",
    "print(x_label_test[x_test_locat[0]][0])\n",
    "print((x1_peaks[x_test_locat[0]][0] + x2_peaks[x_test_locat[0]][0])/2) "
   ]
  },
  {
   "cell_type": "code",
   "execution_count": 25,
   "metadata": {},
   "outputs": [],
   "source": []
  },
  {
   "cell_type": "code",
   "execution_count": 26,
   "metadata": {},
   "outputs": [
    {
     "name": "stdout",
     "output_type": "stream",
     "text": [
      "[[[ 0.          0.          0.          0.          0.\n",
      "    0.71623885  0.35811942  1.07435827  4.2974331  11.10170216\n",
      "   16.11537411 18.26409065 10.38546331 11.45982159  1.79059712\n",
      "    0.35811942  0.35811942  0.          0.          0.\n",
      "    0.35811942  0.35811942  0.35811942  0.          0.35811942\n",
      "    0.          0.          0.          0.          0.\n",
      "    0.          0.          0.        ]]]\n"
     ]
    }
   ],
   "source": [
    "#basic gaussian fit stuff; needs x and y inputs for all data points; index is both for the y data and for lower code\n",
    "index = x_test_locat\n",
    "x_x1 = np.arange(0,33,1)\n",
    "y_x1_bad = x1_data_test[index,:]\n",
    "\n",
    "y_x1 = squeeze(y_x1_bad)\n",
    "\n",
    "print(y_x1_bad)"
   ]
  },
  {
   "cell_type": "code",
   "execution_count": 27,
   "metadata": {},
   "outputs": [
    {
     "data": {
      "text/plain": [
       "array([17.50330258,  1.74976617, 10.76045166])"
      ]
     },
     "execution_count": 27,
     "metadata": {},
     "output_type": "execute_result"
    }
   ],
   "source": [
    "#curve fit code; bounds might be able to be played with still to improve model (specifically sigma in index 1)\n",
    "#trying new stuff to better balance k based on the input data\n",
    "if np.max(y_x1) > 20:\n",
    "    kvalue = np.max(y_x1)-.1*(np.max(y_x1))\n",
    "else:\n",
    "    kvalue = np.max(y_x1)\n",
    "\n",
    "popt, _ = curve_fit(func, x_x1, y_x1, bounds=(0, [kvalue,7., 33.]))\n",
    "popt"
   ]
  },
  {
   "cell_type": "code",
   "execution_count": 28,
   "metadata": {},
   "outputs": [
    {
     "data": {
      "image/png": "[encoded data removed]",
      "text/plain": [
       "<Figure size 432x288 with 1 Axes>"
      ]
     },
     "metadata": {
      "needs_background": "light"
     },
     "output_type": "display_data"
    }
   ],
   "source": [
    "#having some weird problems with double brackets and stuff so this was the solution\n",
    "x1plot = (x1_data_test[x_test_locat[0], :])\n",
    "\n",
    "plt.title('Problem Location Example')\n",
    "plt.plot(x1plot[0])\n",
    "plt.plot(x_x1, func(x_x1, *popt), 'g--', label='fit: k=%5.2f, sigma=%5.2f, mu=%5.2f' % tuple(popt))\n",
    "plt.axvline(x = x_peak_value, color = \"magenta\", linewidth=1, label='True Peak= %5.1f' % x_peak_value)\n",
    "plt.axvline(x = x_peaks[x_test_locat], color = \"red\", linewidth=1, linestyle='dashdot', label='Pred Peak = %5.1f' % x_peaks[x_test_locat])\n",
    "plt.xlabel('Diode Number')\n",
    "plt.ylabel('Number of Detected Photons')\n",
    "plt.legend(bbox_to_anchor=(1.05, 1), loc='upper left', borderaxespad=0.)\n",
    "plt.show()"
   ]
  },
  {
   "cell_type": "code",
   "execution_count": null,
   "metadata": {},
   "outputs": [],
   "source": []
  },
  {
   "cell_type": "code",
   "execution_count": 29,
   "metadata": {},
   "outputs": [],
   "source": [
    "#now to work on the y values"
   ]
  },
  {
   "cell_type": "code",
   "execution_count": 30,
   "metadata": {},
   "outputs": [],
   "source": [
    "fixed_y_peaks = remove_error(y1_peaks, y2_peaks, y_label_test)\n",
    "\n",
    "fixed_y1_peaks = fixed_y_peaks[0]\n",
    "fixed_y2_peaks = fixed_y_peaks[1]\n",
    "fixed_y_labels = fixed_y_peaks[2].reshape(-1)\n",
    "\n",
    "y_peaks = average(fixed_y1_peaks, fixed_y2_peaks)"
   ]
  },
  {
   "cell_type": "code",
   "execution_count": 31,
   "metadata": {},
   "outputs": [
    {
     "name": "stdout",
     "output_type": "stream",
     "text": [
      "[-14.16430628  -7.74384386  24.71874469 ...   0.0837415    8.49993962\n",
      "   0.49290926]\n"
     ]
    }
   ],
   "source": [
    "y_peaks_mm = diodenum_to_mm(y_peaks)\n",
    "print(y_peaks_mm)"
   ]
  },
  {
   "cell_type": "code",
   "execution_count": 32,
   "metadata": {},
   "outputs": [
    {
     "data": {
      "image/png": "[encoded data removed]",
      "text/plain": [
       "<Figure size 432x288 with 1 Axes>"
      ]
     },
     "metadata": {
      "needs_background": "light"
     },
     "output_type": "display_data"
    }
   ],
   "source": [
    "num_bins_x = 80\n",
    "# the histogram of the data\n",
    "n, bins, patches = plt.hist(y_peaks_mm, num_bins_x, density=1, facecolor='blue', alpha=0.5, label= 'Pred Peak')\n",
    "\n",
    "#n, bins, patches = plt.hist(fixed_x2_peaks, num_bins_x, density=1, facecolor='red', alpha=0.5)\n",
    "\n",
    "n, bins, patches = plt.hist(fixed_x_labels, num_bins_x, density=1, facecolor='green', alpha=0.5, Label = \"True Peak\")\n",
    "\n",
    "plt.xlabel('Event Position (mm)')\n",
    "plt.title(r'Y Peak Distribution')\n",
    "plt.legend()\n",
    "plt.show()"
   ]
  },
  {
   "cell_type": "code",
   "execution_count": null,
   "metadata": {},
   "outputs": [],
   "source": []
  },
  {
   "cell_type": "code",
   "execution_count": null,
   "metadata": {},
   "outputs": [],
   "source": []
  },
  {
   "cell_type": "code",
   "execution_count": null,
   "metadata": {},
   "outputs": [],
   "source": []
  },
  {
   "cell_type": "code",
   "execution_count": null,
   "metadata": {},
   "outputs": [],
   "source": []
  },
  {
   "cell_type": "code",
   "execution_count": 33,
   "metadata": {},
   "outputs": [
    {
     "data": {
      "image/png": "[encoded data removed]",
      "text/plain": [
       "<Figure size 432x288 with 1 Axes>"
      ]
     },
     "metadata": {
      "needs_background": "light"
     },
     "output_type": "display_data"
    }
   ],
   "source": [
    "#graph showing the accuracy of fit by comparing predicted and true x values\n",
    "#should be as close to the diagonal as possible\n",
    "new_y_labels_g = []\n",
    "for i in range(y_peaks.shape[0]):\n",
    "    new_y_labels_g.append([y_peaks_mm[i]])\n",
    "np.array(new_y_labels_g)\n",
    "\n",
    "a = plt.axes(aspect='equal')\n",
    "\n",
    "plt.scatter(new_y_labels_g, fixed_y_labels, s=6, marker = \"x\")\n",
    "plt.xlabel('True Values')\n",
    "plt.ylabel('Predictions')\n",
    "lims = [-50, 50]\n",
    "plt.xlim(lims)\n",
    "plt.ylim(lims)\n",
    "_ = plt.plot(lims, lims, linewidth = .5)\n",
    "plt.title(\"Gaussian Fit O-PPAC Y Predictions vs True Y Values\")\n",
    "plt.show()"
   ]
  },
  {
   "cell_type": "code",
   "execution_count": 34,
   "metadata": {},
   "outputs": [
    {
     "data": {
      "image/png": "[encoded data removed]",
      "text/plain": [
       "<Figure size 432x288 with 1 Axes>"
      ]
     },
     "metadata": {
      "needs_background": "light"
     },
     "output_type": "display_data"
    }
   ],
   "source": [
    "#reads through every data point from the FCNN and compares to the true value by finding the difference between the two\n",
    "y_error_g = y_peaks_mm - fixed_y_labels\n",
    "\n",
    "\n",
    "#this takes all the points with error greater than 1 mm\n",
    "#one can then see the number of points with large error + use lower code to see where/what they are\n",
    "error_list_y_g = [i for i in y_error_g if abs(i) <= 5]\n",
    "\n",
    "#print(error_list_y_g)\n",
    "#error_list_y_g = np.concatenate(error_list_y_g, axis = 0)\n",
    "\n",
    "num_bins_x = 81\n",
    "# the histogram of the data\n",
    "n, bins, patches = plt.hist(error_list_y_g, num_bins_x, density=1, facecolor='blue', alpha=0.5)\n",
    "\n",
    "plt.xlabel('Y Error (real - pred)')\n",
    "plt.title(r'Y Residual')\n",
    "plt.show()"
   ]
  },
  {
   "cell_type": "code",
   "execution_count": 35,
   "metadata": {},
   "outputs": [
    {
     "name": "stdout",
     "output_type": "stream",
     "text": [
      "18022\n"
     ]
    }
   ],
   "source": [
    "#to find the locations of largest error within my predicted x values\n",
    "#reads through every data point from the FCNN and compares to the true value by finding the difference between the two\n",
    "y_error = y_peaks_mm - fixed_y_labels\n",
    "\n",
    "#this takes all the points with error greater than 1 mm\n",
    "#one can then see the number of points with large error + use lower code to see where/what they are\n",
    "yerror_list = [i for i in y_error if abs(i) >= 1]\n",
    "yerror_list.sort(reverse = True)\n",
    "print(len(yerror_list))\n",
    "#print(yerror_list) #only uncomment if you want to see the actual error values"
   ]
  },
  {
   "cell_type": "code",
   "execution_count": null,
   "metadata": {},
   "outputs": [],
   "source": []
  },
  {
   "cell_type": "code",
   "execution_count": null,
   "metadata": {},
   "outputs": [],
   "source": []
  },
  {
   "cell_type": "code",
   "execution_count": null,
   "metadata": {},
   "outputs": [],
   "source": []
  }
 ],
 "metadata": {
  "kernelspec": {
   "display_name": "Python 3",
   "language": "python",
   "name": "python3"
  },
  "language_info": {
   "codemirror_mode": {
    "name": "ipython",
    "version": 3
   },
   "file_extension": ".py",
   "mimetype": "text/x-python",
   "name": "python",
   "nbconvert_exporter": "python",
   "pygments_lexer": "ipython3",
   "version": "3.7.6"
  }
 },
 "nbformat": 4,
 "nbformat_minor": 4
}
