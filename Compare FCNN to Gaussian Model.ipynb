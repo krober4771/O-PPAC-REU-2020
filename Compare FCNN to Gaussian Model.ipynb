{
 "cells": [
  {
   "cell_type": "code",
   "execution_count": 2,
   "metadata": {},
   "outputs": [],
   "source": [
    "#first i need data from a previous run\n",
    "import tensorflow as tf\n",
    "from tensorflow.keras import datasets, layers, models, metrics, Model\n",
    "from tensorflow.keras.callbacks import Callback\n",
    "from scipy.stats import truncnorm\n",
    "from sklearn.model_selection import train_test_split\n",
    "from sklearn.metrics import classification_report\n",
    "from sklearn.preprocessing import normalize\n",
    "import tensorflow_docs as tfdocs\n",
    "import tensorflow_docs.plots\n",
    "import tensorflow_docs.modeling\n",
    "import numpy as np\n",
    "from numpy import *\n",
    "import pandas as pd\n",
    "import matplotlib.pyplot as plt\n",
    "import matplotlib.mlab as mlab\n",
    "import h5py\n",
    "import datetime\n",
    "from scipy.optimize import curve_fit\n",
    "import math\n",
    "from scipy import asarray as ar,exp\n",
    "import pylab as plb\n",
    "import tqdm\n",
    "from tqdm import tqdm\n",
    "import time\n",
    "import progressbar"
   ]
  },
  {
   "cell_type": "code",
   "execution_count": 3,
   "metadata": {},
   "outputs": [
    {
     "name": "stdout",
     "output_type": "stream",
     "text": [
      "(991, 342, 132)\n"
     ]
    }
   ],
   "source": [
    "dataset = np.load(\"/home/roberts/O-PPAC/recomplied_dataset.npy\")\n",
    "all_data = dataset[ : , :132]\n",
    "all_labels = dataset[: , -2:]\n",
    "\n",
    "print(all_data.shape)\n",
    "print(all_labels.shape)"
   ]
  },
  {
   "cell_type": "code",
   "execution_count": 5,
   "metadata": {},
   "outputs": [
    {
     "name": "stdout",
     "output_type": "stream",
     "text": [
      "0.8395246220687987\n"
     ]
    }
   ],
   "source": [
    "all_data = normalize(all_data,axis = 1)\n",
    "print(np.max(all_data))"
   ]
  },
  {
   "cell_type": "code",
   "execution_count": 6,
   "metadata": {},
   "outputs": [
    {
     "name": "stdout",
     "output_type": "stream",
     "text": [
      "338922\n",
      "338922\n",
      "286\n",
      "338636\n",
      "338636\n"
     ]
    }
   ],
   "source": [
    "#define all_labels and all_data as df's to better view rows and add column\n",
    "all_labels = pd.DataFrame(all_labels)\n",
    "all_data = pd.DataFrame(all_data)\n",
    "all_data[\"sum\"] = np.sum(all_data, axis = 1) #column added to find rows with only 0's\n",
    "\n",
    "#confirming number of initial entries\n",
    "print(len(all_labels))\n",
    "print(len(all_data))\n",
    "\n",
    "#find all the locations in all_data (by index) where the only values are 0 across the diodes\n",
    "remove_labels = list(all_data[all_data[\"sum\"] == 0].index)\n",
    "print(len(remove_labels))\n",
    "\n",
    "#added these to ensure I have unshuffled versions of the data and labels for finding locations with larger error\n",
    "unshuf_labels = all_labels.drop(all_labels.index[remove_labels])\n",
    "unshuf_data = all_data[all_data[\"sum\"] != 0]\n",
    "\n",
    "#lets all_labels and all_data start with the same indices and values as their unshuffled counterparts\n",
    "all_labels = unshuf_labels\n",
    "unshuf_labels = unshuf_labels.to_numpy() #dfs are hard to graph with, so I converted to np.arrays for future use\n",
    "all_data = unshuf_data\n",
    "unshuf_data = unshuf_data.to_numpy()\n",
    "\n",
    "#confirm new number of entries (should be len(remove_labels) less than the intital value)\n",
    "print(len(all_labels))\n",
    "print(len(all_data))\n",
    "\n",
    "#must remove the sum column before using in FCNN; otherwise it will treat it as a data point \n",
    "del all_data['sum']"
   ]
  },
  {
   "cell_type": "code",
   "execution_count": 7,
   "metadata": {},
   "outputs": [],
   "source": [
    "train_data, test_data, train_labels, test_labels = train_test_split(all_data, all_labels, test_size=0.2,shuffle=True)\n",
    "#splits training and test data for the FCNN; 20% set aside for testing"
   ]
  },
  {
   "cell_type": "code",
   "execution_count": 8,
   "metadata": {},
   "outputs": [],
   "source": [
    "test_data.to_pickle(\"test_data_df_5\")\n",
    "test_labels.to_pickle(\"test_labels_df_5\")\n",
    "\n",
    "#df = pd.read_pickle(file_name)\n",
    "#to read back in"
   ]
  },
  {
   "cell_type": "code",
   "execution_count": 9,
   "metadata": {},
   "outputs": [],
   "source": [
    "#early stopping mechanism; can increase amount of time before stopping by increasing patience\n",
    "callback = tf.keras.callbacks.EarlyStopping(monitor='val_loss', patience=10)"
   ]
  },
  {
   "cell_type": "code",
   "execution_count": 10,
   "metadata": {},
   "outputs": [],
   "source": [
    "#Fully connected neural network\n",
    "#the \"layers\" are the dense hidden layers which are fully connected\n",
    "#first number changes the nodes, 2nd is the activation function, (first line has number of inputs as well)\n",
    "\n",
    "FCNN_model = tf.keras.Sequential()\n",
    "FCNN_model.add(layers.Dense(256, activation='relu', input_shape = [132]))\n",
    "FCNN_model.add(layers.Dense(256, activation = 'relu'))\n",
    "#FCNN_model.add(layers.Dense(128, activation = 'relu'))\n",
    "#FCNN_model.add(layers.Dense(128, activation = 'relu'))\n",
    "#FCNN_model.add(layers.Dropout(0.2))\n",
    "FCNN_model.add(layers.Dense(2, activation = 'linear'))"
   ]
  },
  {
   "cell_type": "code",
   "execution_count": 11,
   "metadata": {},
   "outputs": [],
   "source": [
    "#compiles the FCNN and includes the learning rate as well\n",
    "FCNN_model.compile(optimizer = tf.keras.optimizers.Adam(learning_rate=0.001), \n",
    "              loss = 'mse', \n",
    "              metrics=['mae', 'mse'])"
   ]
  },
  {
   "cell_type": "code",
   "execution_count": 12,
   "metadata": {},
   "outputs": [
    {
     "name": "stdout",
     "output_type": "stream",
     "text": [
      "Epoch 1/120\n",
      "5927/5927 [==============================] - 21s 4ms/step - loss: 4.5644 - mae: 0.6889 - mse: 4.5644 - val_loss: 0.2534 - val_mae: 0.4008 - val_mse: 0.2534\n",
      "Epoch 2/120\n",
      "5927/5927 [==============================] - 20s 3ms/step - loss: 0.1813 - mae: 0.3281 - mse: 0.1813 - val_loss: 0.3599 - val_mae: 0.5016 - val_mse: 0.3599\n",
      "Epoch 3/120\n",
      "5927/5927 [==============================] - 21s 4ms/step - loss: 0.1207 - mae: 0.2702 - mse: 0.1207 - val_loss: 0.1090 - val_mae: 0.2624 - val_mse: 0.1090\n",
      "Epoch 4/120\n",
      "5927/5927 [==============================] - 21s 4ms/step - loss: 0.0883 - mae: 0.2317 - mse: 0.0883 - val_loss: 0.0764 - val_mae: 0.2199 - val_mse: 0.0764\n",
      "Epoch 5/120\n",
      "5927/5927 [==============================] - 22s 4ms/step - loss: 0.0719 - mae: 0.2092 - mse: 0.0719 - val_loss: 0.0717 - val_mae: 0.2102 - val_mse: 0.0717\n",
      "Epoch 6/120\n",
      "5927/5927 [==============================] - 22s 4ms/step - loss: 0.0596 - mae: 0.1906 - mse: 0.0596 - val_loss: 0.0540 - val_mae: 0.1844 - val_mse: 0.0540\n",
      "Epoch 7/120\n",
      "5927/5927 [==============================] - 22s 4ms/step - loss: 0.0520 - mae: 0.1776 - mse: 0.0520 - val_loss: 0.0445 - val_mae: 0.1696 - val_mse: 0.0445\n",
      "Epoch 8/120\n",
      "5927/5927 [==============================] - 29s 5ms/step - loss: 0.0447 - mae: 0.1641 - mse: 0.0447 - val_loss: 0.0527 - val_mae: 0.1764 - val_mse: 0.0527\n",
      "Epoch 9/120\n",
      "5927/5927 [==============================] - 31s 5ms/step - loss: 0.0396 - mae: 0.1539 - mse: 0.0396 - val_loss: 0.0400 - val_mae: 0.1555 - val_mse: 0.0400\n",
      "Epoch 10/120\n",
      "5927/5927 [==============================] - 23s 4ms/step - loss: 0.0346 - mae: 0.1432 - mse: 0.0346 - val_loss: 0.0448 - val_mae: 0.1711 - val_mse: 0.0448\n",
      "Epoch 11/120\n",
      "5927/5927 [==============================] - 23s 4ms/step - loss: 0.0316 - mae: 0.1360 - mse: 0.0316 - val_loss: 0.0303 - val_mae: 0.1335 - val_mse: 0.0303\n",
      "Epoch 12/120\n",
      "5927/5927 [==============================] - 22s 4ms/step - loss: 0.0286 - mae: 0.1289 - mse: 0.0286 - val_loss: 0.0269 - val_mae: 0.1208 - val_mse: 0.0269\n",
      "Epoch 13/120\n",
      "5927/5927 [==============================] - 22s 4ms/step - loss: 0.0259 - mae: 0.1224 - mse: 0.0259 - val_loss: 0.0232 - val_mae: 0.1166 - val_mse: 0.0232\n",
      "Epoch 14/120\n",
      "5927/5927 [==============================] - 22s 4ms/step - loss: 0.0243 - mae: 0.1179 - mse: 0.0243 - val_loss: 0.0369 - val_mae: 0.1589 - val_mse: 0.0369\n",
      "Epoch 15/120\n",
      "5927/5927 [==============================] - 22s 4ms/step - loss: 0.0219 - mae: 0.1119 - mse: 0.0219 - val_loss: 0.0282 - val_mae: 0.1295 - val_mse: 0.0282\n",
      "Epoch 16/120\n",
      "5927/5927 [==============================] - 23s 4ms/step - loss: 0.0204 - mae: 0.1077 - mse: 0.0204 - val_loss: 0.0158 - val_mae: 0.0937 - val_mse: 0.0158\n",
      "Epoch 17/120\n",
      "5927/5927 [==============================] - 22s 4ms/step - loss: 0.0186 - mae: 0.1027 - mse: 0.0186 - val_loss: 0.0180 - val_mae: 0.1007 - val_mse: 0.0180\n",
      "Epoch 18/120\n",
      "5927/5927 [==============================] - 22s 4ms/step - loss: 0.0176 - mae: 0.0995 - mse: 0.0176 - val_loss: 0.0230 - val_mae: 0.1158 - val_mse: 0.0230\n",
      "Epoch 19/120\n",
      "5927/5927 [==============================] - 23s 4ms/step - loss: 0.0162 - mae: 0.0960 - mse: 0.0162 - val_loss: 0.0235 - val_mae: 0.1148 - val_mse: 0.0235\n",
      "Epoch 20/120\n",
      "5927/5927 [==============================] - 23s 4ms/step - loss: 0.0157 - mae: 0.0936 - mse: 0.0157 - val_loss: 0.0120 - val_mae: 0.0817 - val_mse: 0.0120\n",
      "Epoch 21/120\n",
      "5927/5927 [==============================] - 23s 4ms/step - loss: 0.0143 - mae: 0.0895 - mse: 0.0143 - val_loss: 0.0139 - val_mae: 0.0907 - val_mse: 0.0139\n",
      "Epoch 22/120\n",
      "5927/5927 [==============================] - 22s 4ms/step - loss: 0.0132 - mae: 0.0862 - mse: 0.0132 - val_loss: 0.0304 - val_mae: 0.1356 - val_mse: 0.0304\n",
      "Epoch 23/120\n",
      "5927/5927 [==============================] - 22s 4ms/step - loss: 0.0130 - mae: 0.0851 - mse: 0.0130 - val_loss: 0.0236 - val_mae: 0.1182 - val_mse: 0.0236\n",
      "Epoch 24/120\n",
      "5927/5927 [==============================] - 23s 4ms/step - loss: 0.0122 - mae: 0.0828 - mse: 0.0122 - val_loss: 0.0267 - val_mae: 0.1241 - val_mse: 0.0267\n",
      "Epoch 25/120\n",
      "5927/5927 [==============================] - 22s 4ms/step - loss: 0.0115 - mae: 0.0803 - mse: 0.0115 - val_loss: 0.0145 - val_mae: 0.0889 - val_mse: 0.0145\n",
      "Epoch 26/120\n",
      "5927/5927 [==============================] - 23s 4ms/step - loss: 0.0110 - mae: 0.0787 - mse: 0.0110 - val_loss: 0.0192 - val_mae: 0.1103 - val_mse: 0.0192\n",
      "Epoch 27/120\n",
      "5927/5927 [==============================] - 25s 4ms/step - loss: 0.0106 - mae: 0.0770 - mse: 0.0106 - val_loss: 0.0157 - val_mae: 0.0911 - val_mse: 0.0157\n",
      "Epoch 28/120\n",
      "5927/5927 [==============================] - 22s 4ms/step - loss: 0.0103 - mae: 0.0757 - mse: 0.0103 - val_loss: 0.0178 - val_mae: 0.0947 - val_mse: 0.0178\n",
      "Epoch 29/120\n",
      "5927/5927 [==============================] - 23s 4ms/step - loss: 0.0098 - mae: 0.0742 - mse: 0.0098 - val_loss: 0.0142 - val_mae: 0.0931 - val_mse: 0.0142\n",
      "Epoch 30/120\n",
      "5927/5927 [==============================] - 22s 4ms/step - loss: 0.0092 - mae: 0.0714 - mse: 0.0092 - val_loss: 0.0051 - val_mae: 0.0516 - val_mse: 0.0051\n",
      "Epoch 31/120\n",
      "5927/5927 [==============================] - 22s 4ms/step - loss: 0.0090 - mae: 0.0707 - mse: 0.0090 - val_loss: 0.0061 - val_mae: 0.0580 - val_mse: 0.0061\n",
      "Epoch 32/120\n",
      "5927/5927 [==============================] - 22s 4ms/step - loss: 0.0085 - mae: 0.0688 - mse: 0.0085 - val_loss: 0.0086 - val_mae: 0.0695 - val_mse: 0.0086\n",
      "Epoch 33/120\n",
      "5927/5927 [==============================] - 23s 4ms/step - loss: 0.0083 - mae: 0.0679 - mse: 0.0083 - val_loss: 0.0135 - val_mae: 0.0904 - val_mse: 0.0135\n",
      "Epoch 34/120\n",
      "5927/5927 [==============================] - 27s 4ms/step - loss: 0.0078 - mae: 0.0661 - mse: 0.0078 - val_loss: 0.0067 - val_mae: 0.0630 - val_mse: 0.0067\n",
      "Epoch 35/120\n",
      "5927/5927 [==============================] - 23s 4ms/step - loss: 0.0078 - mae: 0.0657 - mse: 0.0078 - val_loss: 0.0066 - val_mae: 0.0601 - val_mse: 0.0066\n",
      "Epoch 36/120\n",
      "5927/5927 [==============================] - 24s 4ms/step - loss: 0.0075 - mae: 0.0646 - mse: 0.0075 - val_loss: 0.0107 - val_mae: 0.0783 - val_mse: 0.0107\n",
      "Epoch 37/120\n",
      "5927/5927 [==============================] - 23s 4ms/step - loss: 0.0071 - mae: 0.0628 - mse: 0.0071 - val_loss: 0.0145 - val_mae: 0.0895 - val_mse: 0.0145\n",
      "Epoch 38/120\n",
      "5927/5927 [==============================] - 23s 4ms/step - loss: 0.0069 - mae: 0.0618 - mse: 0.0069 - val_loss: 0.0067 - val_mae: 0.0638 - val_mse: 0.0067\n",
      "Epoch 39/120\n",
      "5927/5927 [==============================] - 22s 4ms/step - loss: 0.0067 - mae: 0.0611 - mse: 0.0067 - val_loss: 0.0111 - val_mae: 0.0774 - val_mse: 0.0111\n",
      "Epoch 40/120\n",
      "5927/5927 [==============================] - 23s 4ms/step - loss: 0.0066 - mae: 0.0601 - mse: 0.0066 - val_loss: 0.0133 - val_mae: 0.0851 - val_mse: 0.0133\n",
      "Epoch 41/120\n",
      "5927/5927 [==============================] - 22s 4ms/step - loss: 0.0062 - mae: 0.0587 - mse: 0.0062 - val_loss: 0.0099 - val_mae: 0.0763 - val_mse: 0.0099\n",
      "Epoch 42/120\n",
      "5927/5927 [==============================] - 22s 4ms/step - loss: 0.0062 - mae: 0.0585 - mse: 0.0062 - val_loss: 0.0088 - val_mae: 0.0682 - val_mse: 0.0088\n",
      "Epoch 43/120\n",
      "5927/5927 [==============================] - 22s 4ms/step - loss: 0.0060 - mae: 0.0571 - mse: 0.0060 - val_loss: 0.0075 - val_mae: 0.0649 - val_mse: 0.0075\n",
      "Epoch 44/120\n",
      "5927/5927 [==============================] - 23s 4ms/step - loss: 0.0059 - mae: 0.0569 - mse: 0.0059 - val_loss: 0.0087 - val_mae: 0.0713 - val_mse: 0.0087\n",
      "Epoch 45/120\n",
      "5927/5927 [==============================] - 24s 4ms/step - loss: 0.0059 - mae: 0.0567 - mse: 0.0059 - val_loss: 0.0035 - val_mae: 0.0420 - val_mse: 0.0035\n",
      "Epoch 46/120\n",
      "5927/5927 [==============================] - 23s 4ms/step - loss: 0.0056 - mae: 0.0554 - mse: 0.0056 - val_loss: 0.0047 - val_mae: 0.0518 - val_mse: 0.0047\n",
      "Epoch 47/120\n",
      "5927/5927 [==============================] - 27s 5ms/step - loss: 0.0055 - mae: 0.0549 - mse: 0.0055 - val_loss: 0.0077 - val_mae: 0.0653 - val_mse: 0.0077\n",
      "Epoch 48/120\n",
      "5927/5927 [==============================] - 22s 4ms/step - loss: 0.0053 - mae: 0.0540 - mse: 0.0053 - val_loss: 0.0109 - val_mae: 0.0767 - val_mse: 0.0109\n",
      "Epoch 49/120\n",
      "5927/5927 [==============================] - 21s 4ms/step - loss: 0.0052 - mae: 0.0536 - mse: 0.0052 - val_loss: 0.0062 - val_mae: 0.0563 - val_mse: 0.0062\n",
      "Epoch 50/120\n",
      "5927/5927 [==============================] - 21s 4ms/step - loss: 0.0051 - mae: 0.0527 - mse: 0.0051 - val_loss: 0.0057 - val_mae: 0.0544 - val_mse: 0.0057\n",
      "Epoch 51/120\n",
      "5927/5927 [==============================] - 22s 4ms/step - loss: 0.0050 - mae: 0.0523 - mse: 0.0050 - val_loss: 0.0059 - val_mae: 0.0554 - val_mse: 0.0059\n",
      "Epoch 52/120\n",
      "5927/5927 [==============================] - 22s 4ms/step - loss: 0.0048 - mae: 0.0513 - mse: 0.0048 - val_loss: 0.0048 - val_mae: 0.0508 - val_mse: 0.0048\n",
      "Epoch 53/120\n",
      "5927/5927 [==============================] - 22s 4ms/step - loss: 0.0048 - mae: 0.0514 - mse: 0.0048 - val_loss: 0.0038 - val_mae: 0.0453 - val_mse: 0.0038\n",
      "Epoch 54/120\n",
      "5927/5927 [==============================] - 22s 4ms/step - loss: 0.0047 - mae: 0.0505 - mse: 0.0047 - val_loss: 0.0041 - val_mae: 0.0483 - val_mse: 0.0041\n",
      "Epoch 55/120\n",
      "5927/5927 [==============================] - 23s 4ms/step - loss: 0.0046 - mae: 0.0497 - mse: 0.0046 - val_loss: 0.0071 - val_mae: 0.0665 - val_mse: 0.0071\n",
      "Epoch 56/120\n",
      "5927/5927 [==============================] - 22s 4ms/step - loss: 0.0045 - mae: 0.0495 - mse: 0.0045 - val_loss: 0.0040 - val_mae: 0.0463 - val_mse: 0.0040\n",
      "Epoch 57/120\n",
      "5927/5927 [==============================] - 25s 4ms/step - loss: 0.0042 - mae: 0.0480 - mse: 0.0042 - val_loss: 0.0035 - val_mae: 0.0441 - val_mse: 0.0035\n",
      "Epoch 58/120\n",
      "5927/5927 [==============================] - 23s 4ms/step - loss: 0.0042 - mae: 0.0481 - mse: 0.0042 - val_loss: 0.0033 - val_mae: 0.0424 - val_mse: 0.0033\n",
      "Epoch 59/120\n",
      "5927/5927 [==============================] - 23s 4ms/step - loss: 0.0042 - mae: 0.0478 - mse: 0.0042 - val_loss: 0.0070 - val_mae: 0.0614 - val_mse: 0.0070\n",
      "Epoch 60/120\n",
      "5927/5927 [==============================] - 23s 4ms/step - loss: 0.0042 - mae: 0.0475 - mse: 0.0042 - val_loss: 0.0050 - val_mae: 0.0508 - val_mse: 0.0050\n",
      "Epoch 61/120\n",
      "5927/5927 [==============================] - 22s 4ms/step - loss: 0.0041 - mae: 0.0470 - mse: 0.0041 - val_loss: 0.0035 - val_mae: 0.0449 - val_mse: 0.0035\n",
      "Epoch 62/120\n",
      "5927/5927 [==============================] - 23s 4ms/step - loss: 0.0040 - mae: 0.0464 - mse: 0.0040 - val_loss: 0.0042 - val_mae: 0.0484 - val_mse: 0.0042\n",
      "Epoch 63/120\n",
      "5927/5927 [==============================] - 22s 4ms/step - loss: 0.0039 - mae: 0.0458 - mse: 0.0039 - val_loss: 0.0202 - val_mae: 0.1116 - val_mse: 0.0202\n",
      "Epoch 64/120\n",
      "5927/5927 [==============================] - 23s 4ms/step - loss: 0.0039 - mae: 0.0461 - mse: 0.0039 - val_loss: 0.0033 - val_mae: 0.0430 - val_mse: 0.0033\n",
      "Epoch 65/120\n",
      "5927/5927 [==============================] - 23s 4ms/step - loss: 0.0039 - mae: 0.0457 - mse: 0.0039 - val_loss: 0.0052 - val_mae: 0.0578 - val_mse: 0.0052\n",
      "Epoch 66/120\n",
      "5927/5927 [==============================] - 23s 4ms/step - loss: 0.0038 - mae: 0.0452 - mse: 0.0038 - val_loss: 0.0052 - val_mae: 0.0537 - val_mse: 0.0052\n",
      "Epoch 67/120\n",
      "5927/5927 [==============================] - 22s 4ms/step - loss: 0.0036 - mae: 0.0443 - mse: 0.0036 - val_loss: 0.0062 - val_mae: 0.0596 - val_mse: 0.0062\n",
      "Epoch 68/120\n",
      "5927/5927 [==============================] - 22s 4ms/step - loss: 0.0035 - mae: 0.0436 - mse: 0.0035 - val_loss: 0.0045 - val_mae: 0.0512 - val_mse: 0.0045\n",
      "Epoch 69/120\n",
      "5927/5927 [==============================] - 27s 5ms/step - loss: 0.0035 - mae: 0.0434 - mse: 0.0035 - val_loss: 0.0026 - val_mae: 0.0375 - val_mse: 0.0026\n",
      "Epoch 70/120\n",
      "5927/5927 [==============================] - 22s 4ms/step - loss: 0.0035 - mae: 0.0433 - mse: 0.0035 - val_loss: 0.0036 - val_mae: 0.0463 - val_mse: 0.0036\n",
      "Epoch 71/120\n",
      "5927/5927 [==============================] - 24s 4ms/step - loss: 0.0034 - mae: 0.0425 - mse: 0.0034 - val_loss: 0.0030 - val_mae: 0.0410 - val_mse: 0.0030\n",
      "Epoch 72/120\n",
      "5927/5927 [==============================] - 22s 4ms/step - loss: 0.0034 - mae: 0.0429 - mse: 0.0034 - val_loss: 0.0040 - val_mae: 0.0452 - val_mse: 0.0040\n",
      "Epoch 73/120\n",
      "5927/5927 [==============================] - 23s 4ms/step - loss: 0.0033 - mae: 0.0420 - mse: 0.0033 - val_loss: 0.0088 - val_mae: 0.0686 - val_mse: 0.0088\n",
      "Epoch 74/120\n",
      "5927/5927 [==============================] - 22s 4ms/step - loss: 0.0034 - mae: 0.0426 - mse: 0.0034 - val_loss: 0.0057 - val_mae: 0.0533 - val_mse: 0.0057\n",
      "Epoch 75/120\n",
      "5927/5927 [==============================] - 24s 4ms/step - loss: 0.0033 - mae: 0.0417 - mse: 0.0033 - val_loss: 0.0066 - val_mae: 0.0641 - val_mse: 0.0066\n",
      "Epoch 76/120\n",
      "5927/5927 [==============================] - 22s 4ms/step - loss: 0.0033 - mae: 0.0421 - mse: 0.0033 - val_loss: 0.0167 - val_mae: 0.0979 - val_mse: 0.0167\n",
      "Epoch 77/120\n",
      "5927/5927 [==============================] - 22s 4ms/step - loss: 0.0032 - mae: 0.0409 - mse: 0.0032 - val_loss: 0.0062 - val_mae: 0.0592 - val_mse: 0.0062\n",
      "Epoch 78/120\n",
      "5927/5927 [==============================] - 23s 4ms/step - loss: 0.0031 - mae: 0.0409 - mse: 0.0031 - val_loss: 0.0042 - val_mae: 0.0508 - val_mse: 0.0042\n",
      "Epoch 79/120\n",
      "5927/5927 [==============================] - 28s 5ms/step - loss: 0.0031 - mae: 0.0406 - mse: 0.0031 - val_loss: 0.0054 - val_mae: 0.0539 - val_mse: 0.0054\n",
      "Epoch 80/120\n",
      "5927/5927 [==============================] - 23s 4ms/step - loss: 0.0031 - mae: 0.0406 - mse: 0.0031 - val_loss: 0.0033 - val_mae: 0.0429 - val_mse: 0.0033\n",
      "Epoch 81/120\n",
      "5927/5927 [==============================] - 23s 4ms/step - loss: 0.0029 - mae: 0.0396 - mse: 0.0029 - val_loss: 0.0085 - val_mae: 0.0645 - val_mse: 0.0085\n",
      "Epoch 82/120\n",
      "5927/5927 [==============================] - 23s 4ms/step - loss: 0.0029 - mae: 0.0395 - mse: 0.0029 - val_loss: 0.0033 - val_mae: 0.0427 - val_mse: 0.0033\n",
      "Epoch 83/120\n",
      "5927/5927 [==============================] - 23s 4ms/step - loss: 0.0030 - mae: 0.0398 - mse: 0.0030 - val_loss: 0.0018 - val_mae: 0.0312 - val_mse: 0.0018\n",
      "Epoch 84/120\n",
      "5927/5927 [==============================] - 24s 4ms/step - loss: 0.0028 - mae: 0.0391 - mse: 0.0028 - val_loss: 0.0092 - val_mae: 0.0757 - val_mse: 0.0092\n",
      "Epoch 85/120\n",
      "5927/5927 [==============================] - 24s 4ms/step - loss: 0.0030 - mae: 0.0393 - mse: 0.0030 - val_loss: 0.0064 - val_mae: 0.0641 - val_mse: 0.0064\n",
      "Epoch 86/120\n",
      "5927/5927 [==============================] - 23s 4ms/step - loss: 0.0028 - mae: 0.0386 - mse: 0.0028 - val_loss: 0.0021 - val_mae: 0.0335 - val_mse: 0.0021\n",
      "Epoch 87/120\n",
      "5927/5927 [==============================] - 23s 4ms/step - loss: 0.0028 - mae: 0.0389 - mse: 0.0028 - val_loss: 0.0038 - val_mae: 0.0428 - val_mse: 0.0038\n",
      "Epoch 88/120\n",
      "5927/5927 [==============================] - 23s 4ms/step - loss: 0.0028 - mae: 0.0386 - mse: 0.0028 - val_loss: 0.0020 - val_mae: 0.0324 - val_mse: 0.0020\n",
      "Epoch 89/120\n",
      "5927/5927 [==============================] - 23s 4ms/step - loss: 0.0028 - mae: 0.0379 - mse: 0.0028 - val_loss: 0.0044 - val_mae: 0.0526 - val_mse: 0.0044\n",
      "Epoch 90/120\n",
      "5927/5927 [==============================] - 23s 4ms/step - loss: 0.0028 - mae: 0.0384 - mse: 0.0028 - val_loss: 0.0066 - val_mae: 0.0561 - val_mse: 0.0066\n",
      "Epoch 91/120\n",
      "5927/5927 [==============================] - 24s 4ms/step - loss: 0.0027 - mae: 0.0379 - mse: 0.0027 - val_loss: 0.0055 - val_mae: 0.0525 - val_mse: 0.0055\n",
      "Epoch 92/120\n",
      "5927/5927 [==============================] - 25s 4ms/step - loss: 0.0026 - mae: 0.0374 - mse: 0.0026 - val_loss: 0.0028 - val_mae: 0.0403 - val_mse: 0.0028\n",
      "Epoch 93/120\n",
      "5927/5927 [==============================] - 22s 4ms/step - loss: 0.0026 - mae: 0.0371 - mse: 0.0026 - val_loss: 0.0020 - val_mae: 0.0323 - val_mse: 0.0020\n",
      "Epoch 94/120\n",
      "5927/5927 [==============================] - 23s 4ms/step - loss: 0.0026 - mae: 0.0371 - mse: 0.0026 - val_loss: 0.0045 - val_mae: 0.0456 - val_mse: 0.0045\n",
      "Epoch 95/120\n",
      "5927/5927 [==============================] - 23s 4ms/step - loss: 0.0026 - mae: 0.0370 - mse: 0.0026 - val_loss: 0.0028 - val_mae: 0.0379 - val_mse: 0.0028\n",
      "Epoch 96/120\n",
      "5927/5927 [==============================] - 23s 4ms/step - loss: 0.0025 - mae: 0.0365 - mse: 0.0025 - val_loss: 0.0044 - val_mae: 0.0514 - val_mse: 0.0044\n",
      "Epoch 97/120\n"
     ]
    },
    {
     "name": "stdout",
     "output_type": "stream",
     "text": [
      "5927/5927 [==============================] - 22s 4ms/step - loss: 0.0026 - mae: 0.0371 - mse: 0.0026 - val_loss: 0.0045 - val_mae: 0.0513 - val_mse: 0.0045\n",
      "Epoch 98/120\n",
      "5927/5927 [==============================] - 22s 4ms/step - loss: 0.0024 - mae: 0.0354 - mse: 0.0024 - val_loss: 0.0036 - val_mae: 0.0448 - val_mse: 0.0036\n",
      "Epoch 99/120\n",
      "5927/5927 [==============================] - 22s 4ms/step - loss: 0.0025 - mae: 0.0363 - mse: 0.0025 - val_loss: 0.0084 - val_mae: 0.0672 - val_mse: 0.0084\n",
      "Epoch 100/120\n",
      "5927/5927 [==============================] - 23s 4ms/step - loss: 0.0025 - mae: 0.0361 - mse: 0.0025 - val_loss: 0.0042 - val_mae: 0.0491 - val_mse: 0.0042\n",
      "Epoch 101/120\n",
      "5927/5927 [==============================] - 22s 4ms/step - loss: 0.0024 - mae: 0.0355 - mse: 0.0024 - val_loss: 0.0067 - val_mae: 0.0623 - val_mse: 0.0067\n",
      "Epoch 102/120\n",
      "5927/5927 [==============================] - 22s 4ms/step - loss: 0.0023 - mae: 0.0351 - mse: 0.0023 - val_loss: 0.0049 - val_mae: 0.0548 - val_mse: 0.0049\n",
      "Epoch 103/120\n",
      "5927/5927 [==============================] - 24s 4ms/step - loss: 0.0025 - mae: 0.0352 - mse: 0.0025 - val_loss: 0.0022 - val_mae: 0.0347 - val_mse: 0.0022\n",
      "Epoch 104/120\n",
      "5927/5927 [==============================] - 20s 3ms/step - loss: 0.0025 - mae: 0.0357 - mse: 0.0025 - val_loss: 0.0016 - val_mae: 0.0295 - val_mse: 0.0016\n",
      "Epoch 105/120\n",
      "5927/5927 [==============================] - 19s 3ms/step - loss: 0.0023 - mae: 0.0347 - mse: 0.0023 - val_loss: 0.0038 - val_mae: 0.0466 - val_mse: 0.0038\n",
      "Epoch 106/120\n",
      "5927/5927 [==============================] - 18s 3ms/step - loss: 0.0023 - mae: 0.0346 - mse: 0.0023 - val_loss: 0.0037 - val_mae: 0.0450 - val_mse: 0.0037\n",
      "Epoch 107/120\n",
      "5927/5927 [==============================] - 19s 3ms/step - loss: 0.0023 - mae: 0.0347 - mse: 0.0023 - val_loss: 0.0022 - val_mae: 0.0343 - val_mse: 0.0022\n",
      "Epoch 108/120\n",
      "5927/5927 [==============================] - 19s 3ms/step - loss: 0.0023 - mae: 0.0348 - mse: 0.0023 - val_loss: 0.0070 - val_mae: 0.0610 - val_mse: 0.0070\n",
      "Epoch 109/120\n",
      "5927/5927 [==============================] - 18s 3ms/step - loss: 0.0022 - mae: 0.0340 - mse: 0.0022 - val_loss: 0.0031 - val_mae: 0.0412 - val_mse: 0.0031\n",
      "Epoch 110/120\n",
      "5927/5927 [==============================] - 23s 4ms/step - loss: 0.0022 - mae: 0.0338 - mse: 0.0022 - val_loss: 0.0022 - val_mae: 0.0334 - val_mse: 0.0022\n",
      "Epoch 111/120\n",
      "5927/5927 [==============================] - 23s 4ms/step - loss: 0.0022 - mae: 0.0336 - mse: 0.0022 - val_loss: 0.0038 - val_mae: 0.0464 - val_mse: 0.0038\n",
      "Epoch 112/120\n",
      "5927/5927 [==============================] - 24s 4ms/step - loss: 0.0021 - mae: 0.0337 - mse: 0.0021 - val_loss: 0.0034 - val_mae: 0.0419 - val_mse: 0.0034\n",
      "Epoch 113/120\n",
      "5927/5927 [==============================] - 24s 4ms/step - loss: 0.0022 - mae: 0.0337 - mse: 0.0022 - val_loss: 0.0022 - val_mae: 0.0360 - val_mse: 0.0022\n",
      "Epoch 114/120\n",
      "5927/5927 [==============================] - 25s 4ms/step - loss: 0.0021 - mae: 0.0331 - mse: 0.0021 - val_loss: 0.0020 - val_mae: 0.0320 - val_mse: 0.0020\n",
      "Epoch 115/120\n",
      "5927/5927 [==============================] - 25s 4ms/step - loss: 0.0021 - mae: 0.0335 - mse: 0.0021 - val_loss: 0.0031 - val_mae: 0.0432 - val_mse: 0.0031\n",
      "Epoch 116/120\n",
      "5927/5927 [==============================] - 23s 4ms/step - loss: 0.0021 - mae: 0.0329 - mse: 0.0021 - val_loss: 0.0019 - val_mae: 0.0315 - val_mse: 0.0019\n",
      "Epoch 117/120\n",
      "5927/5927 [==============================] - 22s 4ms/step - loss: 0.0021 - mae: 0.0330 - mse: 0.0021 - val_loss: 0.0046 - val_mae: 0.0513 - val_mse: 0.0046\n",
      "Epoch 118/120\n",
      "5927/5927 [==============================] - 23s 4ms/step - loss: 0.0021 - mae: 0.0326 - mse: 0.0021 - val_loss: 0.0014 - val_mae: 0.0269 - val_mse: 0.0014\n",
      "Epoch 119/120\n",
      "5927/5927 [==============================] - 22s 4ms/step - loss: 0.0020 - mae: 0.0322 - mse: 0.0020 - val_loss: 0.0030 - val_mae: 0.0419 - val_mse: 0.0030\n",
      "Epoch 120/120\n",
      "5927/5927 [==============================] - 22s 4ms/step - loss: 0.0021 - mae: 0.0324 - mse: 0.0021 - val_loss: 0.0044 - val_mae: 0.0505 - val_mse: 0.0044\n"
     ]
    }
   ],
   "source": [
    "FCNN_history = FCNN_model.fit(train_data, train_labels,\n",
    "                    epochs=120,\n",
    "                    batch_size = 32,\n",
    "                    #callbacks = [callback],\n",
    "                    validation_split = 0.3 \n",
    "                    )"
   ]
  },
  {
   "cell_type": "code",
   "execution_count": 19,
   "metadata": {},
   "outputs": [
    {
     "data": {
      "image/png": "[encoded data removed]",
      "text/plain": [
       "<Figure size 432x288 with 1 Axes>"
      ]
     },
     "metadata": {
      "needs_background": "light"
     },
     "output_type": "display_data"
    },
    {
     "name": "stdout",
     "output_type": "stream",
     "text": [
      "2117/2117 - 6s - loss: 0.0096 - mae: 0.0509 - mse: 0.0096\n"
     ]
    }
   ],
   "source": [
    "#loss plot of training and test data\n",
    "plt.plot(FCNN_history.history['loss'], label='loss')\n",
    "plt.plot(FCNN_history.history['val_loss'], label = 'val_loss')\n",
    "plt.xlabel('Epoch')\n",
    "plt.yscale('log')\n",
    "plt.ylabel('Loss')\n",
    "plt.legend(loc='upper right')\n",
    "plt.title(\"FCNN O-PPAC Loss Curve, Dropout 0, 2 Dense 256 Node, Adam 0.001, MSE, linear activation\")\n",
    "plt.show()\n",
    "\n",
    "#separation of 'result' values (stats from test data)\n",
    "result = FCNN_model.evaluate(test_data, test_labels, verbose=2)\n",
    "\n",
    "#separation of 'prediction' values (training data)\n",
    "predictions = FCNN_model.predict(test_data)"
   ]
  },
  {
   "cell_type": "code",
   "execution_count": 14,
   "metadata": {},
   "outputs": [
    {
     "data": {
      "text/plain": [
       "-8.0"
      ]
     },
     "execution_count": 14,
     "metadata": {},
     "output_type": "execute_result"
    }
   ],
   "source": [
    "#separates x and y predicted values so there can be separate graphs for each\n",
    "x_pred = predictions[:,0]\n",
    "y_pred = predictions[:,1]\n",
    "\n",
    "\n",
    "x_test1 = test_labels[0]\n",
    "y_test1 = test_labels[1]\n",
    "\n",
    "#converts to np.arrays for graphing\n",
    "x_test = np.array(x_test1)\n",
    "y_test = np.array(y_test1)\n",
    "\n",
    "x_test[0]\n",
    "y_test[0]"
   ]
  },
  {
   "cell_type": "code",
   "execution_count": 15,
   "metadata": {},
   "outputs": [
    {
     "data": {
      "image/png": "[encoded data removed]",
      "text/plain": [
       "<Figure size 432x288 with 1 Axes>"
      ]
     },
     "metadata": {
      "needs_background": "light"
     },
     "output_type": "display_data"
    }
   ],
   "source": [
    "#graph showing the accuracy of FCNN model by comparing predicted and true x values\n",
    "#should be as close to the diagonal as possible\n",
    "new_x_labels = []\n",
    "for i in range(x_test.shape[0]):\n",
    "    new_x_labels.append([x_test[i]])\n",
    "np.array(new_x_labels)\n",
    "new_x_labels[2]\n",
    "\n",
    "a = plt.axes(aspect='equal')\n",
    "\n",
    "plt.scatter(new_x_labels, x_pred, s=6, marker = \"x\")\n",
    "plt.xlabel('True Values')\n",
    "plt.ylabel('Predictions')\n",
    "lims = [-50, 50]\n",
    "plt.xlim(lims)\n",
    "plt.ylim(lims)\n",
    "_ = plt.plot(lims, lims, linewidth = .5)\n",
    "plt.title(\"FCNN O-PPAC X Predictions vs True X Values\")\n",
    "plt.show()"
   ]
  },
  {
   "cell_type": "code",
   "execution_count": 16,
   "metadata": {},
   "outputs": [
    {
     "data": {
      "image/png": "[encoded data removed]",
      "text/plain": [
       "<Figure size 432x288 with 1 Axes>"
      ]
     },
     "metadata": {
      "needs_background": "light"
     },
     "output_type": "display_data"
    }
   ],
   "source": [
    "#graph showing the accuracy of FCNN model by comparing predicted and true y values\n",
    "#should be as close to the diagonal as possible\n",
    "new_y_labels = []\n",
    "for i in range(y_test.shape[0]):\n",
    "    new_y_labels.append([y_test[i]])\n",
    "np.array(new_y_labels)\n",
    "new_y_labels[2]\n",
    "\n",
    "a = plt.axes(aspect='equal')\n",
    "plt.scatter(new_y_labels, y_pred, s=6, marker = \"x\")\n",
    "plt.xlabel('True Values')\n",
    "plt.ylabel('Predictions')\n",
    "lims = [-50, 50]\n",
    "plt.xlim(lims)\n",
    "plt.ylim(lims)\n",
    "_ = plt.plot(lims, lims, linewidth = .5)\n",
    "plt.title(\"FCNN O-PPAC Y Predictions vs True Y Values\")\n",
    "plt.show()"
   ]
  },
  {
   "cell_type": "code",
   "execution_count": 17,
   "metadata": {},
   "outputs": [
    {
     "name": "stdout",
     "output_type": "stream",
     "text": [
      "4\n",
      "[25.36715602874756, 4.670292854309082, 1.4720611572265625, 1.0841751098632812]\n"
     ]
    }
   ],
   "source": [
    "#to find the locations of largest error within my predicted x values\n",
    "x_error = []\n",
    "\n",
    "#reads through every data point from the FCNN and compares to the true value by finding the difference between the two\n",
    "for i in range(x_pred.shape[0]):\n",
    "    x_error_test = x_pred[i] - x_test[i]\n",
    "    x_error.append(x_error_test)\n",
    "\n",
    "#this takes all the points with error greater than 1 mm\n",
    "#one can then see the number of points with large error + use lower code to see where/what they are\n",
    "xerror_list = [i for i in x_error if abs(i) >= 1]\n",
    "xerror_list.sort(reverse = True)\n",
    "print(len(xerror_list))\n",
    "print(xerror_list)"
   ]
  },
  {
   "cell_type": "code",
   "execution_count": 20,
   "metadata": {},
   "outputs": [
    {
     "data": {
      "image/png": "[encoded data removed]",
      "text/plain": [
       "<Figure size 432x288 with 1 Axes>"
      ]
     },
     "metadata": {
      "needs_background": "light"
     },
     "output_type": "display_data"
    },
    {
     "name": "stdout",
     "output_type": "stream",
     "text": [
      "[117]\n"
     ]
    }
   ],
   "source": [
    "#graph the location of areas with larger x-error; uses unshuffled data from above\n",
    "bad_xvalue = 25.36715602874756\n",
    "x_test_locat = x_error.index(bad_xvalue)\n",
    "\n",
    "plt.title('Problem Location Example')\n",
    "plt.plot(unshuf_data[x_test_locat][:-1]*100)\n",
    "plt.show()\n",
    "\n",
    "#prints event index within histgrid\n",
    "x_locat = np.where(x_pos == (np.array(x_test[x_error.index(bad_xvalue)])))\n",
    "y_locat = np.where(y_pos == (np.array(y_test[x_error.index(bad_xvalue)])))\n",
    "\n",
    "print(np.intersect1d(x_locat, y_locat))"
   ]
  },
  {
   "cell_type": "code",
   "execution_count": 21,
   "metadata": {},
   "outputs": [
    {
     "name": "stdout",
     "output_type": "stream",
     "text": [
      "3\n",
      "[-1.062234878540039, -1.3788795471191406, -6.432157516479492]\n"
     ]
    }
   ],
   "source": [
    "#to find the locations of largest error within my predicted y values (same as the x code above but specific to y)\n",
    "y_error = []\n",
    "\n",
    "for i in range(y_pred.shape[0]):\n",
    "    y_error_test = y_pred[i] - y_test[i]\n",
    "    y_error.append(y_error_test)\n",
    "\n",
    "yerror_list = [i for i in y_error if abs(i) >= 1]\n",
    "yerror_list.sort(reverse = True)\n",
    "print(len(yerror_list))\n",
    "print(yerror_list)"
   ]
  },
  {
   "cell_type": "code",
   "execution_count": 22,
   "metadata": {},
   "outputs": [
    {
     "data": {
      "image/png": "[encoded data removed]",
      "text/plain": [
       "<Figure size 432x288 with 1 Axes>"
      ]
     },
     "metadata": {
      "needs_background": "light"
     },
     "output_type": "display_data"
    },
    {
     "name": "stdout",
     "output_type": "stream",
     "text": [
      "[117]\n"
     ]
    }
   ],
   "source": [
    "#graph the location of areas with larger error (bad_yvalue must come from y-prediction)\n",
    "bad_yvalue = -6.432157516479492\n",
    "y_test_locat = y_error.index(bad_yvalue)\n",
    "\n",
    "plt.title('Problem Location Example')\n",
    "plt.plot(unshuf_data[y_test_locat][:-1]*100)\n",
    "plt.show()\n",
    "\n",
    "#prints event index within histgrid\n",
    "x_locat = np.where(x_pos == (np.array(x_test[y_error.index(bad_yvalue)])))\n",
    "y_locat = np.where(y_pos == (np.array(y_test[y_error.index(bad_yvalue)])))\n",
    "\n",
    "print(np.intersect1d(x_locat, y_locat))"
   ]
  },
  {
   "cell_type": "code",
   "execution_count": 23,
   "metadata": {},
   "outputs": [
    {
     "name": "stdout",
     "output_type": "stream",
     "text": [
      "67724\n"
     ]
    },
    {
     "data": {
      "image/png": "[encoded data removed]",
      "text/plain": [
       "<Figure size 432x288 with 1 Axes>"
      ]
     },
     "metadata": {
      "needs_background": "light"
     },
     "output_type": "display_data"
    }
   ],
   "source": [
    "#residue plot of x-error from the FCNN model\n",
    "x_error = []\n",
    "\n",
    "for i in range(x_pred.shape[0]):\n",
    "    x_error_test = x_pred[i] - x_test[i]\n",
    "    x_error.append(x_error_test)\n",
    "\n",
    "error_list_x = [i for i in x_error if abs(i) <= 1]\n",
    "print(len(error_list_x))\n",
    "\n",
    "num_bins_x = 81\n",
    "# the histogram of the data\n",
    "n, bins, patches = plt.hist(error_list_x, num_bins_x, density=1, facecolor='blue', alpha=0.5)\n",
    "\n",
    "plt.xlabel('X Error (real - pred)')\n",
    "plt.title(r'X Residual')\n",
    "plt.show()"
   ]
  },
  {
   "cell_type": "code",
   "execution_count": 24,
   "metadata": {},
   "outputs": [
    {
     "name": "stdout",
     "output_type": "stream",
     "text": [
      "67725\n"
     ]
    },
    {
     "data": {
      "image/png": "[encoded data removed]",
      "text/plain": [
       "<Figure size 432x288 with 1 Axes>"
      ]
     },
     "metadata": {
      "needs_background": "light"
     },
     "output_type": "display_data"
    }
   ],
   "source": [
    "#residue plot of y-error from the FCNN model\n",
    "y_error = []\n",
    "\n",
    "for i in range(y_pred.shape[0]):\n",
    "    y_error_test = y_pred[i] - y_test[i]\n",
    "    y_error.append(y_error_test)\n",
    "\n",
    "error_list_y = [i for i in y_error if abs(i) <= 1]\n",
    "print(len(error_list_y))\n",
    "\n",
    "num_bins_x = 81\n",
    "# the histogram of the data\n",
    "n, bins, patches = plt.hist(error_list_y, num_bins_x, density=1, facecolor='blue', alpha=0.5)\n",
    "\n",
    "plt.xlabel('Y Error (real - pred)')\n",
    "plt.title(r'Y Residual')\n",
    "plt.show()"
   ]
  },
  {
   "cell_type": "code",
   "execution_count": null,
   "metadata": {},
   "outputs": [],
   "source": []
  },
  {
   "cell_type": "code",
   "execution_count": null,
   "metadata": {},
   "outputs": [],
   "source": [
    "#now to look at the data via the Gaussian model to check for better accuracy"
   ]
  },
  {
   "cell_type": "code",
   "execution_count": 9,
   "metadata": {},
   "outputs": [
    {
     "name": "stdout",
     "output_type": "stream",
     "text": [
      "(67728, 33)\n",
      "(67728,)\n",
      "0.0\n"
     ]
    }
   ],
   "source": [
    "#turn the test_data and test_labels dfs into arrays  to work with them easily\n",
    "test_data_arr = test_data.to_numpy()\n",
    "test_labels_arr = test_labels.to_numpy()\n",
    "\n",
    "#separate the test data as done above; used so that it is the same sample as the FCNN\n",
    "x1_data_test = (test_data_arr[: , :33])*100\n",
    "x2_data_test = (test_data_arr[:, 33:66])*100\n",
    "y1_data_test = (test_data_arr[:, 66:99])*100\n",
    "y2_data_test = (test_data_arr[:, 99:132])*100\n",
    "\n",
    "#labels kept so they have the same indices\n",
    "x_label_test = test_labels_arr[ : , 0 ]\n",
    "y_label_test = test_labels_arr[ : , 1 ]\n",
    "\n",
    "print(x1_data_test.shape)\n",
    "print(x_label_test.shape)\n",
    "\n",
    "print(np.min(x1_data_test))"
   ]
  },
  {
   "cell_type": "code",
   "execution_count": 10,
   "metadata": {},
   "outputs": [
    {
     "data": {
      "image/png": "[encoded data removed]",
      "text/plain": [
       "<Figure size 432x288 with 1 Axes>"
      ]
     },
     "metadata": {
      "needs_background": "light"
     },
     "output_type": "display_data"
    },
    {
     "name": "stdout",
     "output_type": "stream",
     "text": [
      "67728\n"
     ]
    }
   ],
   "source": [
    "num_bins_x = 80\n",
    "# the histogram of the data\n",
    "n, bins, patches = plt.hist(x_label_test, num_bins_x, density=1, facecolor='blue', alpha=0.5)\n",
    "\n",
    "#plt.xlabel('X Error (real - pred)')\n",
    "#plt.title(r'X Residual')\n",
    "plt.show()\n",
    "\n",
    "print(len(x_label_test))"
   ]
  },
  {
   "cell_type": "code",
   "execution_count": 10,
   "metadata": {},
   "outputs": [],
   "source": [
    "#https://stackoverflow.com/questions/19206332/gaussian-fit-for-python"
   ]
  },
  {
   "cell_type": "code",
   "execution_count": 15,
   "metadata": {},
   "outputs": [
    {
     "name": "stdout",
     "output_type": "stream",
     "text": [
      "[ 0.          0.          0.          0.          0.          0.40773216\n",
      "  0.          0.          0.          0.          0.          0.\n",
      "  0.          0.40773216  5.70825019 23.24073292 36.69589408 29.35671526\n",
      "  4.89278588  0.40773216  0.          0.40773216  0.          0.\n",
      "  0.          0.          0.          0.          0.          0.\n",
      "  0.          0.          0.        ]\n"
     ]
    }
   ],
   "source": [
    "#basic gaussian fit stuff; needs x and y inputs for all data points; index is both for the y data and for lower code\n",
    "index = 34672\n",
    "x = np.arange(0,33,1)\n",
    "y = x1_data_test[index,:]\n",
    "\n",
    "print(y)\n",
    "\n",
    "#the true location of the peak as given by the label for that event\n",
    "x_peak_value = ((x_label_test[index]+48)/100)*33"
   ]
  },
  {
   "cell_type": "code",
   "execution_count": 16,
   "metadata": {},
   "outputs": [],
   "source": [
    "#gaussian fit function\n",
    "def gaussianpdf(x, k, sigma, mu):\n",
    "    return k*np.exp(-(x-mu)**2/(2*sigma**2))"
   ]
  },
  {
   "cell_type": "code",
   "execution_count": 17,
   "metadata": {},
   "outputs": [
    {
     "name": "stdout",
     "output_type": "stream",
     "text": [
      "16.101410765604395\n",
      "15.84\n"
     ]
    }
   ],
   "source": [
    "#curve fit code; bounds might be able to be played with still to improve model (specifically sigma in index 1)\n",
    "#trying new stuff to better balance k based on the input data\n",
    "if np.max(y) > 20:\n",
    "    kvalue = np.max(y)+(np.max(y)/2)\n",
    "else:\n",
    "    kvalue = np.max(y)\n",
    "\n",
    "popt, _ = curve_fit(gaussianpdf, x, y, bounds=(0, [kvalue,10., 33.]))\n",
    "print(popt[2])\n",
    "print(x_peak_value)"
   ]
  },
  {
   "cell_type": "code",
   "execution_count": 18,
   "metadata": {},
   "outputs": [
    {
     "data": {
      "image/png": "[encoded data removed]",
      "text/plain": [
       "<Figure size 432x288 with 1 Axes>"
      ]
     },
     "metadata": {
      "needs_background": "light"
     },
     "output_type": "display_data"
    }
   ],
   "source": [
    "#plotting gaussian to make sure it looks logically correct\n",
    "plt.plot(x, gaussianpdf(x, *popt), 'g--', label='fit: k=%5.3f, sigma=%5.3f, mu=%5.3f' % tuple(popt))\n",
    "plt.plot(x1_data_test[index,:])\n",
    "plt.axvline(x = popt[2], color = \"red\", linewidth=.4, linestyle='dashdot', label='Pred Peak= %5.1f' %popt[2])\n",
    "plt.axvline(x = x_peak_value, color = \"magenta\", linewidth=1, label='True Peak= %5.1f' % x_peak_value)\n",
    "plt.xlabel('Diode Number')\n",
    "plt.ylabel('Number of Detected Photons')\n",
    "plt.legend(bbox_to_anchor=(1.05, 1), loc='upper left', borderaxespad=0.)\n",
    "plt.show()"
   ]
  },
  {
   "cell_type": "code",
   "execution_count": 19,
   "metadata": {},
   "outputs": [],
   "source": [
    "#function to (hopefully) fit gaussians (and thus, centroids which is what we want) onto all data sets\n",
    "def centroidmm(x, y):\n",
    "    try:\n",
    "        if np.max(y) > 20:\n",
    "            kvalue = np.max(y)+(np.max(y)/2)\n",
    "        else:\n",
    "            kvalue = np.max(y)\n",
    "        popt, _ = curve_fit(gaussianpdf, x, y, bounds=(0, [kvalue,7., 33.]))\n",
    "        return (popt[2]/33)*100-48 #converts location from diode number to mm (measurement of x_pos & y_pos)\n",
    "    except RuntimeError:\n",
    "        return -5555\n",
    "\n",
    "#function to (hopefully) fit gaussians (and thus, centroids which is what we want) onto all data sets\n",
    "def centroiddn(x, y):\n",
    "    try:\n",
    "        if np.max(y) > 20:\n",
    "            kvalue = np.max(y)+(np.max(y)/2)\n",
    "        else:\n",
    "            kvalue = np.max(y)\n",
    "        popt, _ = curve_fit(gaussianpdf, x, y, bounds=(0, [kvalue,7., 33.]))\n",
    "        return popt[2]\n",
    "    except RuntimeError:\n",
    "        return -5555"
   ]
  },
  {
   "cell_type": "code",
   "execution_count": 22,
   "metadata": {},
   "outputs": [
    {
     "name": "stdout",
     "output_type": "stream",
     "text": [
      "[ 0.          0.          0.          0.          0.          0.\n",
      "  0.43818786  0.          0.          0.          0.43818786  0.43818786\n",
      "  3.06731503 16.21295088 18.84207805 26.72945955 15.77476301 10.51650868\n",
      "  1.31456358  0.87637572  0.          0.          0.          0.\n",
      "  0.          0.43818786  0.          0.43818786  0.          0.\n",
      "  0.          0.          0.        ]\n"
     ]
    }
   ],
   "source": [
    "print(x1_data_test[1])"
   ]
  },
  {
   "cell_type": "code",
   "execution_count": 23,
   "metadata": {},
   "outputs": [
    {
     "name": "stdout",
     "output_type": "stream",
     "text": [
      "0\n",
      "1000\n",
      "2000\n",
      "3000\n",
      "4000\n",
      "5000\n",
      "6000\n",
      "7000\n",
      "8000\n",
      "9000\n",
      "10000\n",
      "11000\n",
      "12000\n",
      "13000\n",
      "14000\n",
      "15000\n",
      "16000\n",
      "17000\n",
      "18000\n",
      "19000\n",
      "20000\n",
      "21000\n",
      "22000\n",
      "23000\n",
      "24000\n",
      "25000\n",
      "26000\n",
      "27000\n",
      "28000\n",
      "29000\n",
      "30000\n",
      "31000\n",
      "32000\n",
      "33000\n",
      "34000\n",
      "35000\n",
      "36000\n",
      "37000\n",
      "38000\n",
      "39000\n",
      "40000\n",
      "41000\n",
      "42000\n",
      "43000\n",
      "44000\n",
      "45000\n",
      "46000\n",
      "47000\n",
      "48000\n",
      "49000\n",
      "50000\n",
      "51000\n",
      "52000\n",
      "53000\n",
      "54000\n",
      "55000\n",
      "56000\n",
      "57000\n",
      "58000\n",
      "59000\n",
      "60000\n",
      "61000\n",
      "62000\n",
      "63000\n",
      "64000\n",
      "65000\n",
      "66000\n",
      "67000\n"
     ]
    }
   ],
   "source": [
    "#DO NOT RERUN UNLESS THE NEURAL NETWORK DATA IS RESHUFFLED; TAKES A VERY LONG TIME\n",
    "#conversion and calculation + creation of centroid location array for all of the side x1    \n",
    "x1_peaks = []\n",
    "for i in range(x1_data_test.shape[0]):\n",
    "    x1_dn = centroiddn(np.arange(0,33,1), x1_data_test[i,:])\n",
    "    x1_peaks.append(x1_dn)\n",
    "    if i%1000==0:\n",
    "        print(i)"
   ]
  },
  {
   "cell_type": "code",
   "execution_count": 24,
   "metadata": {},
   "outputs": [],
   "source": [
    "x1_peaks = np.array(x1_peaks)\n",
    "np.save(\"x1_peaks_file_5\", x1_peaks)"
   ]
  },
  {
   "cell_type": "code",
   "execution_count": 33,
   "metadata": {},
   "outputs": [],
   "source": [
    "x1_peaks = []\n",
    "for i in range(25):\n",
    "    x1_dn = centroiddn(np.arange(0,33,1), x1_data_test[i,:])\n",
    "    x1_peaks.append(x2_dn)\n",
    "    #if i%1000==0:\n",
    "        #print(i)"
   ]
  },
  {
   "cell_type": "code",
   "execution_count": 34,
   "metadata": {},
   "outputs": [],
   "source": [
    "x1_peaks = np.array(x1_peaks)\n",
    "np.save(\"x1_peaks_file_VERY_SMALL\", x1_peaks)"
   ]
  },
  {
   "cell_type": "code",
   "execution_count": 31,
   "metadata": {},
   "outputs": [],
   "source": [
    "x2_peaks = []\n",
    "for i in range(25):\n",
    "    x2_dn = centroiddn(np.arange(0,33,1), x2_data_test[i,:])\n",
    "    x2_peaks.append(x2_dn)\n",
    "    #if i%1000==0:\n",
    "        #print(i)"
   ]
  },
  {
   "cell_type": "code",
   "execution_count": 32,
   "metadata": {},
   "outputs": [],
   "source": [
    "x2_peaks = np.array(x2_peaks)\n",
    "np.save(\"x2_peaks_file_VERY_SMALL\", x2_peaks)"
   ]
  },
  {
   "cell_type": "code",
   "execution_count": 25,
   "metadata": {},
   "outputs": [
    {
     "name": "stdout",
     "output_type": "stream",
     "text": [
      "0\n",
      "1000\n",
      "2000\n",
      "3000\n",
      "4000\n",
      "5000\n",
      "6000\n",
      "7000\n",
      "8000\n",
      "9000\n",
      "10000\n",
      "11000\n",
      "12000\n",
      "13000\n",
      "14000\n",
      "15000\n",
      "16000\n",
      "17000\n",
      "18000\n",
      "19000\n",
      "20000\n",
      "21000\n",
      "22000\n",
      "23000\n",
      "24000\n",
      "25000\n",
      "26000\n",
      "27000\n",
      "28000\n",
      "29000\n",
      "30000\n",
      "31000\n",
      "32000\n",
      "33000\n",
      "34000\n",
      "35000\n",
      "36000\n",
      "37000\n",
      "38000\n",
      "39000\n",
      "40000\n",
      "41000\n",
      "42000\n",
      "43000\n",
      "44000\n",
      "45000\n",
      "46000\n",
      "47000\n",
      "48000\n",
      "49000\n",
      "50000\n",
      "51000\n",
      "52000\n",
      "53000\n",
      "54000\n",
      "55000\n",
      "56000\n",
      "57000\n",
      "58000\n",
      "59000\n",
      "60000\n",
      "61000\n",
      "62000\n",
      "63000\n",
      "64000\n",
      "65000\n",
      "66000\n",
      "67000\n"
     ]
    }
   ],
   "source": [
    "#DO NOT RERUN UNLESS THE NEURAL NETWORK DATA IS RESHUFFLED; TAKES A VERY LONG TIME\n",
    "x2_peaks = []\n",
    "for i in range(x2_data_test.shape[0]):\n",
    "    x2_dn = centroiddn(np.arange(0,33,1), x2_data_test[i,:])\n",
    "    x2_peaks.append(x2_dn)\n",
    "    if i%1000==0:\n",
    "        print(i)"
   ]
  },
  {
   "cell_type": "code",
   "execution_count": 26,
   "metadata": {},
   "outputs": [],
   "source": [
    "x2_peaks = np.array(x2_peaks)\n",
    "np.save(\"x2_peaks_file_5\", x2_peaks)"
   ]
  },
  {
   "cell_type": "code",
   "execution_count": 27,
   "metadata": {},
   "outputs": [
    {
     "name": "stdout",
     "output_type": "stream",
     "text": [
      "0\n",
      "1000\n",
      "2000\n",
      "3000\n",
      "4000\n",
      "5000\n",
      "6000\n",
      "7000\n",
      "8000\n",
      "9000\n",
      "10000\n",
      "11000\n",
      "12000\n",
      "13000\n",
      "14000\n",
      "15000\n",
      "16000\n",
      "17000\n",
      "18000\n",
      "19000\n",
      "20000\n",
      "21000\n",
      "22000\n",
      "23000\n",
      "24000\n",
      "25000\n",
      "26000\n",
      "27000\n",
      "28000\n",
      "29000\n",
      "30000\n",
      "31000\n",
      "32000\n",
      "33000\n",
      "34000\n",
      "35000\n",
      "36000\n",
      "37000\n",
      "38000\n",
      "39000\n",
      "40000\n",
      "41000\n",
      "42000\n",
      "43000\n",
      "44000\n",
      "45000\n",
      "46000\n",
      "47000\n",
      "48000\n",
      "49000\n",
      "50000\n",
      "51000\n",
      "52000\n",
      "53000\n",
      "54000\n",
      "55000\n",
      "56000\n",
      "57000\n",
      "58000\n",
      "59000\n",
      "60000\n",
      "61000\n",
      "62000\n",
      "63000\n",
      "64000\n",
      "65000\n",
      "66000\n",
      "67000\n"
     ]
    }
   ],
   "source": [
    "#DO NOT RERUN UNLESS THE NEURAL NETWORK DATA IS RESHUFFLED; TAKES A VERY LONG TIME\n",
    "y1_peaks = []\n",
    "for i in range(y1_data_test.shape[0]):\n",
    "    y1_dn = centroiddn(np.arange(0,33,1), y1_data_test[i,:])\n",
    "    y1_peaks.append(y1_dn)\n",
    "    if i%1000==0:\n",
    "        print(i)"
   ]
  },
  {
   "cell_type": "code",
   "execution_count": 28,
   "metadata": {},
   "outputs": [],
   "source": [
    "y1_peaks = np.array(y1_peaks)\n",
    "np.save(\"y1_peaks_file_5\", y1_peaks)"
   ]
  },
  {
   "cell_type": "code",
   "execution_count": 29,
   "metadata": {},
   "outputs": [
    {
     "name": "stdout",
     "output_type": "stream",
     "text": [
      "0\n",
      "1000\n",
      "2000\n",
      "3000\n",
      "4000\n",
      "5000\n",
      "6000\n",
      "7000\n",
      "8000\n",
      "9000\n",
      "10000\n",
      "11000\n",
      "12000\n",
      "13000\n",
      "14000\n",
      "15000\n",
      "16000\n",
      "17000\n",
      "18000\n",
      "19000\n",
      "20000\n",
      "21000\n",
      "22000\n",
      "23000\n",
      "24000\n",
      "25000\n",
      "26000\n",
      "27000\n",
      "28000\n",
      "29000\n",
      "30000\n",
      "31000\n",
      "32000\n",
      "33000\n",
      "34000\n",
      "35000\n",
      "36000\n",
      "37000\n",
      "38000\n",
      "39000\n",
      "40000\n",
      "41000\n",
      "42000\n",
      "43000\n",
      "44000\n",
      "45000\n",
      "46000\n",
      "47000\n",
      "48000\n",
      "49000\n",
      "50000\n",
      "51000\n",
      "52000\n",
      "53000\n",
      "54000\n",
      "55000\n",
      "56000\n",
      "57000\n",
      "58000\n",
      "59000\n",
      "60000\n",
      "61000\n",
      "62000\n",
      "63000\n",
      "64000\n",
      "65000\n",
      "66000\n",
      "67000\n"
     ]
    }
   ],
   "source": [
    "#DO NOT RERUN UNLESS THE NEURAL NETWORK DATA IS RESHUFFLED; TAKES A VERY LONG TIME\n",
    "y2_peaks = []\n",
    "for i in range(x1_data_test.shape[0]):\n",
    "    y2_dn = centroiddn(np.arange(0,33,1), y2_data_test[i,:])\n",
    "    y2_peaks.append(y2_dn)\n",
    "    if i%1000==0:\n",
    "        print(i)"
   ]
  },
  {
   "cell_type": "code",
   "execution_count": 30,
   "metadata": {},
   "outputs": [],
   "source": [
    "y2_peaks = np.array(y2_peaks)\n",
    "np.save(\"y2_peaks_file_5\", y2_peaks)"
   ]
  },
  {
   "cell_type": "code",
   "execution_count": null,
   "metadata": {},
   "outputs": [],
   "source": [
    "#this data used in different notebook so I wouldn't risk infinitely running code which needs to be stopped\n",
    "#in notebook \"Gaussian Fit Data\""
   ]
  },
  {
   "cell_type": "code",
   "execution_count": null,
   "metadata": {},
   "outputs": [],
   "source": []
  }
 ],
 "metadata": {
  "kernelspec": {
   "display_name": "Python 3",
   "language": "python",
   "name": "python3"
  },
  "language_info": {
   "codemirror_mode": {
    "name": "ipython",
    "version": 3
   },
   "file_extension": ".py",
   "mimetype": "text/x-python",
   "name": "python",
   "nbconvert_exporter": "python",
   "pygments_lexer": "ipython3",
   "version": "3.6.8"
  }
 },
 "nbformat": 4,
 "nbformat_minor": 4
}
