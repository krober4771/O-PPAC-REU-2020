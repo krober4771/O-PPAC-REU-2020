{
 "cells": [
  {
   "cell_type": "code",
   "execution_count": 195,
   "metadata": {},
   "outputs": [],
   "source": [
    "#first i need data from a previous run\n",
    "import tensorflow as tf\n",
    "from tensorflow.keras import datasets, layers, models, metrics, Model\n",
    "from tensorflow.keras.callbacks import Callback\n",
    "from scipy.stats import truncnorm\n",
    "from sklearn.model_selection import train_test_split\n",
    "from sklearn.metrics import classification_report\n",
    "from sklearn.preprocessing import normalize\n",
    "import tensorflow_docs as tfdocs\n",
    "import tensorflow_docs.plots\n",
    "import tensorflow_docs.modeling\n",
    "import numpy as np\n",
    "from numpy import *\n",
    "import pandas as pd\n",
    "import matplotlib.pyplot as plt\n",
    "import matplotlib.mlab as mlab\n",
    "import h5py\n",
    "import datetime\n",
    "from scipy.optimize import curve_fit\n",
    "import math\n",
    "from scipy import asarray as ar,exp\n",
    "import pylab as plb\n",
    "import tqdm\n",
    "from tqdm import tqdm\n",
    "import time\n",
    "import progressbar"
   ]
  },
  {
   "cell_type": "code",
   "execution_count": 146,
   "metadata": {},
   "outputs": [
    {
     "name": "stdout",
     "output_type": "stream",
     "text": [
      "(991, 342, 132)\n"
     ]
    }
   ],
   "source": [
    "dataset = h5py.File('simu_HDF_thistimeforReal.h5', 'r') #load data\n",
    "num_diodes = dataset['Num_diodes'][...] #separate the data into each key within the data file\n",
    "x_pos = (dataset['Xpos'][...])/100\n",
    "y_pos = (dataset['Ypos'][...])/100\n",
    "histgrid = dataset['histgrid'][...]\n",
    "histgrid = histgrid[:-10,:,:] #redefine the shape and size of histgrid by removing the last 10 events\n",
    "output = np.vstack((x_pos,y_pos)) #define new, single variable for x and y position\n",
    "output = np.transpose(output) #original definition was sideways, so we transposed it\n",
    "\n",
    "where_are_NaNs = isnan(histgrid) #removes any NaN values within histgrid; shouldn't be a problem with bad values removed\n",
    "histgrid[where_are_NaNs] = 0\n",
    "\n",
    "print(histgrid.shape)\n",
    "\n",
    "dataset.close()"
   ]
  },
  {
   "cell_type": "code",
   "execution_count": 147,
   "metadata": {},
   "outputs": [
    {
     "name": "stdout",
     "output_type": "stream",
     "text": [
      "(338922, 132)\n",
      "(338922, 2)\n"
     ]
    }
   ],
   "source": [
    "def data_compile(histdata):\n",
    "    data = []  #creates empty arrays for data and labels\n",
    "    labels = []\n",
    "    for i in range(histdata.shape[1]):\n",
    "        for j in range(0,histdata.shape[0]):\n",
    "            data.append(histdata[j,i,:]) #puts histgrid data inside of \"data\"\n",
    "            labels.append(output[i]) #puts x,y _pos into \"labels\"\n",
    "    return(np.array(data),np.array(labels))\n",
    "\n",
    "all_data, all_labels = data_compile(histgrid)\n",
    "\n",
    "#to make sure everything is the correct shape\n",
    "print(all_data.shape)\n",
    "print(all_labels.shape)"
   ]
  },
  {
   "cell_type": "code",
   "execution_count": 148,
   "metadata": {},
   "outputs": [
    {
     "name": "stdout",
     "output_type": "stream",
     "text": [
      "0.8395246220687987\n"
     ]
    }
   ],
   "source": [
    "all_data = normalize(all_data,axis = 1)\n",
    "print(np.max(all_data))"
   ]
  },
  {
   "cell_type": "code",
   "execution_count": 149,
   "metadata": {},
   "outputs": [
    {
     "name": "stdout",
     "output_type": "stream",
     "text": [
      "338922\n",
      "338922\n",
      "286\n",
      "338636\n",
      "338636\n"
     ]
    }
   ],
   "source": [
    "#define all_labels and all_data as df's to better view rows and add column\n",
    "all_labels = pd.DataFrame(all_labels)\n",
    "all_data = pd.DataFrame(all_data)\n",
    "all_data[\"sum\"] = np.sum(all_data, axis = 1) #column added to find rows with only 0's\n",
    "\n",
    "#confirming number of initial entries\n",
    "print(len(all_labels))\n",
    "print(len(all_data))\n",
    "\n",
    "#find all the locations in all_data (by index) where the only values are 0 across the diodes\n",
    "remove_labels = list(all_data[all_data[\"sum\"] == 0].index)\n",
    "print(len(remove_labels))\n",
    "\n",
    "#added these to ensure I have unshuffled versions of the data and labels for finding locations with larger error\n",
    "unshuf_labels = all_labels.drop(all_labels.index[remove_labels])\n",
    "unshuf_data = all_data[all_data[\"sum\"] != 0]\n",
    "\n",
    "#lets all_labels and all_data start with the same indices and values as their unshuffled counterparts\n",
    "all_labels = unshuf_labels\n",
    "unshuf_labels = unshuf_labels.to_numpy() #dfs are hard to graph with, so I converted to np.arrays for future use\n",
    "all_data = unshuf_data\n",
    "unshuf_data = unshuf_data.to_numpy()\n",
    "\n",
    "#confirm new number of entries (should be len(remove_labels) less than the intital value)\n",
    "print(len(all_labels))\n",
    "print(len(all_data))\n",
    "\n",
    "#must remove the sum column before using in FCNN; otherwise it will treat it as a data point \n",
    "del all_data['sum']"
   ]
  },
  {
   "cell_type": "code",
   "execution_count": 150,
   "metadata": {},
   "outputs": [],
   "source": [
    "train_data, test_data, train_labels, test_labels = train_test_split(all_data, all_labels, test_size=0.2,shuffle=True)\n",
    "#splits training and test data for the FCNN; 20% set aside for testing"
   ]
  },
  {
   "cell_type": "code",
   "execution_count": 151,
   "metadata": {},
   "outputs": [],
   "source": [
    "#early stopping mechanism; can increase amount of time before stopping by increasing patience\n",
    "callback = tf.keras.callbacks.EarlyStopping(monitor='val_loss', patience=10)"
   ]
  },
  {
   "cell_type": "code",
   "execution_count": 152,
   "metadata": {},
   "outputs": [],
   "source": [
    "#Fully connected neural network\n",
    "#the \"layers\" are the dense hidden layers which are fully connected\n",
    "#first number changes the nodes, 2nd is the activation function, (first line has number of inputs as well)\n",
    "\n",
    "FCNN_model = tf.keras.Sequential()\n",
    "FCNN_model.add(layers.Dense(256, activation='relu', input_shape = [132]))\n",
    "FCNN_model.add(layers.Dense(256, activation = 'relu'))\n",
    "#FCNN_model.add(layers.Dense(128, activation = 'relu'))\n",
    "#FCNN_model.add(layers.Dense(128, activation = 'relu'))\n",
    "#FCNN_model.add(layers.Dropout(0.2))\n",
    "FCNN_model.add(layers.Dense(2, activation = 'linear'))"
   ]
  },
  {
   "cell_type": "code",
   "execution_count": 153,
   "metadata": {},
   "outputs": [],
   "source": [
    "#compiles the FCNN and includes the learning rate as well\n",
    "FCNN_model.compile(optimizer = tf.keras.optimizers.Adam(learning_rate=0.001), \n",
    "              loss = 'mse', \n",
    "              metrics=['mae', 'mse'])"
   ]
  },
  {
   "cell_type": "code",
   "execution_count": 154,
   "metadata": {},
   "outputs": [
    {
     "name": "stdout",
     "output_type": "stream",
     "text": [
      "Epoch 1/60\n",
      "5927/5927 [==============================] - 44s 7ms/step - loss: 4.5590 - mae: 0.6864 - mse: 4.5590 - val_loss: 0.2602 - val_mae: 0.3979 - val_mse: 0.2602\n",
      "Epoch 2/60\n",
      "5927/5927 [==============================] - 39s 7ms/step - loss: 0.1783 - mae: 0.3242 - mse: 0.1783 - val_loss: 0.1240 - val_mae: 0.2781 - val_mse: 0.1240\n",
      "Epoch 3/60\n",
      "5927/5927 [==============================] - 47s 8ms/step - loss: 0.1119 - mae: 0.2590 - mse: 0.1119 - val_loss: 0.1125 - val_mae: 0.2636 - val_mse: 0.1125\n",
      "Epoch 4/60\n",
      "5927/5927 [==============================] - 38s 6ms/step - loss: 0.0827 - mae: 0.2231 - mse: 0.0827 - val_loss: 0.0818 - val_mae: 0.2258 - val_mse: 0.0818\n",
      "Epoch 5/60\n",
      "5927/5927 [==============================] - 49s 8ms/step - loss: 0.0670 - mae: 0.2004 - mse: 0.0670 - val_loss: 0.0467 - val_mae: 0.1720 - val_mse: 0.0467\n",
      "Epoch 6/60\n",
      "5927/5927 [==============================] - 33s 6ms/step - loss: 0.0539 - mae: 0.1800 - mse: 0.0539 - val_loss: 0.0690 - val_mae: 0.2089 - val_mse: 0.0690\n",
      "Epoch 7/60\n",
      "5927/5927 [==============================] - 36s 6ms/step - loss: 0.0458 - mae: 0.1645 - mse: 0.0458 - val_loss: 0.0571 - val_mae: 0.1886 - val_mse: 0.0571\n",
      "Epoch 8/60\n",
      "5927/5927 [==============================] - 39s 7ms/step - loss: 0.0396 - mae: 0.1522 - mse: 0.0396 - val_loss: 0.0429 - val_mae: 0.1609 - val_mse: 0.0429\n",
      "Epoch 9/60\n",
      "5927/5927 [==============================] - 40s 7ms/step - loss: 0.0362 - mae: 0.1446 - mse: 0.0362 - val_loss: 0.0444 - val_mae: 0.1687 - val_mse: 0.0444\n",
      "Epoch 10/60\n",
      "5927/5927 [==============================] - 39s 7ms/step - loss: 0.0317 - mae: 0.1343 - mse: 0.0317 - val_loss: 0.0522 - val_mae: 0.1725 - val_mse: 0.0522\n",
      "Epoch 11/60\n",
      "5927/5927 [==============================] - 41s 7ms/step - loss: 0.0291 - mae: 0.1275 - mse: 0.0291 - val_loss: 0.0258 - val_mae: 0.1225 - val_mse: 0.0258\n",
      "Epoch 12/60\n",
      "5927/5927 [==============================] - 38s 6ms/step - loss: 0.0264 - mae: 0.1216 - mse: 0.0264 - val_loss: 0.0241 - val_mae: 0.1166 - val_mse: 0.0241\n",
      "Epoch 13/60\n",
      "5927/5927 [==============================] - 38s 6ms/step - loss: 0.0243 - mae: 0.1154 - mse: 0.0243 - val_loss: 0.0816 - val_mae: 0.2066 - val_mse: 0.0816\n",
      "Epoch 14/60\n",
      "5927/5927 [==============================] - 39s 7ms/step - loss: 0.0226 - mae: 0.1104 - mse: 0.0226 - val_loss: 0.0277 - val_mae: 0.1310 - val_mse: 0.0277\n",
      "Epoch 15/60\n",
      "5927/5927 [==============================] - 39s 7ms/step - loss: 0.0212 - mae: 0.1067 - mse: 0.0212 - val_loss: 0.0272 - val_mae: 0.1279 - val_mse: 0.0272\n",
      "Epoch 16/60\n",
      "5927/5927 [==============================] - 43s 7ms/step - loss: 0.0198 - mae: 0.1028 - mse: 0.0198 - val_loss: 0.0273 - val_mae: 0.1263 - val_mse: 0.0273\n",
      "Epoch 17/60\n",
      "5927/5927 [==============================] - 41s 7ms/step - loss: 0.0178 - mae: 0.0974 - mse: 0.0178 - val_loss: 0.0168 - val_mae: 0.0949 - val_mse: 0.0168\n",
      "Epoch 18/60\n",
      "5927/5927 [==============================] - 40s 7ms/step - loss: 0.0166 - mae: 0.0938 - mse: 0.0166 - val_loss: 0.0251 - val_mae: 0.1256 - val_mse: 0.0251\n",
      "Epoch 19/60\n",
      "5927/5927 [==============================] - 39s 7ms/step - loss: 0.0155 - mae: 0.0908 - mse: 0.0155 - val_loss: 0.0144 - val_mae: 0.0917 - val_mse: 0.0144\n",
      "Epoch 20/60\n",
      "5927/5927 [==============================] - 38s 6ms/step - loss: 0.0148 - mae: 0.0878 - mse: 0.0148 - val_loss: 0.0190 - val_mae: 0.1065 - val_mse: 0.0190\n",
      "Epoch 21/60\n",
      "5927/5927 [==============================] - 39s 7ms/step - loss: 0.0141 - mae: 0.0862 - mse: 0.0141 - val_loss: 0.0129 - val_mae: 0.0821 - val_mse: 0.0129\n",
      "Epoch 22/60\n",
      "5927/5927 [==============================] - 40s 7ms/step - loss: 0.0127 - mae: 0.0815 - mse: 0.0127 - val_loss: 0.0179 - val_mae: 0.1004 - val_mse: 0.0179\n",
      "Epoch 23/60\n",
      "5927/5927 [==============================] - 43s 7ms/step - loss: 0.0124 - mae: 0.0802 - mse: 0.0124 - val_loss: 0.0091 - val_mae: 0.0724 - val_mse: 0.0091\n",
      "Epoch 24/60\n",
      "5927/5927 [==============================] - 42s 7ms/step - loss: 0.0120 - mae: 0.0787 - mse: 0.0120 - val_loss: 0.0119 - val_mae: 0.0811 - val_mse: 0.0119\n",
      "Epoch 25/60\n",
      "5927/5927 [==============================] - 42s 7ms/step - loss: 0.0113 - mae: 0.0761 - mse: 0.0113 - val_loss: 0.0120 - val_mae: 0.0800 - val_mse: 0.0120\n",
      "Epoch 26/60\n",
      "5927/5927 [==============================] - 42s 7ms/step - loss: 0.0107 - mae: 0.0744 - mse: 0.0107 - val_loss: 0.0117 - val_mae: 0.0809 - val_mse: 0.0117\n",
      "Epoch 27/60\n",
      "5927/5927 [==============================] - 41s 7ms/step - loss: 0.0102 - mae: 0.0723 - mse: 0.0102 - val_loss: 0.0080 - val_mae: 0.0656 - val_mse: 0.0080- ETA: 2s - \n",
      "Epoch 28/60\n",
      "5927/5927 [==============================] - 41s 7ms/step - loss: 0.0094 - mae: 0.0699 - mse: 0.0094 - val_loss: 0.0166 - val_mae: 0.0994 - val_mse: 0.0166\n",
      "Epoch 29/60\n",
      "5927/5927 [==============================] - 40s 7ms/step - loss: 0.0092 - mae: 0.0685 - mse: 0.0092 - val_loss: 0.0066 - val_mae: 0.0614 - val_mse: 0.0066\n",
      "Epoch 30/60\n",
      "5927/5927 [==============================] - 40s 7ms/step - loss: 0.0085 - mae: 0.0660 - mse: 0.0085 - val_loss: 0.0051 - val_mae: 0.0526 - val_mse: 0.0051\n",
      "Epoch 31/60\n",
      "5927/5927 [==============================] - 41s 7ms/step - loss: 0.0083 - mae: 0.0653 - mse: 0.0083 - val_loss: 0.0138 - val_mae: 0.0863 - val_mse: 0.0138\n",
      "Epoch 32/60\n",
      "5927/5927 [==============================] - 41s 7ms/step - loss: 0.0075 - mae: 0.0625 - mse: 0.0075 - val_loss: 0.0048 - val_mae: 0.0508 - val_mse: 0.0048\n",
      "Epoch 33/60\n",
      "5927/5927 [==============================] - 40s 7ms/step - loss: 0.0074 - mae: 0.0622 - mse: 0.0074 - val_loss: 0.0051 - val_mae: 0.0543 - val_mse: 0.0051\n",
      "Epoch 34/60\n",
      "5927/5927 [==============================] - 41s 7ms/step - loss: 0.0072 - mae: 0.0603 - mse: 0.0072 - val_loss: 0.0070 - val_mae: 0.0604 - val_mse: 0.0070\n",
      "Epoch 35/60\n",
      "5927/5927 [==============================] - 40s 7ms/step - loss: 0.0066 - mae: 0.0592 - mse: 0.0066 - val_loss: 0.0180 - val_mae: 0.1009 - val_mse: 0.0180\n",
      "Epoch 36/60\n",
      "5927/5927 [==============================] - 39s 7ms/step - loss: 0.0066 - mae: 0.0591 - mse: 0.0066 - val_loss: 0.0072 - val_mae: 0.0615 - val_mse: 0.0072\n",
      "Epoch 37/60\n",
      "5927/5927 [==============================] - 36s 6ms/step - loss: 0.0060 - mae: 0.0565 - mse: 0.0060 - val_loss: 0.0057 - val_mae: 0.0586 - val_mse: 0.0057\n",
      "Epoch 38/60\n",
      "5927/5927 [==============================] - 36s 6ms/step - loss: 0.0059 - mae: 0.0560 - mse: 0.0059 - val_loss: 0.0079 - val_mae: 0.0655 - val_mse: 0.0079\n",
      "Epoch 39/60\n",
      "5927/5927 [==============================] - 34s 6ms/step - loss: 0.0057 - mae: 0.0549 - mse: 0.0057 - val_loss: 0.0101 - val_mae: 0.0779 - val_mse: 0.0101\n",
      "Epoch 40/60\n",
      "5927/5927 [==============================] - 36s 6ms/step - loss: 0.0054 - mae: 0.0537 - mse: 0.0054 - val_loss: 0.0087 - val_mae: 0.0743 - val_mse: 0.0087\n",
      "Epoch 41/60\n",
      "5927/5927 [==============================] - 37s 6ms/step - loss: 0.0052 - mae: 0.0529 - mse: 0.0052 - val_loss: 0.0098 - val_mae: 0.0695 - val_mse: 0.0098\n",
      "Epoch 42/60\n",
      "5927/5927 [==============================] - 37s 6ms/step - loss: 0.0052 - mae: 0.0524 - mse: 0.0052 - val_loss: 0.0046 - val_mae: 0.0500 - val_mse: 0.0046\n",
      "Epoch 43/60\n",
      "5927/5927 [==============================] - 37s 6ms/step - loss: 0.0053 - mae: 0.0524 - mse: 0.0053 - val_loss: 0.0069 - val_mae: 0.0597 - val_mse: 0.0069\n",
      "Epoch 44/60\n",
      "5927/5927 [==============================] - 37s 6ms/step - loss: 0.0048 - mae: 0.0506 - mse: 0.0048 - val_loss: 0.0035 - val_mae: 0.0422 - val_mse: 0.0035\n",
      "Epoch 45/60\n",
      "5927/5927 [==============================] - 36s 6ms/step - loss: 0.0048 - mae: 0.0501 - mse: 0.0048 - val_loss: 0.0035 - val_mae: 0.0456 - val_mse: 0.0035\n",
      "Epoch 46/60\n",
      "5927/5927 [==============================] - 37s 6ms/step - loss: 0.0045 - mae: 0.0488 - mse: 0.0045 - val_loss: 0.0054 - val_mae: 0.0574 - val_mse: 0.0054\n",
      "Epoch 47/60\n",
      "5927/5927 [==============================] - 38s 6ms/step - loss: 0.0046 - mae: 0.0487 - mse: 0.0046 - val_loss: 0.0030 - val_mae: 0.0397 - val_mse: 0.0030\n",
      "Epoch 48/60\n",
      "5927/5927 [==============================] - 37s 6ms/step - loss: 0.0043 - mae: 0.0477 - mse: 0.0043 - val_loss: 0.0071 - val_mae: 0.0626 - val_mse: 0.0071\n",
      "Epoch 49/60\n",
      "5927/5927 [==============================] - 37s 6ms/step - loss: 0.0043 - mae: 0.0472 - mse: 0.0043 - val_loss: 0.0094 - val_mae: 0.0705 - val_mse: 0.0094\n",
      "Epoch 50/60\n",
      "5927/5927 [==============================] - 33s 6ms/step - loss: 0.0041 - mae: 0.0463 - mse: 0.0041 - val_loss: 0.0055 - val_mae: 0.0553 - val_mse: 0.0055\n",
      "Epoch 51/60\n",
      "5927/5927 [==============================] - 33s 6ms/step - loss: 0.0042 - mae: 0.0464 - mse: 0.0042 - val_loss: 0.0028 - val_mae: 0.0384 - val_mse: 0.0028\n",
      "Epoch 52/60\n",
      "5927/5927 [==============================] - 33s 6ms/step - loss: 0.0039 - mae: 0.0454 - mse: 0.0039 - val_loss: 0.0039 - val_mae: 0.0469 - val_mse: 0.0039\n",
      "Epoch 53/60\n",
      "5927/5927 [==============================] - 33s 6ms/step - loss: 0.0039 - mae: 0.0447 - mse: 0.0039 - val_loss: 0.0039 - val_mae: 0.0449 - val_mse: 0.0039\n",
      "Epoch 54/60\n",
      "5927/5927 [==============================] - 32s 5ms/step - loss: 0.0039 - mae: 0.0447 - mse: 0.0039 - val_loss: 0.0052 - val_mae: 0.0524 - val_mse: 0.0052\n",
      "Epoch 55/60\n",
      "5927/5927 [==============================] - 34s 6ms/step - loss: 0.0037 - mae: 0.0433 - mse: 0.0037 - val_loss: 0.0046 - val_mae: 0.0476 - val_mse: 0.0046\n",
      "Epoch 56/60\n",
      "5927/5927 [==============================] - 34s 6ms/step - loss: 0.0035 - mae: 0.0430 - mse: 0.0035 - val_loss: 0.0032 - val_mae: 0.0420 - val_mse: 0.0032\n",
      "Epoch 57/60\n",
      "5927/5927 [==============================] - 33s 6ms/step - loss: 0.0036 - mae: 0.0429 - mse: 0.0036 - val_loss: 0.0120 - val_mae: 0.0835 - val_mse: 0.0120\n",
      "Epoch 58/60\n",
      "5927/5927 [==============================] - 39s 7ms/step - loss: 0.0035 - mae: 0.0425 - mse: 0.0035 - val_loss: 0.0057 - val_mae: 0.0595 - val_mse: 0.0057\n",
      "Epoch 59/60\n",
      "5927/5927 [==============================] - 42s 7ms/step - loss: 0.0035 - mae: 0.0421 - mse: 0.0035 - val_loss: 0.0146 - val_mae: 0.0918 - val_mse: 0.0146\n",
      "Epoch 60/60\n",
      "5927/5927 [==============================] - 39s 7ms/step - loss: 0.0033 - mae: 0.0414 - mse: 0.0033 - val_loss: 0.0037 - val_mae: 0.0419 - val_mse: 0.0037\n"
     ]
    }
   ],
   "source": [
    "FCNN_history = FCNN_model.fit(train_data, train_labels,\n",
    "                    epochs=60,\n",
    "                    batch_size = 32,\n",
    "                    #callbacks = [callback],\n",
    "                    validation_split = 0.3 \n",
    "                    )"
   ]
  },
  {
   "cell_type": "code",
   "execution_count": 155,
   "metadata": {},
   "outputs": [
    {
     "data": {
      "image/png": "[encoded data removed]",
      "text/plain": [
       "<Figure size 432x288 with 1 Axes>"
      ]
     },
     "metadata": {
      "needs_background": "light"
     },
     "output_type": "display_data"
    },
    {
     "name": "stdout",
     "output_type": "stream",
     "text": [
      "2117/2117 - 7s - loss: 0.0042 - mae: 0.0425 - mse: 0.0042\n"
     ]
    }
   ],
   "source": [
    "#loss plot of training and test data\n",
    "plt.plot(FCNN_history.history['loss'], label='loss')\n",
    "plt.plot(FCNN_history.history['val_loss'], label = 'val_loss')\n",
    "plt.xlabel('Epoch')\n",
    "plt.yscale('log')\n",
    "plt.ylabel('Loss')\n",
    "plt.legend(loc='upper right')\n",
    "plt.title(\"FCNN O-PPAC Loss Curve, Dropout 0, 2 Dense 256 Node, Adam 0.001, MSE, linear activation\")\n",
    "plt.show()\n",
    "\n",
    "#separation of 'result' values (stats from test data)\n",
    "result = FCNN_model.evaluate(test_data, test_labels, verbose=2)\n",
    "\n",
    "#separation of 'prediction' values (training data)\n",
    "predictions = FCNN_model.predict(test_data)"
   ]
  },
  {
   "cell_type": "code",
   "execution_count": 298,
   "metadata": {},
   "outputs": [
    {
     "name": "stdout",
     "output_type": "stream",
     "text": [
      "<class 'pandas.core.frame.DataFrame'>\n"
     ]
    }
   ],
   "source": [
    "#separates x and y predicted values so there can be separate graphs for each\n",
    "x_pred = predictions[:,0]\n",
    "y_pred = predictions[:,1]\n",
    "\n",
    "\n",
    "x_test1 = test_labels[0]\n",
    "y_test1 = test_labels[1]\n",
    "\n",
    "#converts to np.arrays for graphing\n",
    "x_test = np.array(x_test1)\n",
    "y_test = np.array(y_test1)\n",
    "\n",
    "x_test[0]\n",
    "y_test[0]"
   ]
  },
  {
   "cell_type": "code",
   "execution_count": 157,
   "metadata": {},
   "outputs": [
    {
     "data": {
      "image/png": "[encoded data removed]",
      "text/plain": [
       "<Figure size 432x288 with 1 Axes>"
      ]
     },
     "metadata": {
      "needs_background": "light"
     },
     "output_type": "display_data"
    }
   ],
   "source": [
    "#graph showing the accuracy of FCNN model by comparing predicted and true x values\n",
    "#should be as close to the diagonal as possible\n",
    "new_x_labels = []\n",
    "for i in range(x_test.shape[0]):\n",
    "    new_x_labels.append([x_test[i]])\n",
    "np.array(new_x_labels)\n",
    "new_x_labels[2]\n",
    "\n",
    "a = plt.axes(aspect='equal')\n",
    "\n",
    "plt.scatter(new_x_labels, x_pred, s=6, marker = \"x\")\n",
    "plt.xlabel('True Values')\n",
    "plt.ylabel('Predictions')\n",
    "lims = [-50, 50]\n",
    "plt.xlim(lims)\n",
    "plt.ylim(lims)\n",
    "_ = plt.plot(lims, lims, linewidth = .5)\n",
    "plt.title(\"FCNN O-PPAC X Predictions vs True X Values\")\n",
    "plt.show()"
   ]
  },
  {
   "cell_type": "code",
   "execution_count": 158,
   "metadata": {},
   "outputs": [
    {
     "data": {
      "image/png": "[encoded data removed]",
      "text/plain": [
       "<Figure size 432x288 with 1 Axes>"
      ]
     },
     "metadata": {
      "needs_background": "light"
     },
     "output_type": "display_data"
    }
   ],
   "source": [
    "#graph showing the accuracy of FCNN model by comparing predicted and true y values\n",
    "#should be as close to the diagonal as possible\n",
    "new_y_labels = []\n",
    "for i in range(y_test.shape[0]):\n",
    "    new_y_labels.append([y_test[i]])\n",
    "np.array(new_y_labels)\n",
    "new_y_labels[2]\n",
    "\n",
    "a = plt.axes(aspect='equal')\n",
    "plt.scatter(new_y_labels, y_pred, s=6, marker = \"x\")\n",
    "plt.xlabel('True Values')\n",
    "plt.ylabel('Predictions')\n",
    "lims = [-50, 50]\n",
    "plt.xlim(lims)\n",
    "plt.ylim(lims)\n",
    "_ = plt.plot(lims, lims, linewidth = .5)\n",
    "plt.title(\"FCNN O-PPAC Y Predictions vs True Y Values\")\n",
    "plt.show()"
   ]
  },
  {
   "cell_type": "code",
   "execution_count": 159,
   "metadata": {},
   "outputs": [
    {
     "name": "stdout",
     "output_type": "stream",
     "text": [
      "2\n",
      "[-1.3194618225097656, -6.698822021484375]\n"
     ]
    }
   ],
   "source": [
    "#to find the locations of largest error within my predicted x values\n",
    "x_error = []\n",
    "\n",
    "#reads through every data point from the FCNN and compares to the true value by finding the difference between the two\n",
    "for i in range(x_pred.shape[0]):\n",
    "    x_error_test = x_pred[i] - x_test[i]\n",
    "    x_error.append(x_error_test)\n",
    "\n",
    "#this takes all the points with error greater than 1 mm\n",
    "#one can then see the number of points with large error + use lower code to see where/what they are\n",
    "xerror_list = [i for i in x_error if abs(i) >= 1]\n",
    "xerror_list.sort(reverse = True)\n",
    "print(len(xerror_list))\n",
    "print(xerror_list)"
   ]
  },
  {
   "cell_type": "code",
   "execution_count": 297,
   "metadata": {},
   "outputs": [
    {
     "data": {
      "image/png": "[encoded data removed]",
      "text/plain": [
       "<Figure size 432x288 with 1 Axes>"
      ]
     },
     "metadata": {
      "needs_background": "light"
     },
     "output_type": "display_data"
    },
    {
     "name": "stdout",
     "output_type": "stream",
     "text": [
      "[67]\n"
     ]
    }
   ],
   "source": [
    "#graph the location of areas with larger x-error; uses unshuffled data from above\n",
    "bad_xvalue = -6.698822021484375\n",
    "x_test_locat = x_error.index(bad_xvalue)\n",
    "\n",
    "plt.title('Problem Location Example')\n",
    "plt.plot(unshuf_data[x_test_locat][:-1]*100)\n",
    "plt.show()\n",
    "\n",
    "#prints event index within histgrid\n",
    "x_locat = np.where(x_pos == (np.array(x_test[x_error.index(bad_xvalue)])))\n",
    "y_locat = np.where(y_pos == (np.array(y_test[x_error.index(bad_xvalue)])))\n",
    "\n",
    "print(np.intersect1d(x_locat, y_locat))"
   ]
  },
  {
   "cell_type": "code",
   "execution_count": 283,
   "metadata": {},
   "outputs": [
    {
     "name": "stdout",
     "output_type": "stream",
     "text": [
      "2\n",
      "[1.818166732788086, -5.221246719360352]\n"
     ]
    }
   ],
   "source": [
    "#to find the locations of largest error within my predicted y values (same as the x code above but specific to y)\n",
    "y_error = []\n",
    "\n",
    "for i in range(y_pred.shape[0]):\n",
    "    y_error_test = y_pred[i] - y_test[i]\n",
    "    y_error.append(y_error_test)\n",
    "\n",
    "yerror_list = [i for i in y_error if abs(i) >= 1]\n",
    "yerror_list.sort(reverse = True)\n",
    "print(len(yerror_list))\n",
    "print(yerror_list)"
   ]
  },
  {
   "cell_type": "code",
   "execution_count": 284,
   "metadata": {},
   "outputs": [
    {
     "data": {
      "image/png": "[encoded data removed]",
      "text/plain": [
       "<Figure size 432x288 with 1 Axes>"
      ]
     },
     "metadata": {
      "needs_background": "light"
     },
     "output_type": "display_data"
    },
    {
     "name": "stdout",
     "output_type": "stream",
     "text": [
      "[67]\n"
     ]
    }
   ],
   "source": [
    "#graph the location of areas with larger error (bad_yvalue must come from y-prediction)\n",
    "bad_yvalue = -5.221246719360352\n",
    "y_test_locat = y_error.index(bad_yvalue)\n",
    "\n",
    "plt.title('Problem Location Example')\n",
    "plt.plot(unshuf_data[y_test_locat][:-1]*100)\n",
    "plt.show()\n",
    "\n",
    "#prints event index within histgrid\n",
    "x_locat = np.where(x_pos == (np.array(x_test[y_error.index(bad_yvalue)])))\n",
    "y_locat = np.where(y_pos == (np.array(y_test[y_error.index(bad_yvalue)])))\n",
    "\n",
    "print(np.intersect1d(x_locat, y_locat))"
   ]
  },
  {
   "cell_type": "code",
   "execution_count": 272,
   "metadata": {},
   "outputs": [
    {
     "name": "stdout",
     "output_type": "stream",
     "text": [
      "67726\n"
     ]
    },
    {
     "data": {
      "image/png": "[encoded data removed]",
      "text/plain": [
       "<Figure size 432x288 with 1 Axes>"
      ]
     },
     "metadata": {
      "needs_background": "light"
     },
     "output_type": "display_data"
    },
    {
     "name": "stdout",
     "output_type": "stream",
     "text": [
      "2.6647567749023438\n"
     ]
    }
   ],
   "source": [
    "#residue plot of x-error from the FCNN model\n",
    "x_error = []\n",
    "\n",
    "for i in range(x_pred.shape[0]):\n",
    "    x_error_test = x_pred[i] - x_test[i]\n",
    "    x_error.append(x_error_test)\n",
    "\n",
    "error_list_x = [i for i in x_error if abs(i) <= 1]\n",
    "print(len(error_list_x))\n",
    "\n",
    "num_bins_x = 81\n",
    "# the histogram of the data\n",
    "n, bins, patches = plt.hist(error_list_x, num_bins_x, density=1, facecolor='blue', alpha=0.5)\n",
    "\n",
    "plt.xlabel('X Error (real - pred)')\n",
    "plt.title(r'X Residual')\n",
    "plt.show()\n",
    "\n",
    "\n",
    "#calculate percent error\n",
    "x_abs_error = []\n",
    "for i in range(x_pred.shape[0]):\n",
    "    x_abs_error_test = abs(x_pred[i] - x_test[i])\n",
    "    x_abs_error.append(x_error_test)\n",
    "    \n",
    "x_perc_error = abs((sum(x_abs_error)/len(x_abs_error))*100)\n",
    "print(x_perc_error)"
   ]
  },
  {
   "cell_type": "code",
   "execution_count": 269,
   "metadata": {},
   "outputs": [
    {
     "name": "stdout",
     "output_type": "stream",
     "text": [
      "67726\n"
     ]
    },
    {
     "data": {
      "image/png": "[encoded data removed]",
      "text/plain": [
       "<Figure size 432x288 with 1 Axes>"
      ]
     },
     "metadata": {
      "needs_background": "light"
     },
     "output_type": "display_data"
    },
    {
     "name": "stdout",
     "output_type": "stream",
     "text": [
      "3.3594131469726562\n"
     ]
    }
   ],
   "source": [
    "#residue plot of y-error from the FCNN model\n",
    "y_error = []\n",
    "\n",
    "for i in range(y_pred.shape[0]):\n",
    "    y_error_test = y_pred[i] - y_test[i]\n",
    "    y_error.append(y_error_test)\n",
    "\n",
    "error_list_y = [i for i in y_error if abs(i) <= 1]\n",
    "print(len(error_list_y))\n",
    "\n",
    "num_bins_x = 81\n",
    "# the histogram of the data\n",
    "n, bins, patches = plt.hist(error_list_y, num_bins_x, density=1, facecolor='blue', alpha=0.5)\n",
    "\n",
    "plt.xlabel('Y Error (real - pred)')\n",
    "plt.title(r'Y Residual')\n",
    "plt.show()\n",
    "\n",
    "\n",
    "\n",
    "#percent error calculation\n",
    "y_abs_error = []\n",
    "for i in range(y_pred.shape[0]):\n",
    "    y_abs_error_test = abs(y_pred[i] - y_test[i])\n",
    "    y_abs_error.append(y_error_test)\n",
    "y_perc_error = (sum(y_abs_error)/len(y_abs_error))*100\n",
    "print(y_perc_error)"
   ]
  },
  {
   "cell_type": "code",
   "execution_count": null,
   "metadata": {},
   "outputs": [],
   "source": []
  },
  {
   "cell_type": "code",
   "execution_count": null,
   "metadata": {},
   "outputs": [],
   "source": [
    "#now to look at the data via the Gaussian model to check for better accuracy"
   ]
  },
  {
   "cell_type": "code",
   "execution_count": 165,
   "metadata": {},
   "outputs": [
    {
     "name": "stdout",
     "output_type": "stream",
     "text": [
      "(338636, 33)\n",
      "(338636,)\n",
      "0.0\n"
     ]
    }
   ],
   "source": [
    "#separate original unshuffled data into the 4 sides (each side has 33 diodes)\n",
    "x1_data = (unshuf_data[:, :33])*100\n",
    "x2_data = (unshuf_data[:, 33:66])*100\n",
    "y1_data = (unshuf_data[:, 66:99])*100\n",
    "y2_data = (unshuf_data[:, 99:132])*100\n",
    "\n",
    "#make sure the labels and data have the same indices by also using unshuffled labels\n",
    "x_label = unshuf_labels[ : , 0 ]\n",
    "y_label = unshuf_labels[ : , 1 ]\n",
    "\n",
    "print(x1_data.shape)\n",
    "print(x_label.shape)\n",
    "\n",
    "print(np.min(x1_data))"
   ]
  },
  {
   "cell_type": "code",
   "execution_count": 166,
   "metadata": {},
   "outputs": [
    {
     "name": "stdout",
     "output_type": "stream",
     "text": [
      "(338636, 33)\n",
      "(338636,)\n",
      "0.0\n"
     ]
    }
   ],
   "source": [
    "#turn the test_data and test_labels dfs into arrays  to work with them easily\n",
    "test_data_arr = test_data.to_numpy()\n",
    "test_labels_arr = test_labels.to_numpy()\n",
    "\n",
    "#separate the test data as done above; used so that it is the same sample as the FCNN\n",
    "x1_data_test = (test_data_arr[: , :33])*100\n",
    "x2_data_test = (test_data_arr[:, 33:66])*100\n",
    "y1_data_test = (test_data_arr[:, 66:99])*100\n",
    "y2_data_test = (test_data_arr[:, 99:132])*100\n",
    "\n",
    "#labels kept so they have the same indices\n",
    "x_label_test = test_labels_arr[ : , 0 ]\n",
    "y_label_test = test_labels_arr[ : , 1 ]\n",
    "\n",
    "print(x1_data.shape)\n",
    "print(x_label.shape)\n",
    "\n",
    "print(np.min(x1_data))"
   ]
  },
  {
   "cell_type": "code",
   "execution_count": null,
   "metadata": {},
   "outputs": [],
   "source": []
  },
  {
   "cell_type": "code",
   "execution_count": 41,
   "metadata": {},
   "outputs": [],
   "source": [
    "#https://stackoverflow.com/questions/19206332/gaussian-fit-for-python"
   ]
  },
  {
   "cell_type": "code",
   "execution_count": 167,
   "metadata": {},
   "outputs": [],
   "source": [
    "#basic gaussian fit stuff; needs x and y inputs for all data points; index is both for the y data and for lower code\n",
    "index = 45\n",
    "x = np.arange(0,33,1)\n",
    "y = x1_data_test[index,:]"
   ]
  },
  {
   "cell_type": "code",
   "execution_count": 168,
   "metadata": {},
   "outputs": [],
   "source": [
    "#gaussian fit function\n",
    "def func(x, k, sigma, mu):\n",
    "    return k*np.exp(-(x-mu)**2/(2*sigma**2))"
   ]
  },
  {
   "cell_type": "code",
   "execution_count": 173,
   "metadata": {},
   "outputs": [
    {
     "data": {
      "text/plain": [
       "array([30.84280187,  1.3597756 ,  6.69024628])"
      ]
     },
     "execution_count": 173,
     "metadata": {},
     "output_type": "execute_result"
    }
   ],
   "source": [
    "#curve fit code; bounds might be able to be played with still to improve model (specifically sigma in index 1)\n",
    "popt, _ = curve_fit(func, x, y, bounds=(0, [33.,7., 33.]))\n",
    "popt"
   ]
  },
  {
   "cell_type": "code",
   "execution_count": 174,
   "metadata": {},
   "outputs": [
    {
     "data": {
      "image/png": "[encoded data removed]",
      "text/plain": [
       "<Figure size 432x288 with 1 Axes>"
      ]
     },
     "metadata": {
      "needs_background": "light"
     },
     "output_type": "display_data"
    }
   ],
   "source": [
    "#plotting gaussian to make sure it looks logically correct\n",
    "plt.plot(x, func(x, *popt), 'g--', label='fit: k=%5.3f, sigma=%5.3f, mu=%5.3f' % tuple(popt))\n",
    "plt.plot(x1_data_test[index,:])\n",
    "plt.axvline(x = popt[2], color = \"magenta\", linewidth=.4, linestyle='dashdot', label='peak')\n",
    "plt.xlabel('Diode Number')\n",
    "plt.ylabel('Number of Detected Photons')\n",
    "plt.legend()\n",
    "plt.show()"
   ]
  },
  {
   "cell_type": "code",
   "execution_count": 273,
   "metadata": {},
   "outputs": [],
   "source": [
    "#same gaussian function as below, just reused so everything is in one place\n",
    "def func(x, a, sigma, x0):\n",
    "    return a*np.exp(-(x-x0)**2/(2*sigma**2))\n",
    "\n",
    "#function to (hopefully) fit gaussians (and thus, centroids which is what we want) onto all data sets\n",
    "def centroidmm(x, y):\n",
    "    popt, _ = curve_fit(func, x, y, bounds=(0, [33., 20., 33.]))\n",
    "    return (popt[2]/33)*100-48 #converts location from diode number to mm (measurement of x_pos & y_pos)\n",
    "\n",
    "#conversion and calculation + creation of centroid location array for all of the side x1    \n",
    "x1_peaks = []\n",
    "for i in range(x1_data_test.shape[0]):\n",
    "    x1_mm = centroidmm(np.arange(0,33,1), x1_data_test[i,:])\n",
    "    x1_peaks.append(x1_mm)\n",
    "    \n",
    "#been taking a long time to load even with cluster"
   ]
  },
  {
   "cell_type": "code",
   "execution_count": 275,
   "metadata": {},
   "outputs": [
    {
     "data": {
      "image/png": "[encoded data removed]",
      "text/plain": [
       "<Figure size 432x288 with 1 Axes>"
      ]
     },
     "metadata": {
      "needs_background": "light"
     },
     "output_type": "display_data"
    },
    {
     "name": "stdout",
     "output_type": "stream",
     "text": [
      "67727\n"
     ]
    },
    {
     "data": {
      "image/png": "[encoded data removed]",
      "text/plain": [
       "<Figure size 432x288 with 1 Axes>"
      ]
     },
     "metadata": {
      "needs_background": "light"
     },
     "output_type": "display_data"
    },
    {
     "name": "stdout",
     "output_type": "stream",
     "text": [
      "53.50251977021294\n"
     ]
    }
   ],
   "source": [
    "x1_peaks = np.array(x1_peaks)\n",
    "\n",
    "new_x1_labels_g = []\n",
    "for i in range(x1_peaks.shape[0]):\n",
    "    new_x1_labels_g.append(x1_peaks[i])\n",
    "np.array(new_x1_labels_g)\n",
    "\n",
    "a = plt.axes(aspect='equal')\n",
    "\n",
    "plt.scatter(new_x1_labels_g, x_label_test, s=6, marker = \"x\")\n",
    "plt.xlabel('True Values')\n",
    "plt.ylabel('Predictions')\n",
    "lims = [-50, 50]\n",
    "plt.xlim(lims)\n",
    "plt.ylim(lims)\n",
    "_ = plt.plot(lims, lims, linewidth = .5)\n",
    "plt.title(\"Gaussian Fit O-PPAC X1 Predictions vs True X Values\")\n",
    "plt.show()\n",
    "\n",
    "x1_error_g = []\n",
    "\n",
    "#reads through every data point from the FCNN and compares to the true value by finding the difference between the two\n",
    "for i in range(x1_peaks.shape[0]):\n",
    "    x1_error_test_g = x1_peaks[i] - x_label_test[i]\n",
    "    x1_error_g.append(x1_error_test_g)\n",
    "\n",
    "#this takes all the points with error greater than 1 mm\n",
    "#one can then see the number of points with large error + use lower code to see where/what they are\n",
    "error_list_x1_g = [i for i in x1_error_g if abs(i) <= 5]\n",
    "print(len(error_list_x1_g))\n",
    "\n",
    "num_bins_x = 81\n",
    "# the histogram of the data\n",
    "n, bins, patches = plt.hist(error_list_x1_g, num_bins_x, density=1, facecolor='blue', alpha=0.5)\n",
    "\n",
    "plt.xlabel('X Error (real - pred)')\n",
    "plt.title(r'X Residual')\n",
    "plt.show()\n",
    "\n",
    "#percent error calculation\n",
    "x1_abs_error = []\n",
    "for i in range(x1_peaks.shape[0]):\n",
    "    x1_abs_error_test = abs(x1_peaks[i] - x_label_test[i])\n",
    "    x1_abs_error.append(x1_abs_error_test)\n",
    "\n",
    "\n",
    "x1_perc_error = (sum(x1_abs_error)/len(x1_abs_error))*100\n",
    "print(x1_perc_error)"
   ]
  },
  {
   "cell_type": "code",
   "execution_count": 303,
   "metadata": {
    "scrolled": false
   },
   "outputs": [
    {
     "name": "stdout",
     "output_type": "stream",
     "text": [
      "7340\n"
     ]
    }
   ],
   "source": [
    "x1_error_g = []\n",
    "\n",
    "#reads through every data point from the FCNN and compares to the true value by finding the difference between the two\n",
    "for i in range(x1_peaks.shape[0]):\n",
    "    x1_error_test_g = x1_peaks[i] - x_label_test[i]\n",
    "    x1_error_g.append(x1_error_test_g)\n",
    "x1_error_g = np.array(x1_error_g) \n",
    "#this takes all the points with error greater than 1 mm\n",
    "#one can then see the number of points with large error + use lower code to see where/what they are\n",
    "x1error_list_g = [i for i in x1_error_g if abs(i) >= 1]\n",
    "x1error_list_g.sort(reverse = True)\n",
    "print(len(x1error_list_g))\n",
    "#print(x1error_list_g)"
   ]
  },
  {
   "cell_type": "code",
   "execution_count": 304,
   "metadata": {},
   "outputs": [
    {
     "ename": "IndexError",
     "evalue": "only integers, slices (`:`), ellipsis (`...`), numpy.newaxis (`None`) and integer or boolean arrays are valid indices",
     "output_type": "error",
     "traceback": [
      "\u001b[1;31m---------------------------------------------------------------------------\u001b[0m",
      "\u001b[1;31mIndexError\u001b[0m                                Traceback (most recent call last)",
      "\u001b[1;32m<ipython-input-304-028520cdcaed>\u001b[0m in \u001b[0;36m<module>\u001b[1;34m\u001b[0m\n\u001b[0;32m      1\u001b[0m \u001b[1;31m#graph the location of areas with larger error (bad_yvalue must come from y-prediction)\u001b[0m\u001b[1;33m\u001b[0m\u001b[1;33m\u001b[0m\u001b[1;33m\u001b[0m\u001b[0m\n\u001b[0;32m      2\u001b[0m \u001b[0mbad_x1value\u001b[0m \u001b[1;33m=\u001b[0m \u001b[1;33m-\u001b[0m\u001b[1;36m7.7600632340089675\u001b[0m\u001b[1;33m\u001b[0m\u001b[1;33m\u001b[0m\u001b[0m\n\u001b[1;32m----> 3\u001b[1;33m \u001b[0mx1_test_locat\u001b[0m \u001b[1;33m=\u001b[0m \u001b[0mx1_error_g\u001b[0m\u001b[1;33m[\u001b[0m\u001b[0mbad_x1value\u001b[0m\u001b[1;33m]\u001b[0m\u001b[1;33m\u001b[0m\u001b[1;33m\u001b[0m\u001b[0m\n\u001b[0m\u001b[0;32m      4\u001b[0m \u001b[1;33m\u001b[0m\u001b[0m\n\u001b[0;32m      5\u001b[0m \u001b[0mprint\u001b[0m\u001b[1;33m(\u001b[0m\u001b[0mx1_test_locat\u001b[0m\u001b[1;33m)\u001b[0m\u001b[1;33m\u001b[0m\u001b[1;33m\u001b[0m\u001b[0m\n",
      "\u001b[1;31mIndexError\u001b[0m: only integers, slices (`:`), ellipsis (`...`), numpy.newaxis (`None`) and integer or boolean arrays are valid indices"
     ]
    }
   ],
   "source": [
    "#graph the location of areas with larger error (bad_yvalue must come from y-prediction)\n",
    "bad_x1value = -7.7600632340089675\n",
    "x1_test_locat = x1_error_g[bad_x1value]\n",
    "\n",
    "print(x1_test_locat)\n",
    "\n",
    "plt.title('Problem Location Example')\n",
    "plt.plot(unshuf_data[x1_test_locat][:-1]*100)\n",
    "plt.show()\n",
    "\n",
    "#in \"bad value\" plug in y error value to find the index for x_pos and y_pos\n",
    "x_locat = np.where(x_pos == (np.array(x_label_test[x1_error_g.index(bad_x1value)])))\n",
    "y_locat = np.where(y_pos == (np.array(y_label_test[x1_error_g.index(bad_x1value)])))\n",
    "\n",
    "print(np.intersect1d(x_locat, y_locat))"
   ]
  },
  {
   "cell_type": "code",
   "execution_count": null,
   "metadata": {},
   "outputs": [],
   "source": []
  },
  {
   "cell_type": "code",
   "execution_count": 306,
   "metadata": {},
   "outputs": [],
   "source": [
    "#problems here\n",
    "x2_peaks = []\n",
    "#for i in range(x2_data_test.shape[0]):\n",
    "    #x2_mm = centroidmm(np.arange(0,33,1), x2_data_test[i,:])\n",
    "    #x2_peaks.append(x2_mm)"
   ]
  },
  {
   "cell_type": "code",
   "execution_count": 307,
   "metadata": {},
   "outputs": [],
   "source": [
    "y1_peaks = []\n",
    "#for i in range(y1_data_test.shape[0]):\n",
    "    #y1_mm = centroidmm(np.arange(0,33,1), y1_data_test[i,:])\n",
    "    #y1_peaks.append(y1_mm)"
   ]
  },
  {
   "cell_type": "code",
   "execution_count": 308,
   "metadata": {},
   "outputs": [],
   "source": [
    "y2_peaks = []\n",
    "#for i in range(x1_data_test.shape[0]):\n",
    "    #y2_mm = centroidmm(np.arange(0,33,1), y2_data_test[i,:])\n",
    "    #y2_peaks.append(y2_mm)"
   ]
  },
  {
   "cell_type": "code",
   "execution_count": null,
   "metadata": {},
   "outputs": [],
   "source": []
  },
  {
   "cell_type": "code",
   "execution_count": null,
   "metadata": {},
   "outputs": [],
   "source": [
    "#code for the future when i get the centroids up and running"
   ]
  },
  {
   "cell_type": "code",
   "execution_count": null,
   "metadata": {},
   "outputs": [],
   "source": [
    "#to see the error in the x\n",
    "#find the average between the two sides\n",
    "x_peaks = (x1_peaks + x2_peaks)/2\n",
    "\n",
    "#graph showing the accuracy of fit by comparing predicted and true x values\n",
    "#should be as close to the diagonal as possible\n",
    "new_x_labels_g = []\n",
    "for i in range(x_peaks.shape[0]):\n",
    "    new_x_labels_g.append([x_peaks[i])\n",
    "np.array(new_x_labels_g)\n",
    "\n",
    "a = plt.axes(aspect='equal')\n",
    "\n",
    "plt.scatter(new_x_labels_g, x_label_test, s=6, marker = \"x\")\n",
    "plt.xlabel('True Values')\n",
    "plt.ylabel('Predictions')\n",
    "lims = [-50, 50]\n",
    "plt.xlim(lims)\n",
    "plt.ylim(lims)\n",
    "_ = plt.plot(lims, lims, linewidth = .5)\n",
    "plt.title(\"Gaussian Fit O-PPAC X Predictions vs True X Values\")\n",
    "plt.show()"
   ]
  },
  {
   "cell_type": "code",
   "execution_count": null,
   "metadata": {},
   "outputs": [],
   "source": [
    "#to see the error in the y\n",
    "#find the average between the two sides\n",
    "y_peaks = (y1_peaks + y2_peaks)/2\n",
    "\n",
    "#graph showing the accuracy of fit by comparing predicted and true x values\n",
    "#should be as close to the diagonal as possible\n",
    "new_y_labels_g = []\n",
    "for i in range(y_peaks.shape[0]):\n",
    "    new_y_labels_g.append([y_peaks[i])\n",
    "np.array(new_y_labels_g)\n",
    "\n",
    "a = plt.axes(aspect='equal')\n",
    "\n",
    "plt.scatter(new_y_labels_g, y_label_test, s=6, marker = \"x\")\n",
    "plt.xlabel('True Values')\n",
    "plt.ylabel('Predictions')\n",
    "lims = [-50, 50]\n",
    "plt.xlim(lims)\n",
    "plt.ylim(lims)\n",
    "_ = plt.plot(lims, lims, linewidth = .5)\n",
    "plt.title(\"Gaussian Fit O-PPAC Y Predictions vs True Y Values\")\n",
    "plt.show()"
   ]
  },
  {
   "cell_type": "code",
   "execution_count": null,
   "metadata": {},
   "outputs": [],
   "source": []
  },
  {
   "cell_type": "code",
   "execution_count": null,
   "metadata": {},
   "outputs": [],
   "source": [
    "#calculate error\n",
    "#to find the locations of largest error within my predicted x values\n",
    "x_error_g = []\n",
    "\n",
    "#reads through every data point from the FCNN and compares to the true value by finding the difference between the two\n",
    "for i in range(x_peaks.shape[0]):\n",
    "    x_error_test_g = x_peaks[i] - x_label_test[i]\n",
    "    x_error_g.append(x_error_test_g)\n",
    "\n",
    "#this takes all the points with error greater than 1 mm\n",
    "#one can then see the number of points with large error + use lower code to see where/what they are\n",
    "xerror_list_g = [i for i in x_error_g if abs(i) >= 1]\n",
    "xerror_list_g.sort(reverse = True)\n",
    "print(len(xerror_list_g))\n",
    "print(xerror_list_g)"
   ]
  }
 ],
 "metadata": {
  "kernelspec": {
   "display_name": "Python 3",
   "language": "python",
   "name": "python3"
  },
  "language_info": {
   "codemirror_mode": {
    "name": "ipython",
    "version": 3
   },
   "file_extension": ".py",
   "mimetype": "text/x-python",
   "name": "python",
   "nbconvert_exporter": "python",
   "pygments_lexer": "ipython3",
   "version": "3.7.6"
  }
 },
 "nbformat": 4,
 "nbformat_minor": 4
}
