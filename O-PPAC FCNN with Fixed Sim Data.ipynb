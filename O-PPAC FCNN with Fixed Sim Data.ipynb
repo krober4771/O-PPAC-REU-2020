{
 "cells": [
  {
   "cell_type": "code",
   "execution_count": 11,
   "metadata": {},
   "outputs": [],
   "source": [
    "#This program fits the O-PPAC data onto a FCNN model\n",
    "import tensorflow as tf\n",
    "from tensorflow.keras import datasets, layers, models, metrics, Model\n",
    "from tensorflow.keras.callbacks import Callback\n",
    "from sklearn.model_selection import train_test_split\n",
    "import tensorflow_docs.plots\n",
    "import tensorflow_docs.modeling\n",
    "import numpy as np\n",
    "from numpy import *\n",
    "import pandas as pd\n",
    "import matplotlib.pyplot as plt\n",
    "from scipy.optimize import curve_fit\n",
    "import h5py\n",
    "import datetime"
   ]
  },
  {
   "cell_type": "code",
   "execution_count": null,
   "metadata": {},
   "outputs": [],
   "source": [
    "dataset = np.load(\"/home/roberts/O-PPAC/recomplied_dataset_fixed.npy\")\n",
    "all_data = dataset[ : , :132]\n",
    "all_labels = dataset[: , -2:]\n",
    "\n",
    "print(all_data.shape)\n",
    "print(all_labels.shape)"
   ]
  },
  {
   "cell_type": "code",
   "execution_count": null,
   "metadata": {},
   "outputs": [],
   "source": [
    "train_data, test_data, train_labels, test_labels = train_test_split(all_data, all_labels, test_size=0.2,shuffle=True)\n",
    "#splits training and test data for the FCNN; 20% set aside for testing"
   ]
  },
  {
   "cell_type": "code",
   "execution_count": null,
   "metadata": {},
   "outputs": [],
   "source": [
    "print(train_data.ndim)\n",
    "print(train_data.shape)\n",
    "print(train_data[0])"
   ]
  },
  {
   "cell_type": "code",
   "execution_count": null,
   "metadata": {},
   "outputs": [],
   "source": [
    "#early stopping mechanism; can increase amount of time before stopping by increasing patience\n",
    "callback = tf.keras.callbacks.EarlyStopping(monitor='val_loss', patience=10)"
   ]
  },
  {
   "cell_type": "code",
   "execution_count": null,
   "metadata": {},
   "outputs": [],
   "source": [
    "#Fully connected neural network\n",
    "#the \"layers\" are the dense hidden layers which are fully connected\n",
    "#first number changes the nodes, 2nd is the activation function, (first line has number of inputs as well)\n",
    "\n",
    "FCNN_model = tf.keras.Sequential()\n",
    "FCNN_model.add(layers.Dense(256, activation='relu', input_shape = [132]))\n",
    "FCNN_model.add(layers.Dense(256, activation = 'relu'))\n",
    "#FCNN_model.add(layers.Dense(128, activation = 'relu'))\n",
    "#FCNN_model.add(layers.Dense(128, activation = 'relu'))\n",
    "#FCNN_model.add(layers.Dropout(0.2))\n",
    "FCNN_model.add(layers.Dense(2, activation = 'linear'))"
   ]
  },
  {
   "cell_type": "code",
   "execution_count": null,
   "metadata": {},
   "outputs": [],
   "source": [
    "#compiles the FCNN and includes the learning rate as well\n",
    "FCNN_model.compile(optimizer = tf.keras.optimizers.Adam(learning_rate=0.001), \n",
    "              loss = 'mse', \n",
    "              metrics=['mae', 'mse'])"
   ]
  },
  {
   "cell_type": "code",
   "execution_count": null,
   "metadata": {},
   "outputs": [],
   "source": [
    "FCNN_history = FCNN_model.fit(train_data, train_labels,\n",
    "                    epochs=10,\n",
    "                    batch_size = 32,\n",
    "                    #callbacks = [callback],\n",
    "                    validation_split = 0.3 \n",
    "                    )"
   ]
  },
  {
   "cell_type": "code",
   "execution_count": null,
   "metadata": {},
   "outputs": [],
   "source": [
    "#loss plot of training and test data\n",
    "plt.plot(FCNN_history.history['loss'], label='loss')\n",
    "plt.plot(FCNN_history.history['val_loss'], label = 'val_loss')\n",
    "plt.xlabel('Epoch')\n",
    "plt.yscale('log')\n",
    "plt.ylabel('Loss')\n",
    "plt.legend(loc='upper right')\n",
    "plt.title(\"FCNN O-PPAC Loss Curve, Dropout 0, 2 Dense 256 Node, Adam 0.001, MSE, linear activation\")\n",
    "plt.show()"
   ]
  },
  {
   "cell_type": "code",
   "execution_count": null,
   "metadata": {},
   "outputs": [],
   "source": [
    "# serialize model to JSON\n",
    "FCNNmodel = FCNN_model.to_json()\n",
    "with open(\"FCNNmodel\", \"w\") as json_file:\n",
    "    json_file.write(FCNNmodel)\n",
    "# serialize weights to HDF5\n",
    "FCNN_model.save_weights(\"FCNNmodel_weights.h5\")"
   ]
  },
  {
   "cell_type": "code",
   "execution_count": null,
   "metadata": {},
   "outputs": [],
   "source": [
    "#to reload model from before:\n",
    "\n",
    "    # load json and create model\n",
    "#model_file = open('FCNN', 'r')\n",
    "#loaded_FCNN_model = model_file.read()\n",
    "#model_file.close()\n",
    "#FCNN_model = model_from_json(loaded_FCNN_model)\n",
    "\n",
    "    # load weights into new model\n",
    "#FCNN_model.load_weights(\"FCNNmodel_weights.h5\")"
   ]
  },
  {
   "cell_type": "code",
   "execution_count": null,
   "metadata": {},
   "outputs": [],
   "source": [
    "#separation of 'result' values (stats from test data)\n",
    "result = FCNN_model.evaluate(test_data, test_labels, verbose=2)"
   ]
  },
  {
   "cell_type": "code",
   "execution_count": null,
   "metadata": {},
   "outputs": [],
   "source": [
    "#separation of 'prediction' values (training data)\n",
    "predictions = FCNN_model.predict(test_data)"
   ]
  },
  {
   "cell_type": "code",
   "execution_count": null,
   "metadata": {},
   "outputs": [],
   "source": [
    "#separates x and y predicted values so there can be separate graphs for each\n",
    "x_pred = predictions[:,0]\n",
    "y_pred = predictions[:,1]\n",
    "\n",
    "#separates x and y labels for comparisons to the predicted locations\n",
    "x_test = np.array(test_labels[:,0])\n",
    "y_test = np.array(test_labels[:,1])"
   ]
  },
  {
   "cell_type": "code",
   "execution_count": null,
   "metadata": {},
   "outputs": [],
   "source": [
    "#graph showing the accuracy of model by comparing predicted and true x values\n",
    "#should be as close to the diagonal as possible\n",
    "a = plt.axes(aspect='equal')\n",
    "plt.scatter(x_test, x_pred, s=6, marker = \"x\")\n",
    "plt.xlabel('True Values')\n",
    "plt.ylabel('Predictions')\n",
    "lims = [-50, 50]\n",
    "plt.xlim(lims)\n",
    "plt.ylim(lims)\n",
    "_ = plt.plot(lims, lims, linewidth = .5)\n",
    "plt.title(\"FCNN O-PPAC X Predictions vs True X Values\")\n",
    "plt.show()"
   ]
  },
  {
   "cell_type": "code",
   "execution_count": null,
   "metadata": {},
   "outputs": [],
   "source": [
    "#graph showing the accuracy of model by comparing predicted and true y values\n",
    "#should be as close to the diagonal as possible\n",
    "a = plt.axes(aspect='equal')\n",
    "plt.scatter(y_test, y_pred, s=6, marker = \"x\")\n",
    "plt.xlabel('True Values')\n",
    "plt.ylabel('Predictions')\n",
    "lims = [-50, 50]\n",
    "plt.xlim(lims)\n",
    "plt.ylim(lims)\n",
    "_ = plt.plot(lims, lims, linewidth = .5)\n",
    "plt.title(\"FCNN O-PPAC Y Predictions vs True Y Values\")\n",
    "plt.show()"
   ]
  },
  {
   "cell_type": "code",
   "execution_count": null,
   "metadata": {},
   "outputs": [],
   "source": [
    "#to find the locations of largest error within my predicted x values\n",
    "x_error = x_pred - x_test\n",
    "\n",
    "#this takes all the points with error greater than 1 mm\n",
    "xerror_list = [err for (idx, err) in enumerate(x_error) if err >= 1]\n",
    "print(xerror_list)"
   ]
  },
  {
   "cell_type": "code",
   "execution_count": null,
   "metadata": {},
   "outputs": [],
   "source": [
    "#to find the locations of largest error within my predicted y values (same as the x code above but specific to y)\n",
    "y_error = y_pred - y_test \n",
    "\n",
    "yerror_list = [ err for (idx, err) in enumerate(y_error) if err >= 1]\n",
    "print(yerror_list)"
   ]
  },
  {
   "cell_type": "code",
   "execution_count": null,
   "metadata": {},
   "outputs": [],
   "source": [
    "# setting up for residue plot of x-error from the model\n",
    "error_list_x = [i for i in x_error if abs(i) <= .5]\n",
    "print(len(error_list_x))"
   ]
  },
  {
   "cell_type": "code",
   "execution_count": null,
   "metadata": {},
   "outputs": [],
   "source": [
    "# setting up for residue plot of y-error from the model\n",
    "error_list_y = [i for i in y_error if abs(i) <= .5]\n",
    "print(len(error_list_y))"
   ]
  },
  {
   "cell_type": "code",
   "execution_count": 12,
   "metadata": {},
   "outputs": [],
   "source": [
    "def gaussianpdf(x, k, sigma, mu):\n",
    "    return k*np.exp(-0.5*((x-mu)/sigma)**2)\n",
    "\n",
    "def full_half(data):\n",
    "    bin_heights, bin_borders, _ = plt.hist(data, bins='auto', label='Residual')\n",
    "    bin_centers = bin_borders[:-1] + np.diff(bin_borders) / 2\n",
    "    popt, _ = curve_fit(gaussianpdf, bin_centers, bin_heights, p0=[60., 10., 30.])\n",
    "    fwhm = popt[1]*2.355\n",
    "    \n",
    "    x_interval_for_fit = np.linspace(bin_borders[0], bin_borders[-1], 10000) #the x interval the fit is put over\n",
    "    plt.plot(x_interval_for_fit, gaussianpdf(x_interval_for_fit, *popt), label='Gaussian Fit')\n",
    "    gauss = gaussianpdf(x_interval_for_fit, *popt) #y data for the gaussian fit if needed to be plotted separately\n",
    "    plt.legend(bbox_to_anchor=(1.05, 1), loc='upper left', borderaxespad=0.)\n",
    "    return np.abs(fwhm)"
   ]
  },
  {
   "cell_type": "code",
   "execution_count": 9,
   "metadata": {},
   "outputs": [
    {
     "ename": "NameError",
     "evalue": "name 'full_half' is not defined",
     "output_type": "error",
     "traceback": [
      "\u001b[1;31m---------------------------------------------------------------------------\u001b[0m",
      "\u001b[1;31mNameError\u001b[0m                                 Traceback (most recent call last)",
      "\u001b[1;32m<ipython-input-9-08273e5df907>\u001b[0m in \u001b[0;36m<module>\u001b[1;34m\u001b[0m\n\u001b[1;32m----> 1\u001b[1;33m \u001b[0mx_fwhm\u001b[0m \u001b[1;33m=\u001b[0m \u001b[0mfull_half\u001b[0m\u001b[1;33m(\u001b[0m\u001b[0merror_list_x\u001b[0m\u001b[1;33m)\u001b[0m\u001b[1;33m\u001b[0m\u001b[1;33m\u001b[0m\u001b[0m\n\u001b[0m\u001b[0;32m      2\u001b[0m \u001b[0mplt\u001b[0m\u001b[1;33m.\u001b[0m\u001b[0mtitle\u001b[0m\u001b[1;33m(\u001b[0m\u001b[1;34m'FCNN X Residual'\u001b[0m\u001b[1;33m)\u001b[0m\u001b[1;33m\u001b[0m\u001b[1;33m\u001b[0m\u001b[0m\n\u001b[0;32m      3\u001b[0m \u001b[0mplt\u001b[0m\u001b[1;33m.\u001b[0m\u001b[0mshow\u001b[0m\u001b[1;33m(\u001b[0m\u001b[1;33m)\u001b[0m\u001b[1;33m\u001b[0m\u001b[1;33m\u001b[0m\u001b[0m\n\u001b[0;32m      4\u001b[0m \u001b[0mprint\u001b[0m\u001b[1;33m(\u001b[0m\u001b[0mx_fwhm\u001b[0m\u001b[1;33m)\u001b[0m\u001b[1;33m\u001b[0m\u001b[1;33m\u001b[0m\u001b[0m\n",
      "\u001b[1;31mNameError\u001b[0m: name 'full_half' is not defined"
     ]
    }
   ],
   "source": [
    "x_fwhm = full_half(error_list_x)\n",
    "plt.title('FCNN X Residual')\n",
    "plt.show()\n",
    "print(x_fwhm)"
   ]
  },
  {
   "cell_type": "code",
   "execution_count": null,
   "metadata": {},
   "outputs": [],
   "source": [
    "y_fwhm = full_half(error_list_y)\n",
    "plt.title('FCNN Y Residual')\n",
    "plt.show()\n",
    "print(y_fwhm)"
   ]
  },
  {
   "cell_type": "code",
   "execution_count": null,
   "metadata": {},
   "outputs": [],
   "source": []
  }
 ],
 "metadata": {
  "kernelspec": {
   "display_name": "Python 3",
   "language": "python",
   "name": "python3"
  },
  "language_info": {
   "codemirror_mode": {
    "name": "ipython",
    "version": 3
   },
   "file_extension": ".py",
   "mimetype": "text/x-python",
   "name": "python",
   "nbconvert_exporter": "python",
   "pygments_lexer": "ipython3",
   "version": "3.7.6"
  }
 },
 "nbformat": 4,
 "nbformat_minor": 4
}
