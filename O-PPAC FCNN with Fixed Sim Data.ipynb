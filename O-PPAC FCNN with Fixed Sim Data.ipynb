{
 "cells": [
  {
   "cell_type": "code",
   "execution_count": 60,
   "metadata": {},
   "outputs": [],
   "source": [
    "#This program fits the O-PPAC data onto a FCNN model\n",
    "import tensorflow as tf\n",
    "from tensorflow.keras import datasets, layers, models, metrics, Model\n",
    "from tensorflow.keras.callbacks import Callback\n",
    "from sklearn.model_selection import train_test_split\n",
    "from sklearn.metrics import classification_report\n",
    "from sklearn.preprocessing import normalize\n",
    "import tensorflow_docs as tfdocs\n",
    "import tensorflow_docs.plots\n",
    "import tensorflow_docs.modeling\n",
    "import numpy as np\n",
    "from numpy import *\n",
    "import pandas as pd\n",
    "import matplotlib.pyplot as plt\n",
    "import matplotlib.mlab as mlab\n",
    "import h5py\n",
    "import datetime"
   ]
  },
  {
   "cell_type": "code",
   "execution_count": 61,
   "metadata": {},
   "outputs": [
    {
     "name": "stdout",
     "output_type": "stream",
     "text": [
      "(991, 342, 132)\n"
     ]
    }
   ],
   "source": [
    "dataset = h5py.File('simu_HDF_thistimeforReal.h5', 'r') #load data\n",
    "num_diodes = dataset['Num_diodes'][...] #separate the data into each key within the data file\n",
    "x_pos = (dataset['Xpos'][...])/100\n",
    "y_pos = (dataset['Ypos'][...])/100\n",
    "histgrid = dataset['histgrid'][...]\n",
    "histgrid = histgrid[:-10,:,:] #redefine the shape and size of histgrid by removing the last 10 events\n",
    "output = np.vstack((x_pos,y_pos)) #define new, single variable for x and y position\n",
    "output = np.transpose(output) #original definition was sideways, so we transposed it\n",
    "\n",
    "where_are_NaNs = isnan(histgrid) #removes any NaN values within histgrid; shouldn't be a problem with \"values\" removed\n",
    "histgrid[where_are_NaNs] = 0\n",
    "\n",
    "print(histgrid.shape)\n",
    "\n",
    "dataset.close()"
   ]
  },
  {
   "cell_type": "code",
   "execution_count": 81,
   "metadata": {},
   "outputs": [
    {
     "name": "stdout",
     "output_type": "stream",
     "text": [
      "(338922, 132)\n",
      "(338922, 2)\n"
     ]
    }
   ],
   "source": [
    "def data_compile(histdata):\n",
    "    data = []  #creates empty arrays for data and labels\n",
    "    labels = []\n",
    "    for i in range(histdata.shape[1]):\n",
    "        for j in range(0,histdata.shape[0]):\n",
    "            data.append(histdata[j,i,:]) #puts histgrid data inside of \"data\"\n",
    "            labels.append(output[i]) #puts x,y _pos into \"labels\"\n",
    "    return(np.array(data),np.array(labels))\n",
    "\n",
    "all_data, all_labels = data_compile(histgrid)\n",
    "\n",
    "#to make sure everything is the correct shape\n",
    "print(all_data.shape)\n",
    "print(all_labels.shape)"
   ]
  },
  {
   "cell_type": "code",
   "execution_count": 82,
   "metadata": {},
   "outputs": [
    {
     "name": "stdout",
     "output_type": "stream",
     "text": [
      "0.8395246220687987\n"
     ]
    }
   ],
   "source": [
    "#normalizes all data to unit vectors\n",
    "all_data = normalize(all_data,axis = 1)\n",
    "print(np.max(all_data))"
   ]
  },
  {
   "cell_type": "code",
   "execution_count": 83,
   "metadata": {},
   "outputs": [
    {
     "name": "stdout",
     "output_type": "stream",
     "text": [
      "338922\n",
      "338922\n",
      "286\n",
      "338636\n",
      "338636\n"
     ]
    }
   ],
   "source": [
    "#define all_labels and all_data as df's to better view rows and add column\n",
    "all_labels = pd.DataFrame(all_labels)\n",
    "all_data = pd.DataFrame(all_data)\n",
    "all_data[\"sum\"] = np.sum(all_data, axis = 1) #column added to find rows with only 0\n",
    "\n",
    "#confirming number of initial entries\n",
    "print(len(all_labels))\n",
    "print(len(all_data))\n",
    "\n",
    "#find all the locations in all_data (by index) where the only values are 0 across the diodes\n",
    "remove_labels = list(all_data[all_data[\"sum\"] == 0].index)\n",
    "print(len(remove_labels))\n",
    "\n",
    "#added these to ensure I have unshuffled versions of the data and labels for finding locations with larger error\n",
    "unshuf_labels = all_labels.drop(all_labels.index[remove_labels])\n",
    "unshuf_data = all_data[all_data[\"sum\"] != 0]\n",
    "\n",
    "#lets all_labels and all_data start with the same indices and values as their unshuffled counterparts\n",
    "all_labels = unshuf_labels\n",
    "unshuf_labels = unshuf_labels.to_numpy() #dfs are hard to graph with, so I converted to np.arrays for future use\n",
    "all_data = unshuf_data\n",
    "unshuf_data = unshuf_data.to_numpy()\n",
    "\n",
    "#confirm new number of entries (should be len(remove_labels) less than the intital value)\n",
    "print(len(all_labels))\n",
    "print(len(all_data))\n",
    "\n",
    "#must remove the sum column before using in FCNN; otherwise it will treat it as a data point \n",
    "del all_data['sum']"
   ]
  },
  {
   "cell_type": "code",
   "execution_count": 84,
   "metadata": {},
   "outputs": [],
   "source": [
    "train_data, test_data, train_labels, test_labels = train_test_split(all_data, all_labels, test_size=0.2,shuffle=True)\n",
    "#splits training and test data for the FCNN; 20% set aside for testing"
   ]
  },
  {
   "cell_type": "code",
   "execution_count": 85,
   "metadata": {},
   "outputs": [
    {
     "name": "stdout",
     "output_type": "stream",
     "text": [
      "2\n",
      "(270908, 132)\n",
      "205154    0.0\n",
      "327739    0.0\n",
      "219032    0.0\n",
      "178461    0.0\n",
      "308329    0.0\n",
      "         ... \n",
      "81520     0.0\n",
      "210414    0.0\n",
      "52922     0.0\n",
      "338273    0.0\n",
      "210042    0.0\n",
      "Name: 0, Length: 270908, dtype: float64\n"
     ]
    }
   ],
   "source": [
    "print(train_data.ndim)\n",
    "print(train_data.shape)\n",
    "print(train_data[0])"
   ]
  },
  {
   "cell_type": "code",
   "execution_count": 86,
   "metadata": {},
   "outputs": [],
   "source": [
    "#early stopping mechanism; can increase amount of time before stopping by increasing patience\n",
    "callback = tf.keras.callbacks.EarlyStopping(monitor='val_loss', patience=10)"
   ]
  },
  {
   "cell_type": "code",
   "execution_count": 87,
   "metadata": {},
   "outputs": [],
   "source": [
    "#Fully connected neural network\n",
    "#the \"layers\" are the dense hidden layers which are fully connected\n",
    "#first number changes the nodes, 2nd is the activation function, (first line has number of inputs as well)\n",
    "\n",
    "FCNN_model = tf.keras.Sequential()\n",
    "FCNN_model.add(layers.Dense(256, activation='relu', input_shape = [132]))\n",
    "FCNN_model.add(layers.Dense(256, activation = 'relu'))\n",
    "#FCNN_model.add(layers.Dense(128, activation = 'relu'))\n",
    "#FCNN_model.add(layers.Dense(128, activation = 'relu'))\n",
    "#FCNN_model.add(layers.Dropout(0.2))\n",
    "FCNN_model.add(layers.Dense(2, activation = 'linear'))"
   ]
  },
  {
   "cell_type": "code",
   "execution_count": 88,
   "metadata": {},
   "outputs": [],
   "source": [
    "#compiles the FCNN and includes the learning rate as well\n",
    "FCNN_model.compile(optimizer = tf.keras.optimizers.Adam(learning_rate=0.001), \n",
    "              loss = 'mse', \n",
    "              metrics=['mae', 'mse'])"
   ]
  },
  {
   "cell_type": "code",
   "execution_count": 89,
   "metadata": {},
   "outputs": [
    {
     "name": "stdout",
     "output_type": "stream",
     "text": [
      "Epoch 1/100\n",
      "5927/5927 [==============================] - 23s 4ms/step - loss: 4.4656 - mae: 0.6876 - mse: 4.4656 - val_loss: 0.2225 - val_mae: 0.3695 - val_mse: 0.2225\n",
      "Epoch 2/100\n",
      "5927/5927 [==============================] - 18s 3ms/step - loss: 0.1850 - mae: 0.3280 - mse: 0.1850 - val_loss: 0.1268 - val_mae: 0.2787 - val_mse: 0.1268\n",
      "Epoch 3/100\n",
      "5927/5927 [==============================] - 19s 3ms/step - loss: 0.1175 - mae: 0.2641 - mse: 0.1175 - val_loss: 0.1157 - val_mae: 0.2703 - val_mse: 0.1157\n",
      "Epoch 4/100\n",
      "5927/5927 [==============================] - 16s 3ms/step - loss: 0.0830 - mae: 0.2227 - mse: 0.0830 - val_loss: 0.0659 - val_mae: 0.2028 - val_mse: 0.0659\n",
      "Epoch 5/100\n",
      "5927/5927 [==============================] - 19s 3ms/step - loss: 0.0689 - mae: 0.2018 - mse: 0.0689 - val_loss: 0.0533 - val_mae: 0.1821 - val_mse: 0.0533\n",
      "Epoch 6/100\n",
      "5927/5927 [==============================] - 17s 3ms/step - loss: 0.0569 - mae: 0.1834 - mse: 0.0569 - val_loss: 0.0464 - val_mae: 0.1717 - val_mse: 0.0464\n",
      "Epoch 7/100\n",
      "5927/5927 [==============================] - 19s 3ms/step - loss: 0.0485 - mae: 0.1688 - mse: 0.0485 - val_loss: 0.0594 - val_mae: 0.1984 - val_mse: 0.0594\n",
      "Epoch 8/100\n",
      "5927/5927 [==============================] - 18s 3ms/step - loss: 0.0417 - mae: 0.1557 - mse: 0.0417 - val_loss: 0.0459 - val_mae: 0.1686 - val_mse: 0.0459\n",
      "Epoch 9/100\n",
      "5927/5927 [==============================] - 18s 3ms/step - loss: 0.0368 - mae: 0.1459 - mse: 0.0368 - val_loss: 0.0412 - val_mae: 0.1596 - val_mse: 0.0412\n",
      "Epoch 10/100\n",
      "5927/5927 [==============================] - 18s 3ms/step - loss: 0.0333 - mae: 0.1377 - mse: 0.0333 - val_loss: 0.0421 - val_mae: 0.1632 - val_mse: 0.0421\n",
      "Epoch 11/100\n",
      "5927/5927 [==============================] - 16s 3ms/step - loss: 0.0300 - mae: 0.1302 - mse: 0.0300 - val_loss: 0.0297 - val_mae: 0.1343 - val_mse: 0.0297\n",
      "Epoch 12/100\n",
      "5927/5927 [==============================] - 18s 3ms/step - loss: 0.0277 - mae: 0.1250 - mse: 0.0277 - val_loss: 0.0340 - val_mae: 0.1373 - val_mse: 0.0340\n",
      "Epoch 13/100\n",
      "5927/5927 [==============================] - 19s 3ms/step - loss: 0.0251 - mae: 0.1189 - mse: 0.0251 - val_loss: 0.0155 - val_mae: 0.0937 - val_mse: 0.0155\n",
      "Epoch 14/100\n",
      "5927/5927 [==============================] - 23s 4ms/step - loss: 0.0231 - mae: 0.1135 - mse: 0.0231 - val_loss: 0.0183 - val_mae: 0.0998 - val_mse: 0.0183\n",
      "Epoch 15/100\n",
      "5927/5927 [==============================] - 23s 4ms/step - loss: 0.0213 - mae: 0.1086 - mse: 0.0213 - val_loss: 0.0223 - val_mae: 0.1164 - val_mse: 0.0223\n",
      "Epoch 16/100\n",
      "5927/5927 [==============================] - 21s 3ms/step - loss: 0.0197 - mae: 0.1044 - mse: 0.0197 - val_loss: 0.0123 - val_mae: 0.0838 - val_mse: 0.0123\n",
      "Epoch 17/100\n",
      "5927/5927 [==============================] - 20s 3ms/step - loss: 0.0185 - mae: 0.1008 - mse: 0.0185 - val_loss: 0.0131 - val_mae: 0.0853 - val_mse: 0.0131\n",
      "Epoch 18/100\n",
      "5927/5927 [==============================] - 15s 2ms/step - loss: 0.0167 - mae: 0.0958 - mse: 0.0167 - val_loss: 0.0140 - val_mae: 0.0866 - val_mse: 0.0140\n",
      "Epoch 19/100\n",
      "5927/5927 [==============================] - 15s 2ms/step - loss: 0.0160 - mae: 0.0936 - mse: 0.0160 - val_loss: 0.0193 - val_mae: 0.1062 - val_mse: 0.0193\n",
      "Epoch 20/100\n",
      "5927/5927 [==============================] - 17s 3ms/step - loss: 0.0149 - mae: 0.0899 - mse: 0.0149 - val_loss: 0.0197 - val_mae: 0.1126 - val_mse: 0.0197\n",
      "Epoch 21/100\n",
      "5927/5927 [==============================] - 21s 3ms/step - loss: 0.0139 - mae: 0.0865 - mse: 0.0139 - val_loss: 0.0199 - val_mae: 0.1033 - val_mse: 0.0199\n",
      "Epoch 22/100\n",
      "5927/5927 [==============================] - 20s 3ms/step - loss: 0.0130 - mae: 0.0838 - mse: 0.0130 - val_loss: 0.0224 - val_mae: 0.1161 - val_mse: 0.0224\n",
      "Epoch 23/100\n",
      "5927/5927 [==============================] - 19s 3ms/step - loss: 0.0122 - mae: 0.0815 - mse: 0.0122 - val_loss: 0.0143 - val_mae: 0.0897 - val_mse: 0.0143\n",
      "Epoch 24/100\n",
      "5927/5927 [==============================] - 17s 3ms/step - loss: 0.0115 - mae: 0.0787 - mse: 0.0115 - val_loss: 0.0081 - val_mae: 0.0664 - val_mse: 0.0081\n",
      "Epoch 25/100\n",
      "5927/5927 [==============================] - 18s 3ms/step - loss: 0.0109 - mae: 0.0767 - mse: 0.0109 - val_loss: 0.0168 - val_mae: 0.0959 - val_mse: 0.0168\n",
      "Epoch 26/100\n",
      "5927/5927 [==============================] - 21s 4ms/step - loss: 0.0103 - mae: 0.0742 - mse: 0.0103 - val_loss: 0.0138 - val_mae: 0.0919 - val_mse: 0.0138\n",
      "Epoch 27/100\n",
      "5927/5927 [==============================] - 21s 3ms/step - loss: 0.0097 - mae: 0.0723 - mse: 0.0097 - val_loss: 0.0099 - val_mae: 0.0758 - val_mse: 0.0099\n",
      "Epoch 28/100\n",
      "5927/5927 [==============================] - 21s 3ms/step - loss: 0.0092 - mae: 0.0702 - mse: 0.0092 - val_loss: 0.0162 - val_mae: 0.0945 - val_mse: 0.0162\n",
      "Epoch 29/100\n",
      "5927/5927 [==============================] - 21s 4ms/step - loss: 0.0087 - mae: 0.0683 - mse: 0.0087 - val_loss: 0.0079 - val_mae: 0.0674 - val_mse: 0.0079\n",
      "Epoch 30/100\n",
      "5927/5927 [==============================] - 18s 3ms/step - loss: 0.0083 - mae: 0.0663 - mse: 0.0083 - val_loss: 0.0236 - val_mae: 0.1219 - val_mse: 0.0236\n",
      "Epoch 31/100\n",
      "5927/5927 [==============================] - 16s 3ms/step - loss: 0.0081 - mae: 0.0656 - mse: 0.0081 - val_loss: 0.0148 - val_mae: 0.0902 - val_mse: 0.0148\n",
      "Epoch 32/100\n",
      "5927/5927 [==============================] - 15s 3ms/step - loss: 0.0077 - mae: 0.0640 - mse: 0.0077 - val_loss: 0.0084 - val_mae: 0.0695 - val_mse: 0.0084\n",
      "Epoch 33/100\n",
      "5927/5927 [==============================] - 15s 3ms/step - loss: 0.0073 - mae: 0.0627 - mse: 0.0073 - val_loss: 0.0093 - val_mae: 0.0758 - val_mse: 0.0093\n",
      "Epoch 34/100\n",
      "5927/5927 [==============================] - 16s 3ms/step - loss: 0.0072 - mae: 0.0618 - mse: 0.0072 - val_loss: 0.0110 - val_mae: 0.0792 - val_mse: 0.0110\n",
      "Epoch 35/100\n",
      "5927/5927 [==============================] - 15s 3ms/step - loss: 0.0070 - mae: 0.0613 - mse: 0.0070 - val_loss: 0.0087 - val_mae: 0.0698 - val_mse: 0.0087\n",
      "Epoch 36/100\n",
      "5927/5927 [==============================] - 16s 3ms/step - loss: 0.0068 - mae: 0.0596 - mse: 0.0068 - val_loss: 0.0062 - val_mae: 0.0625 - val_mse: 0.0062\n",
      "Epoch 37/100\n",
      "5927/5927 [==============================] - 14s 2ms/step - loss: 0.0063 - mae: 0.0580 - mse: 0.0063 - val_loss: 0.0053 - val_mae: 0.0524 - val_mse: 0.0053\n",
      "Epoch 38/100\n",
      "5927/5927 [==============================] - 15s 3ms/step - loss: 0.0064 - mae: 0.0584 - mse: 0.0064 - val_loss: 0.0060 - val_mae: 0.0569 - val_mse: 0.0060\n",
      "Epoch 39/100\n",
      "5927/5927 [==============================] - 15s 2ms/step - loss: 0.0060 - mae: 0.0567 - mse: 0.0060 - val_loss: 0.0055 - val_mae: 0.0528 - val_mse: 0.0055\n",
      "Epoch 40/100\n",
      "5927/5927 [==============================] - 20s 3ms/step - loss: 0.0061 - mae: 0.0567 - mse: 0.0061 - val_loss: 0.0060 - val_mae: 0.0549 - val_mse: 0.0060\n",
      "Epoch 41/100\n",
      "5927/5927 [==============================] - 17s 3ms/step - loss: 0.0058 - mae: 0.0554 - mse: 0.0058 - val_loss: 0.0188 - val_mae: 0.1056 - val_mse: 0.0188\n",
      "Epoch 42/100\n",
      "5927/5927 [==============================] - 17s 3ms/step - loss: 0.0055 - mae: 0.0541 - mse: 0.0055 - val_loss: 0.0080 - val_mae: 0.0680 - val_mse: 0.0080\n",
      "Epoch 43/100\n",
      "5927/5927 [==============================] - 23s 4ms/step - loss: 0.0055 - mae: 0.0542 - mse: 0.0055 - val_loss: 0.0093 - val_mae: 0.0770 - val_mse: 0.0093\n",
      "Epoch 44/100\n",
      "5927/5927 [==============================] - 21s 4ms/step - loss: 0.0052 - mae: 0.0527 - mse: 0.0052 - val_loss: 0.0075 - val_mae: 0.0626 - val_mse: 0.0075\n",
      "Epoch 45/100\n",
      "5927/5927 [==============================] - 19s 3ms/step - loss: 0.0054 - mae: 0.0530 - mse: 0.0054 - val_loss: 0.0145 - val_mae: 0.0905 - val_mse: 0.0145\n",
      "Epoch 46/100\n",
      "5927/5927 [==============================] - 19s 3ms/step - loss: 0.0049 - mae: 0.0512 - mse: 0.0049 - val_loss: 0.0040 - val_mae: 0.0455 - val_mse: 0.0040\n",
      "Epoch 47/100\n",
      "5927/5927 [==============================] - 19s 3ms/step - loss: 0.0051 - mae: 0.0517 - mse: 0.0051 - val_loss: 0.0061 - val_mae: 0.0563 - val_mse: 0.0061\n",
      "Epoch 48/100\n",
      "5927/5927 [==============================] - 26s 4ms/step - loss: 0.0049 - mae: 0.0512 - mse: 0.0049 - val_loss: 0.0025 - val_mae: 0.0361 - val_mse: 0.0025\n",
      "Epoch 49/100\n",
      "5927/5927 [==============================] - 24s 4ms/step - loss: 0.0048 - mae: 0.0503 - mse: 0.0048 - val_loss: 0.0070 - val_mae: 0.0606 - val_mse: 0.0070\n",
      "Epoch 50/100\n",
      "5927/5927 [==============================] - 26s 4ms/step - loss: 0.0046 - mae: 0.0488 - mse: 0.0046 - val_loss: 0.0053 - val_mae: 0.0546 - val_mse: 0.0053\n",
      "Epoch 51/100\n",
      "5927/5927 [==============================] - 24s 4ms/step - loss: 0.0046 - mae: 0.0490 - mse: 0.0046 - val_loss: 0.0079 - val_mae: 0.0667 - val_mse: 0.0079\n",
      "Epoch 52/100\n",
      "5927/5927 [==============================] - 25s 4ms/step - loss: 0.0046 - mae: 0.0492 - mse: 0.0046 - val_loss: 0.0038 - val_mae: 0.0462 - val_mse: 0.0038\n",
      "Epoch 53/100\n",
      "5927/5927 [==============================] - 24s 4ms/step - loss: 0.0044 - mae: 0.0478 - mse: 0.0044 - val_loss: 0.0055 - val_mae: 0.0534 - val_mse: 0.0055\n",
      "Epoch 54/100\n",
      "5927/5927 [==============================] - 24s 4ms/step - loss: 0.0042 - mae: 0.0470 - mse: 0.0042 - val_loss: 0.0048 - val_mae: 0.0523 - val_mse: 0.0048\n",
      "Epoch 55/100\n",
      "5927/5927 [==============================] - 25s 4ms/step - loss: 0.0043 - mae: 0.0476 - mse: 0.0043 - val_loss: 0.0057 - val_mae: 0.0576 - val_mse: 0.0057\n",
      "Epoch 56/100\n",
      "5927/5927 [==============================] - 25s 4ms/step - loss: 0.0041 - mae: 0.0463 - mse: 0.0041 - val_loss: 0.0161 - val_mae: 0.0902 - val_mse: 0.0161\n",
      "Epoch 57/100\n",
      "5927/5927 [==============================] - 24s 4ms/step - loss: 0.0040 - mae: 0.0460 - mse: 0.0040 - val_loss: 0.0059 - val_mae: 0.0551 - val_mse: 0.0059\n",
      "Epoch 58/100\n",
      "5927/5927 [==============================] - 28s 5ms/step - loss: 0.0039 - mae: 0.0455 - mse: 0.0039 - val_loss: 0.0026 - val_mae: 0.0383 - val_mse: 0.0026\n"
     ]
    }
   ],
   "source": [
    "FCNN_history = FCNN_model.fit(train_data, train_labels,\n",
    "                    epochs=100,\n",
    "                    batch_size = 32,\n",
    "                    callbacks = [callback],\n",
    "                    validation_split = 0.3 \n",
    "                    )"
   ]
  },
  {
   "cell_type": "code",
   "execution_count": 90,
   "metadata": {},
   "outputs": [
    {
     "data": {
      "image/png": "[encoded data removed]",
      "text/plain": [
       "<Figure size 432x288 with 1 Axes>"
      ]
     },
     "metadata": {
      "needs_background": "light"
     },
     "output_type": "display_data"
    }
   ],
   "source": [
    "#loss plot of training and test data\n",
    "plt.plot(FCNN_history.history['loss'], label='loss')\n",
    "plt.plot(FCNN_history.history['val_loss'], label = 'val_loss')\n",
    "plt.xlabel('Epoch')\n",
    "plt.yscale('log')\n",
    "plt.ylabel('Loss')\n",
    "plt.legend(loc='upper right')\n",
    "plt.title(\"FCNN O-PPAC Loss Curve, Dropout 0, 2 Dense 256 Node, Adam 0.001, MSE, linear activation\")\n",
    "plt.show()"
   ]
  },
  {
   "cell_type": "code",
   "execution_count": 91,
   "metadata": {},
   "outputs": [
    {
     "name": "stdout",
     "output_type": "stream",
     "text": [
      "2117/2117 - 3s - loss: 0.0027 - mae: 0.0383 - mse: 0.0027\n"
     ]
    }
   ],
   "source": [
    "#separation of 'result' values (stats from test data)\n",
    "result = FCNN_model.evaluate(test_data, test_labels, verbose=2)"
   ]
  },
  {
   "cell_type": "code",
   "execution_count": 92,
   "metadata": {},
   "outputs": [],
   "source": [
    "#separation of 'prediction' values (training data)\n",
    "predictions = FCNN_model.predict(test_data)"
   ]
  },
  {
   "cell_type": "code",
   "execution_count": 93,
   "metadata": {},
   "outputs": [
    {
     "data": {
      "text/plain": [
       "4.0"
      ]
     },
     "execution_count": 93,
     "metadata": {},
     "output_type": "execute_result"
    }
   ],
   "source": [
    "#separates x and y predicted values so there can be separate graphs for each\n",
    "x_pred = predictions[:,0]\n",
    "y_pred = predictions[:,1]\n",
    "\n",
    "\n",
    "x_test1 = test_labels[0]\n",
    "y_test1 = test_labels[1]\n",
    "\n",
    "#converts to np.arrays for graphing\n",
    "x_test = np.array(x_test1)\n",
    "y_test = np.array(y_test1)\n",
    "\n",
    "\n",
    "x_test[0]\n",
    "y_test[0]"
   ]
  },
  {
   "cell_type": "code",
   "execution_count": 94,
   "metadata": {},
   "outputs": [
    {
     "data": {
      "image/png": "[encoded data removed]",
      "text/plain": [
       "<Figure size 432x288 with 1 Axes>"
      ]
     },
     "metadata": {
      "needs_background": "light"
     },
     "output_type": "display_data"
    }
   ],
   "source": [
    "#graph showing the accuracy of model by comparing predicted and true x values\n",
    "#should be as close to the diagonal as possible\n",
    "new_x_labels = []\n",
    "for i in range(x_test.shape[0]):\n",
    "    new_x_labels.append([x_test[i]])\n",
    "np.array(new_x_labels)\n",
    "new_x_labels[2]\n",
    "\n",
    "a = plt.axes(aspect='equal')\n",
    "\n",
    "plt.scatter(new_x_labels, x_pred, s=6, marker = \"x\")\n",
    "plt.xlabel('True Values')\n",
    "plt.ylabel('Predictions')\n",
    "lims = [-50, 50]\n",
    "plt.xlim(lims)\n",
    "plt.ylim(lims)\n",
    "_ = plt.plot(lims, lims, linewidth = .5)\n",
    "plt.title(\"FCNN O-PPAC X Predictions vs True X Values\")\n",
    "plt.show()"
   ]
  },
  {
   "cell_type": "code",
   "execution_count": 95,
   "metadata": {},
   "outputs": [
    {
     "data": {
      "image/png": "[encoded data removed]",
      "text/plain": [
       "<Figure size 432x288 with 1 Axes>"
      ]
     },
     "metadata": {
      "needs_background": "light"
     },
     "output_type": "display_data"
    }
   ],
   "source": [
    "#graph showing the accuracy of model by comparing predicted and true y values\n",
    "#should be as close to the diagonal as possible\n",
    "new_y_labels = []\n",
    "for i in range(y_test.shape[0]):\n",
    "    new_y_labels.append([y_test[i]])\n",
    "np.array(new_y_labels)\n",
    "new_y_labels[2]\n",
    "\n",
    "a = plt.axes(aspect='equal')\n",
    "plt.scatter(new_y_labels, y_pred, s=6, marker = \"x\")\n",
    "plt.xlabel('True Values')\n",
    "plt.ylabel('Predictions')\n",
    "lims = [-50, 50]\n",
    "plt.xlim(lims)\n",
    "plt.ylim(lims)\n",
    "_ = plt.plot(lims, lims, linewidth = .5)\n",
    "plt.title(\"FCNN O-PPAC Y Predictions vs True Y Values\")\n",
    "plt.show()"
   ]
  },
  {
   "cell_type": "code",
   "execution_count": 96,
   "metadata": {},
   "outputs": [
    {
     "name": "stdout",
     "output_type": "stream",
     "text": [
      "2\n",
      "[4.306068420410156, 1.2007331848144531]\n"
     ]
    }
   ],
   "source": [
    "#to find the locations of largest error within my predicted x values\n",
    "x_error = []\n",
    "\n",
    "#reads through every data point from the FCNN and compares to the true value by finding the difference between the two\n",
    "for i in range(x_pred.shape[0]):\n",
    "    x_error_test = x_pred[i] - x_test[i]\n",
    "    x_error.append(x_error_test)\n",
    "\n",
    "#this takes all the points with error greater than 1 mm\n",
    "#one can then see the number of points with large error + use lower code to see where/what they are\n",
    "xerror_list = [i for i in x_error if abs(i) >= 1]\n",
    "xerror_list.sort(reverse = True)\n",
    "print(len(xerror_list))\n",
    "print(xerror_list)"
   ]
  },
  {
   "cell_type": "code",
   "execution_count": 98,
   "metadata": {},
   "outputs": [
    {
     "name": "stdout",
     "output_type": "stream",
     "text": [
      "[121]\n"
     ]
    }
   ],
   "source": [
    "#in \"bad value\" plug in x error value (from above) to find the index for x_pos and y_pos\n",
    "bad_value = 4.306068420410156\n",
    "x_locat = np.where(x_pos == (np.array(x_test[x_error.index(bad_value)])))\n",
    "y_locat = np.where(y_pos == (np.array(y_test[x_error.index(bad_value)])))\n",
    "\n",
    "print(np.intersect1d(x_locat, y_locat))"
   ]
  },
  {
   "cell_type": "code",
   "execution_count": 99,
   "metadata": {},
   "outputs": [
    {
     "data": {
      "image/png": "[encoded data removed]",
      "text/plain": [
       "<Figure size 432x288 with 1 Axes>"
      ]
     },
     "metadata": {
      "needs_background": "light"
     },
     "output_type": "display_data"
    }
   ],
   "source": [
    "#graph the location of areas with larger x-error; uses unshuffled data from above\n",
    "bad_xvalue = 4.306068420410156\n",
    "x_test_locat = x_error.index(bad_xvalue)\n",
    "\n",
    "plt.title('Problem Location Example')\n",
    "plt.plot(unshuf_data[x_test_locat][:-1]*100)\n",
    "plt.show()"
   ]
  },
  {
   "cell_type": "code",
   "execution_count": 100,
   "metadata": {},
   "outputs": [
    {
     "name": "stdout",
     "output_type": "stream",
     "text": [
      "1\n",
      "[-1.099721908569336]\n"
     ]
    }
   ],
   "source": [
    "#to find the locations of largest error within my predicted y values (same as the x code above but specific to y)\n",
    "y_error = []\n",
    "\n",
    "for i in range(y_pred.shape[0]):\n",
    "    y_error_test = y_pred[i] - y_test[i]\n",
    "    y_error.append(y_error_test)\n",
    "\n",
    "yerror_list = [i for i in y_error if abs(i) >= 1]\n",
    "yerror_list.sort(reverse = True)\n",
    "print(len(yerror_list))\n",
    "print(yerror_list)"
   ]
  },
  {
   "cell_type": "code",
   "execution_count": 101,
   "metadata": {},
   "outputs": [
    {
     "data": {
      "image/png": "[encoded data removed]",
      "text/plain": [
       "<Figure size 432x288 with 1 Axes>"
      ]
     },
     "metadata": {
      "needs_background": "light"
     },
     "output_type": "display_data"
    }
   ],
   "source": [
    "#graph the location of areas with larger error (bad_yvalue must come from y-prediction)\n",
    "bad_yvalue = -1.099721908569336\n",
    "y_test_locat = y_error.index(bad_yvalue)\n",
    "\n",
    "plt.title('Problem Location Example')\n",
    "plt.plot(unshuf_data[y_test_locat][:-1]*100)\n",
    "plt.show()"
   ]
  },
  {
   "cell_type": "code",
   "execution_count": 102,
   "metadata": {},
   "outputs": [
    {
     "name": "stdout",
     "output_type": "stream",
     "text": [
      "[121]\n"
     ]
    }
   ],
   "source": [
    "#in \"bad value\" plug in y error value to find the index for x_pos and y_pos\n",
    "bad_value = -1.099721908569336\n",
    "x_locat = np.where(x_pos == (np.array(x_test[y_error.index(bad_value)])))\n",
    "y_locat = np.where(y_pos == (np.array(y_test[y_error.index(bad_value)])))\n",
    "\n",
    "print(np.intersect1d(x_locat, y_locat))"
   ]
  },
  {
   "cell_type": "code",
   "execution_count": 103,
   "metadata": {},
   "outputs": [
    {
     "name": "stdout",
     "output_type": "stream",
     "text": [
      "67726\n"
     ]
    },
    {
     "data": {
      "image/png": "[encoded data removed]",
      "text/plain": [
       "<Figure size 432x288 with 1 Axes>"
      ]
     },
     "metadata": {
      "needs_background": "light"
     },
     "output_type": "display_data"
    }
   ],
   "source": [
    "#residue plot of x-error from the model\n",
    "x_error = []\n",
    "\n",
    "for i in range(x_pred.shape[0]):\n",
    "    x_error_test = x_pred[i] - x_test[i]\n",
    "    x_error.append(x_error_test)\n",
    "\n",
    "error_list_x = [i for i in x_error if abs(i) <= 1]\n",
    "print(len(error_list_x))\n",
    "\n",
    "num_bins_x = 81\n",
    "# the histogram of the data\n",
    "n, bins, patches = plt.hist(error_list_x, num_bins_x, density=1, facecolor='blue', alpha=0.5)\n",
    "\n",
    "plt.xlabel('X Error (real - pred)')\n",
    "plt.title(r'X Residual')\n",
    "plt.show()"
   ]
  },
  {
   "cell_type": "code",
   "execution_count": 104,
   "metadata": {},
   "outputs": [
    {
     "name": "stdout",
     "output_type": "stream",
     "text": [
      "67727\n"
     ]
    },
    {
     "data": {
      "image/png": "[encoded data removed]",
      "text/plain": [
       "<Figure size 432x288 with 1 Axes>"
      ]
     },
     "metadata": {
      "needs_background": "light"
     },
     "output_type": "display_data"
    }
   ],
   "source": [
    "#residue plot of y-error from the model\n",
    "y_error = []\n",
    "\n",
    "for i in range(y_pred.shape[0]):\n",
    "    y_error_test = y_pred[i] - y_test[i]\n",
    "    y_error.append(y_error_test)\n",
    "\n",
    "error_list_y = [i for i in y_error if abs(i) <= 1]\n",
    "print(len(error_list_y))\n",
    "\n",
    "num_bins_x = 81\n",
    "# the histogram of the data\n",
    "n, bins, patches = plt.hist(error_list_y, num_bins_x, density=1, facecolor='blue', alpha=0.5)\n",
    "\n",
    "plt.xlabel('Y Error (real - pred)')\n",
    "plt.title(r'Y Residual')\n",
    "plt.show()"
   ]
  },
  {
   "cell_type": "code",
   "execution_count": null,
   "metadata": {},
   "outputs": [],
   "source": []
  }
 ],
 "metadata": {
  "kernelspec": {
   "display_name": "Python 3",
   "language": "python",
   "name": "python3"
  },
  "language_info": {
   "codemirror_mode": {
    "name": "ipython",
    "version": 3
   },
   "file_extension": ".py",
   "mimetype": "text/x-python",
   "name": "python",
   "nbconvert_exporter": "python",
   "pygments_lexer": "ipython3",
   "version": "3.7.6"
  }
 },
 "nbformat": 4,
 "nbformat_minor": 4
}
