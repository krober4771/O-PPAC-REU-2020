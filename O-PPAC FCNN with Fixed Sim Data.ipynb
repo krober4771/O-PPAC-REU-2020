{
 "cells": [
  {
   "cell_type": "code",
   "execution_count": 1,
   "metadata": {},
   "outputs": [],
   "source": [
    "#This program fits the O-PPAC data onto a FCNN model\n",
    "import tensorflow as tf\n",
    "from tensorflow.keras import datasets, layers, models, metrics, Model\n",
    "from tensorflow.keras.callbacks import Callback\n",
    "from sklearn.model_selection import train_test_split\n",
    "from sklearn.metrics import classification_report\n",
    "from sklearn.preprocessing import normalize\n",
    "import tensorflow_docs as tfdocs\n",
    "import tensorflow_docs.plots\n",
    "import tensorflow_docs.modeling\n",
    "import numpy as np\n",
    "from numpy import *\n",
    "import pandas as pd\n",
    "import matplotlib.pyplot as plt\n",
    "import matplotlib.mlab as mlab\n",
    "import h5py\n",
    "import datetime"
   ]
  },
  {
   "cell_type": "code",
   "execution_count": 445,
   "metadata": {},
   "outputs": [
    {
     "name": "stdout",
     "output_type": "stream",
     "text": [
      "(991, 342, 132)\n"
     ]
    }
   ],
   "source": [
    "dataset = h5py.File('simu_HDF_thistimeforReal.h5', 'r') #load data\n",
    "num_diodes = dataset['Num_diodes'][...] #separate the data into each key within the data file\n",
    "x_pos = (dataset['Xpos'][...])/100\n",
    "y_pos = (dataset['Ypos'][...])/100\n",
    "histgrid = dataset['histgrid'][...]\n",
    "histgrid = histgrid[:-10,:,:] #redefine the shape and size of histgrid by removing the last 10 events\n",
    "output = np.vstack((x_pos,y_pos)) #define new, single variable for x and y position\n",
    "output = np.transpose(output) #original definition was sideways, so we transposed it\n",
    "\n",
    "#values = [117,174]\n",
    "#list of locations (by index) in histgrid which have unusable data due to peaks being in incorrect/weird locations\n",
    "\n",
    "new_histgrid = np.delete(histgrid, values, 1)\n",
    "#histgrid = new_histgrid\n",
    "#deletes \"values\" from histgrid and then redefines histgrid to not contain those values\n",
    "#done as 2 lines so you can comment out the 2nd and compare histgrid to new_histgrid if needed\n",
    "\n",
    "print(histgrid.shape)\n",
    "\n",
    "where_are_NaNs = isnan(histgrid) #removes any NaN values within histgrid; shouldn't be a problem with \"values\" removed\n",
    "histgrid[where_are_NaNs] = 0\n",
    "\n",
    "dataset.close()"
   ]
  },
  {
   "cell_type": "code",
   "execution_count": 446,
   "metadata": {},
   "outputs": [
    {
     "name": "stdout",
     "output_type": "stream",
     "text": [
      "(338580, 132)\n",
      "(338580, 2)\n"
     ]
    }
   ],
   "source": [
    "def data_compile(histdata):\n",
    "    data = []  #creates empty arrays for data and labels\n",
    "    labels = []\n",
    "    for i in range(histdata.shape[1]):\n",
    "        for j in range(1,histdata.shape[0]):\n",
    "            data.append(histdata[j,i,0:132]) #puts histgrid data inside of \"data\"\n",
    "            labels.append(output[i]) #puts x,y _pos into \"labels\"\n",
    "    return(np.array(data),np.array(labels))\n",
    "\n",
    "all_data, all_labels = data_compile(histgrid)\n",
    "\n",
    "#to make sure everything is the correct shape\n",
    "print(all_data.shape)\n",
    "print(all_labels.shape)"
   ]
  },
  {
   "cell_type": "code",
   "execution_count": 447,
   "metadata": {},
   "outputs": [
    {
     "name": "stdout",
     "output_type": "stream",
     "text": [
      "0.8395246220687987\n"
     ]
    }
   ],
   "source": [
    "all_data = normalize(all_data,axis = 1)\n",
    "print(np.max(all_data))"
   ]
  },
  {
   "cell_type": "code",
   "execution_count": 513,
   "metadata": {},
   "outputs": [],
   "source": [
    "train_data, test_data, train_labels, test_labels = train_test_split(all_data, all_labels, test_size=0.2,shuffle=True)\n",
    "#splits training and test data for the FCNN; 20% set aside for testing"
   ]
  },
  {
   "cell_type": "code",
   "execution_count": 514,
   "metadata": {},
   "outputs": [
    {
     "name": "stdout",
     "output_type": "stream",
     "text": [
      "2\n",
      "(270864, 132)\n",
      "[0.         0.         0.         0.         0.0029482  0.0029482\n",
      " 0.         0.         0.0029482  0.0029482  0.         0.\n",
      " 0.         0.         0.         0.0029482  0.0058964  0.00884459\n",
      " 0.02653378 0.08549775 0.1680473  0.15330631 0.15625451 0.13266892\n",
      " 0.06486036 0.03832658 0.0058964  0.0029482  0.         0.\n",
      " 0.         0.         0.0029482  0.         0.0029482  0.\n",
      " 0.         0.         0.         0.         0.         0.\n",
      " 0.         0.         0.0029482  0.         0.         0.\n",
      " 0.         0.         0.         0.         0.         0.0029482\n",
      " 0.66629281 0.30661262 0.         0.         0.         0.0029482\n",
      " 0.         0.         0.         0.         0.0029482  0.\n",
      " 0.         0.         0.         0.22406307 0.30661262 0.25649325\n",
      " 0.01179279 0.         0.         0.0058964  0.         0.0029482\n",
      " 0.         0.0029482  0.         0.         0.         0.\n",
      " 0.         0.         0.         0.         0.         0.0058964\n",
      " 0.         0.         0.         0.         0.         0.\n",
      " 0.         0.         0.0029482  0.         0.03537838 0.09139415\n",
      " 0.1680473  0.23880406 0.19458109 0.10318694 0.02653378 0.\n",
      " 0.         0.         0.         0.         0.         0.\n",
      " 0.         0.         0.         0.         0.         0.\n",
      " 0.         0.         0.         0.0029482  0.0029482  0.\n",
      " 0.         0.         0.         0.         0.         0.        ]\n"
     ]
    }
   ],
   "source": [
    "print(train_data.ndim)\n",
    "print(train_data.shape)\n",
    "print(train_data[0])"
   ]
  },
  {
   "cell_type": "code",
   "execution_count": 515,
   "metadata": {},
   "outputs": [],
   "source": [
    "#early stopping mechanism; can increase amount of time before stopping by increasing patience\n",
    "callback = tf.keras.callbacks.EarlyStopping(monitor='val_loss', patience=10)"
   ]
  },
  {
   "cell_type": "code",
   "execution_count": 516,
   "metadata": {},
   "outputs": [],
   "source": [
    "#Fully connected neural network\n",
    "#the \"layers\" are the dense hidden layers which are fully connected\n",
    "#first number changes the nodes, 2nd is the activation function, (first line has number of inputs as well)\n",
    "\n",
    "FCNN_model = tf.keras.Sequential()\n",
    "FCNN_model.add(layers.Dense(256, activation='relu', input_shape = [132]))\n",
    "FCNN_model.add(layers.Dense(256, activation = 'relu'))\n",
    "#FCNN_model.add(layers.Dense(128, activation = 'relu'))\n",
    "#FCNN_model.add(layers.Dense(128, activation = 'relu'))\n",
    "#FCNN_model.add(layers.Dropout(0.2))\n",
    "FCNN_model.add(layers.Dense(2, activation = 'linear'))"
   ]
  },
  {
   "cell_type": "code",
   "execution_count": 517,
   "metadata": {},
   "outputs": [],
   "source": [
    "#compiles the FCNN and includes the learning rate as well\n",
    "FCNN_model.compile(optimizer = tf.keras.optimizers.Adam(learning_rate=0.001), \n",
    "              loss = 'mse', \n",
    "              metrics=['mae', 'mse'])"
   ]
  },
  {
   "cell_type": "code",
   "execution_count": 518,
   "metadata": {},
   "outputs": [
    {
     "name": "stdout",
     "output_type": "stream",
     "text": [
      "Epoch 1/100\n",
      "5926/5926 [==============================] - 22s 4ms/step - loss: 4.6297 - mae: 0.7393 - mse: 4.6297 - val_loss: 0.3987 - val_mae: 0.4186 - val_mse: 0.3987\n",
      "Epoch 2/100\n",
      "5926/5926 [==============================] - 26s 4ms/step - loss: 0.2737 - mae: 0.3661 - mse: 0.2737 - val_loss: 0.2693 - val_mae: 0.3500 - val_mse: 0.2693\n",
      "Epoch 3/100\n",
      "5926/5926 [==============================] - 25s 4ms/step - loss: 0.1513 - mae: 0.2612 - mse: 0.1513 - val_loss: 0.1449 - val_mae: 0.2005 - val_mse: 0.1449\n",
      "Epoch 4/100\n",
      "5926/5926 [==============================] - 23s 4ms/step - loss: 0.1213 - mae: 0.2219 - mse: 0.1213 - val_loss: 0.1436 - val_mae: 0.1999 - val_mse: 0.1436\n",
      "Epoch 5/100\n",
      "5926/5926 [==============================] - 25s 4ms/step - loss: 0.1046 - mae: 0.2010 - mse: 0.1046 - val_loss: 0.1224 - val_mae: 0.1687 - val_mse: 0.1224\n",
      "Epoch 6/100\n",
      "5926/5926 [==============================] - 26s 4ms/step - loss: 0.0927 - mae: 0.1798 - mse: 0.0927 - val_loss: 0.1178 - val_mae: 0.1512 - val_mse: 0.1178\n",
      "Epoch 7/100\n",
      "5926/5926 [==============================] - 30s 5ms/step - loss: 0.0846 - mae: 0.1674 - mse: 0.0846 - val_loss: 0.1274 - val_mae: 0.1691 - val_mse: 0.1274\n",
      "Epoch 8/100\n",
      "5926/5926 [==============================] - 24s 4ms/step - loss: 0.0804 - mae: 0.1582 - mse: 0.0804 - val_loss: 0.1339 - val_mae: 0.1830 - val_mse: 0.1339\n",
      "Epoch 9/100\n",
      "5926/5926 [==============================] - 19s 3ms/step - loss: 0.0740 - mae: 0.1471 - mse: 0.0740 - val_loss: 0.1065 - val_mae: 0.1244 - val_mse: 0.1065\n",
      "Epoch 10/100\n",
      "5926/5926 [==============================] - 25s 4ms/step - loss: 0.0695 - mae: 0.1383 - mse: 0.0695 - val_loss: 0.1102 - val_mae: 0.1328 - val_mse: 0.1102\n",
      "Epoch 11/100\n",
      "5926/5926 [==============================] - 21s 4ms/step - loss: 0.0663 - mae: 0.1318 - mse: 0.0663 - val_loss: 0.1098 - val_mae: 0.1310 - val_mse: 0.1098\n",
      "Epoch 12/100\n",
      "5926/5926 [==============================] - 28s 5ms/step - loss: 0.0636 - mae: 0.1262 - mse: 0.0636 - val_loss: 0.4493 - val_mae: 0.4481 - val_mse: 0.4493\n",
      "Epoch 13/100\n",
      "5926/5926 [==============================] - 20s 3ms/step - loss: 0.0634 - mae: 0.1204 - mse: 0.0634 - val_loss: 0.1025 - val_mae: 0.1109 - val_mse: 0.1025\n",
      "Epoch 14/100\n",
      "5926/5926 [==============================] - 24s 4ms/step - loss: 0.0604 - mae: 0.1151 - mse: 0.0604 - val_loss: 0.0982 - val_mae: 0.1018 - val_mse: 0.0982\n",
      "Epoch 15/100\n",
      "5926/5926 [==============================] - 22s 4ms/step - loss: 0.0571 - mae: 0.1101 - mse: 0.0571 - val_loss: 0.1018 - val_mae: 0.1106 - val_mse: 0.1018\n",
      "Epoch 16/100\n",
      "5926/5926 [==============================] - 24s 4ms/step - loss: 0.0545 - mae: 0.1075 - mse: 0.0545 - val_loss: 0.1444 - val_mae: 0.2066 - val_mse: 0.1444\n",
      "Epoch 17/100\n",
      "5926/5926 [==============================] - 26s 4ms/step - loss: 0.0554 - mae: 0.1043 - mse: 0.0554 - val_loss: 0.0947 - val_mae: 0.0886 - val_mse: 0.0947\n",
      "Epoch 18/100\n",
      "5926/5926 [==============================] - 23s 4ms/step - loss: 0.0543 - mae: 0.0990 - mse: 0.0543 - val_loss: 0.1019 - val_mae: 0.1143 - val_mse: 0.1019\n",
      "Epoch 19/100\n",
      "5926/5926 [==============================] - 24s 4ms/step - loss: 0.0528 - mae: 0.0978 - mse: 0.0528 - val_loss: 0.0962 - val_mae: 0.0892 - val_mse: 0.0962\n",
      "Epoch 20/100\n",
      "5926/5926 [==============================] - 29s 5ms/step - loss: 0.0515 - mae: 0.0968 - mse: 0.0515 - val_loss: 0.2514 - val_mae: 0.3284 - val_mse: 0.2514\n",
      "Epoch 21/100\n",
      "5926/5926 [==============================] - 19s 3ms/step - loss: 0.0514 - mae: 0.0913 - mse: 0.0514 - val_loss: 0.0956 - val_mae: 0.0926 - val_mse: 0.0956\n",
      "Epoch 22/100\n",
      "5926/5926 [==============================] - 27s 5ms/step - loss: 0.0505 - mae: 0.0932 - mse: 0.0505 - val_loss: 0.0925 - val_mae: 0.0836 - val_mse: 0.0925\n",
      "Epoch 23/100\n",
      "5926/5926 [==============================] - 28s 5ms/step - loss: 0.0480 - mae: 0.0906 - mse: 0.0480 - val_loss: 0.0940 - val_mae: 0.0950 - val_mse: 0.0940\n",
      "Epoch 24/100\n",
      "5926/5926 [==============================] - 22s 4ms/step - loss: 0.0435 - mae: 0.0858 - mse: 0.0435 - val_loss: 0.0913 - val_mae: 0.0771 - val_mse: 0.0913\n",
      "Epoch 25/100\n",
      "5926/5926 [==============================] - 22s 4ms/step - loss: 0.0486 - mae: 0.0859 - mse: 0.0486 - val_loss: 0.0928 - val_mae: 0.0818 - val_mse: 0.0928\n",
      "Epoch 26/100\n",
      "5926/5926 [==============================] - 31s 5ms/step - loss: 0.0482 - mae: 0.0843 - mse: 0.0482 - val_loss: 0.2506 - val_mae: 0.3152 - val_mse: 0.2506\n",
      "Epoch 27/100\n",
      "5926/5926 [==============================] - 32s 5ms/step - loss: 0.0470 - mae: 0.0821 - mse: 0.0470 - val_loss: 0.0927 - val_mae: 0.0817 - val_mse: 0.0927\n",
      "Epoch 28/100\n",
      "5926/5926 [==============================] - 27s 5ms/step - loss: 0.0467 - mae: 0.0814 - mse: 0.0467 - val_loss: 0.0933 - val_mae: 0.0872 - val_mse: 0.0933\n",
      "Epoch 29/100\n",
      "5926/5926 [==============================] - 29s 5ms/step - loss: 0.0483 - mae: 0.0825 - mse: 0.0483 - val_loss: 0.0858 - val_mae: 0.0633 - val_mse: 0.0858\n",
      "Epoch 30/100\n",
      "5926/5926 [==============================] - 22s 4ms/step - loss: 0.0446 - mae: 0.0750 - mse: 0.0446 - val_loss: 0.0950 - val_mae: 0.0940 - val_mse: 0.0950\n",
      "Epoch 31/100\n",
      "5926/5926 [==============================] - 30s 5ms/step - loss: 0.0459 - mae: 0.0764 - mse: 0.0459 - val_loss: 0.0897 - val_mae: 0.0718 - val_mse: 0.0897\n",
      "Epoch 32/100\n",
      "5926/5926 [==============================] - 29s 5ms/step - loss: 0.0459 - mae: 0.0749 - mse: 0.0459 - val_loss: 0.0939 - val_mae: 0.0873 - val_mse: 0.0939\n",
      "Epoch 33/100\n",
      "5926/5926 [==============================] - 25s 4ms/step - loss: 0.0440 - mae: 0.0775 - mse: 0.0440 - val_loss: 0.0857 - val_mae: 0.0580 - val_mse: 0.0857\n",
      "Epoch 34/100\n",
      "5926/5926 [==============================] - 25s 4ms/step - loss: 0.0436 - mae: 0.0728 - mse: 0.0436 - val_loss: 0.1023 - val_mae: 0.0868 - val_mse: 0.1023\n",
      "Epoch 35/100\n",
      "5926/5926 [==============================] - 30s 5ms/step - loss: 0.0441 - mae: 0.0709 - mse: 0.0441 - val_loss: 0.0864 - val_mae: 0.0609 - val_mse: 0.0864\n",
      "Epoch 36/100\n",
      "5926/5926 [==============================] - 21s 4ms/step - loss: 0.0436 - mae: 0.0693 - mse: 0.0436 - val_loss: 0.0851 - val_mae: 0.0642 - val_mse: 0.0851\n",
      "Epoch 37/100\n",
      "5926/5926 [==============================] - 20s 3ms/step - loss: 0.0432 - mae: 0.0706 - mse: 0.0432 - val_loss: 0.0834 - val_mae: 0.0517 - val_mse: 0.0834\n",
      "Epoch 38/100\n",
      "5926/5926 [==============================] - 23s 4ms/step - loss: 0.0405 - mae: 0.0667 - mse: 0.0405 - val_loss: 0.0905 - val_mae: 0.0771 - val_mse: 0.0905\n",
      "Epoch 39/100\n",
      "5926/5926 [==============================] - 21s 4ms/step - loss: 0.0427 - mae: 0.0690 - mse: 0.0427 - val_loss: 0.0882 - val_mae: 0.0685 - val_mse: 0.0882\n",
      "Epoch 40/100\n",
      "5926/5926 [==============================] - 21s 4ms/step - loss: 0.0434 - mae: 0.0676 - mse: 0.0434 - val_loss: 0.0819 - val_mae: 0.0489 - val_mse: 0.0819\n",
      "Epoch 41/100\n",
      "5926/5926 [==============================] - 20s 3ms/step - loss: 0.0412 - mae: 0.0659 - mse: 0.0412 - val_loss: 0.0837 - val_mae: 0.0462 - val_mse: 0.0837\n",
      "Epoch 42/100\n",
      "5926/5926 [==============================] - 20s 3ms/step - loss: 0.0410 - mae: 0.0640 - mse: 0.0410 - val_loss: 0.0891 - val_mae: 0.0717 - val_mse: 0.0891\n",
      "Epoch 43/100\n",
      "5926/5926 [==============================] - 22s 4ms/step - loss: 0.0405 - mae: 0.0660 - mse: 0.0405 - val_loss: 0.0856 - val_mae: 0.0525 - val_mse: 0.0856\n",
      "Epoch 44/100\n",
      "5926/5926 [==============================] - 21s 3ms/step - loss: 0.0405 - mae: 0.0624 - mse: 0.0405 - val_loss: 0.0875 - val_mae: 0.0590 - val_mse: 0.0875\n",
      "Epoch 45/100\n",
      "5926/5926 [==============================] - 20s 3ms/step - loss: 0.0420 - mae: 0.0666 - mse: 0.0420 - val_loss: 0.0816 - val_mae: 0.0494 - val_mse: 0.0816\n",
      "Epoch 46/100\n",
      "5926/5926 [==============================] - 20s 3ms/step - loss: 0.0392 - mae: 0.0586 - mse: 0.0392 - val_loss: 0.0866 - val_mae: 0.0551 - val_mse: 0.0866\n",
      "Epoch 47/100\n",
      "5926/5926 [==============================] - 20s 3ms/step - loss: 0.0407 - mae: 0.0614 - mse: 0.0407 - val_loss: 0.0922 - val_mae: 0.0776 - val_mse: 0.0922\n",
      "Epoch 48/100\n",
      "5926/5926 [==============================] - 21s 4ms/step - loss: 0.0407 - mae: 0.0604 - mse: 0.0407 - val_loss: 0.0874 - val_mae: 0.0583 - val_mse: 0.0874\n",
      "Epoch 49/100\n"
     ]
    },
    {
     "name": "stdout",
     "output_type": "stream",
     "text": [
      "5926/5926 [==============================] - 20s 3ms/step - loss: 0.0407 - mae: 0.0616 - mse: 0.0407 - val_loss: 0.0847 - val_mae: 0.0433 - val_mse: 0.0847\n",
      "Epoch 50/100\n",
      "5926/5926 [==============================] - 20s 3ms/step - loss: 0.0404 - mae: 0.0583 - mse: 0.0404 - val_loss: 0.0870 - val_mae: 0.0577 - val_mse: 0.0870\n",
      "Epoch 51/100\n",
      "5926/5926 [==============================] - 20s 3ms/step - loss: 0.0386 - mae: 0.0591 - mse: 0.0386 - val_loss: 0.0853 - val_mae: 0.0473 - val_mse: 0.0853\n",
      "Epoch 52/100\n",
      "5926/5926 [==============================] - 20s 3ms/step - loss: 0.0396 - mae: 0.0590 - mse: 0.0396 - val_loss: 0.0840 - val_mae: 0.0429 - val_mse: 0.0840\n",
      "Epoch 53/100\n",
      "5926/5926 [==============================] - 20s 3ms/step - loss: 0.0410 - mae: 0.0586 - mse: 0.0410 - val_loss: 0.0837 - val_mae: 0.0525 - val_mse: 0.0837\n",
      "Epoch 54/100\n",
      "5926/5926 [==============================] - 27s 5ms/step - loss: 0.0399 - mae: 0.0554 - mse: 0.0399 - val_loss: 0.0852 - val_mae: 0.0504 - val_mse: 0.0852\n",
      "Epoch 55/100\n",
      "5926/5926 [==============================] - 24s 4ms/step - loss: 0.0388 - mae: 0.0554 - mse: 0.0388 - val_loss: 0.0895 - val_mae: 0.0715 - val_mse: 0.0895\n"
     ]
    }
   ],
   "source": [
    "FCNN_history = FCNN_model.fit(train_data, train_labels,\n",
    "                    epochs=100,\n",
    "                    batch_size = 32,\n",
    "                    callbacks = [callback],\n",
    "                    validation_split = 0.3 \n",
    "                    )"
   ]
  },
  {
   "cell_type": "code",
   "execution_count": 511,
   "metadata": {},
   "outputs": [
    {
     "data": {
      "image/png": "[encoded data removed]",
      "text/plain": [
       "<Figure size 432x288 with 1 Axes>"
      ]
     },
     "metadata": {
      "needs_background": "light"
     },
     "output_type": "display_data"
    }
   ],
   "source": [
    "#loss plot of training and test data\n",
    "plt.plot(FCNN_history.history['loss'], label='loss')\n",
    "plt.plot(FCNN_history.history['val_loss'], label = 'val_loss')\n",
    "plt.xlabel('Epoch')\n",
    "plt.yscale('log')\n",
    "plt.ylabel('Loss')\n",
    "plt.legend(loc='upper right')\n",
    "plt.title(\"FCNN O-PPAC Loss Curve, Dropout 0, 2 Dense 256 Node, Adam 0.001, MSE, linear activation\")\n",
    "plt.show()"
   ]
  },
  {
   "cell_type": "code",
   "execution_count": 512,
   "metadata": {},
   "outputs": [
    {
     "name": "stdout",
     "output_type": "stream",
     "text": [
      "2117/2117 - 3s - loss: 0.1459 - mae: 0.2661 - mse: 0.1459\n"
     ]
    }
   ],
   "source": [
    "#separation of 'result' values (stats from test data)\n",
    "result = FCNN_model.evaluate(test_data, test_labels, verbose=2)"
   ]
  },
  {
   "cell_type": "code",
   "execution_count": 471,
   "metadata": {},
   "outputs": [],
   "source": [
    "#separation of 'prediction' values (training data)\n",
    "predictions = FCNN_model.predict(test_data)"
   ]
  },
  {
   "cell_type": "code",
   "execution_count": 472,
   "metadata": {},
   "outputs": [
    {
     "data": {
      "text/plain": [
       "-36.0"
      ]
     },
     "execution_count": 472,
     "metadata": {},
     "output_type": "execute_result"
    }
   ],
   "source": [
    "x_pred = predictions[:,0]\n",
    "y_pred = predictions[:,1]\n",
    "\n",
    "\n",
    "x_test1 = [i[0] for i in test_labels]\n",
    "y_test1 = [i[1] for i in test_labels]\n",
    "\n",
    "x_test = np.array(x_test1)\n",
    "y_test = np.array(y_test1)\n",
    "\n",
    "\n",
    "x_test[0]\n",
    "y_test[0]"
   ]
  },
  {
   "cell_type": "code",
   "execution_count": 473,
   "metadata": {},
   "outputs": [
    {
     "data": {
      "image/png": "[encoded data removed]",
      "text/plain": [
       "<Figure size 432x288 with 1 Axes>"
      ]
     },
     "metadata": {
      "needs_background": "light"
     },
     "output_type": "display_data"
    }
   ],
   "source": [
    "new_x_labels = []\n",
    "for i in range(x_test.shape[0]):\n",
    "    new_x_labels.append([x_test[i]])\n",
    "np.array(new_x_labels)\n",
    "new_x_labels[2]\n",
    "\n",
    "a = plt.axes(aspect='equal')\n",
    "plt.scatter(new_x_labels, x_pred)\n",
    "plt.xlabel('True Values')\n",
    "plt.ylabel('Predictions')\n",
    "lims = [-50, 50]\n",
    "plt.xlim(lims)\n",
    "plt.ylim(lims)\n",
    "_ = plt.plot(lims, lims)\n",
    "plt.title(\"FCNN O-PPAC X Predictions vs True X Values\")\n",
    "plt.show()"
   ]
  },
  {
   "cell_type": "code",
   "execution_count": 474,
   "metadata": {},
   "outputs": [
    {
     "data": {
      "image/png": "[encoded data removed]",
      "text/plain": [
       "<Figure size 432x288 with 1 Axes>"
      ]
     },
     "metadata": {
      "needs_background": "light"
     },
     "output_type": "display_data"
    }
   ],
   "source": [
    "new_y_labels = []\n",
    "for i in range(y_test.shape[0]):\n",
    "    new_y_labels.append([y_test[i]])\n",
    "np.array(new_y_labels)\n",
    "new_y_labels[2]\n",
    "\n",
    "a = plt.axes(aspect='equal')\n",
    "plt.scatter(new_y_labels, y_pred)\n",
    "plt.xlabel('True Values')\n",
    "plt.ylabel('Predictions')\n",
    "lims = [-50, 50]\n",
    "plt.xlim(lims)\n",
    "plt.ylim(lims)\n",
    "_ = plt.plot(lims, lims)\n",
    "plt.title(\"FCNN O-PPAC Y Predictions vs True Y Values\")\n",
    "plt.show()"
   ]
  },
  {
   "cell_type": "code",
   "execution_count": 492,
   "metadata": {},
   "outputs": [
    {
     "name": "stdout",
     "output_type": "stream",
     "text": [
      "4\n",
      "[7.957893371582031, 3.9632205963134766, -3.01898193359375, -8.036779403686523]\n"
     ]
    }
   ],
   "source": [
    "#to find the locations of largest error within my predicted x values\n",
    "x_error = []\n",
    "\n",
    "for i in range(x_pred.shape[0]):\n",
    "    x_error_test = x_pred[i] - x_test[i]\n",
    "    x_error.append(x_error_test)\n",
    "\n",
    "xerror_list = [i for i in x_error if abs(i) >= 2]\n",
    "xerror_list.sort(reverse = True)\n",
    "print(len(xerror_list))\n",
    "print(xerror_list)"
   ]
  },
  {
   "cell_type": "code",
   "execution_count": 496,
   "metadata": {},
   "outputs": [
    {
     "name": "stdout",
     "output_type": "stream",
     "text": [
      "5\n",
      "[63.9300479888916, 59.9300479888916, 7.75358772277832, 2.4263439178466797, -2.837209701538086]\n"
     ]
    }
   ],
   "source": [
    "#to find the locations of largest error within my predicted y values\n",
    "y_error = []\n",
    "\n",
    "for i in range(y_pred.shape[0]):\n",
    "    y_error_test = y_pred[i] - y_test[i]\n",
    "    y_error.append(y_error_test)\n",
    "\n",
    "yerror_list = [i for i in y_error if abs(i) >= 2]\n",
    "yerror_list.sort(reverse = True)\n",
    "print(len(yerror_list))\n",
    "print(yerror_list)"
   ]
  },
  {
   "cell_type": "code",
   "execution_count": 485,
   "metadata": {},
   "outputs": [
    {
     "name": "stdout",
     "output_type": "stream",
     "text": [
      "[337]\n"
     ]
    }
   ],
   "source": [
    "#in \"bad value\" plug in x error value to find the index for x_pos and y_pos\n",
    "bad_value = -19.21713638305664\n",
    "x_locat = np.where(x_pos == (np.array(x_test[x_error.index(bad_value)])))\n",
    "y_locat = np.where(y_pos == (np.array(y_test[x_error.index(bad_value)])))\n",
    "\n",
    "print(np.intersect1d(x_locat, y_locat))\n",
    "\n",
    "#the common value between the x and y arrays is the index of the bad data\n",
    "\n",
    "#67, 35, 302, 337"
   ]
  },
  {
   "cell_type": "code",
   "execution_count": 481,
   "metadata": {},
   "outputs": [
    {
     "name": "stdout",
     "output_type": "stream",
     "text": [
      "[226]\n"
     ]
    }
   ],
   "source": [
    "#in \"bad value\" plug in y error value to find the index for x_pos and y_pos\n",
    "bad_value = -2.837209701538086\n",
    "x_locat = np.where(x_pos == (np.array(x_test[y_error.index(bad_value)])))\n",
    "y_locat = np.where(y_pos == (np.array(y_test[y_error.index(bad_value)])))\n",
    "\n",
    "print(np.intersect1d(x_locat, y_locat))\n",
    "\n",
    "#the common value between the x and y arrays is the index of the bad data\n",
    "\n",
    "#57, 6, 225, 299, 226"
   ]
  },
  {
   "cell_type": "code",
   "execution_count": null,
   "metadata": {},
   "outputs": [],
   "source": []
  },
  {
   "cell_type": "code",
   "execution_count": null,
   "metadata": {},
   "outputs": [],
   "source": []
  },
  {
   "cell_type": "code",
   "execution_count": 504,
   "metadata": {},
   "outputs": [
    {
     "name": "stdout",
     "output_type": "stream",
     "text": [
      "67710\n"
     ]
    },
    {
     "data": {
      "image/png": "[encoded data removed]",
      "text/plain": [
       "<Figure size 432x288 with 1 Axes>"
      ]
     },
     "metadata": {
      "needs_background": "light"
     },
     "output_type": "display_data"
    }
   ],
   "source": [
    "x_error = []\n",
    "\n",
    "for i in range(x_pred.shape[0]):\n",
    "    x_error_test = x_pred[i] - x_test[i]\n",
    "    x_error.append(x_error_test)\n",
    "\n",
    "#error_list_x = x_error\n",
    "error_list_x = [i for i in x_error if abs(i) <= .75]\n",
    "print(len(error_list_x))\n",
    "\n",
    "num_bins_x = 81\n",
    "# the histogram of the data\n",
    "n, bins, patches = plt.hist(error_list_x, num_bins_x, density=1, facecolor='blue', alpha=0.5)\n",
    "\n",
    "plt.xlabel('X Error (real - pred)')\n",
    "\n",
    "plt.title(r'X Residual')\n",
    "\n",
    "plt.show()"
   ]
  },
  {
   "cell_type": "code",
   "execution_count": 503,
   "metadata": {},
   "outputs": [
    {
     "name": "stdout",
     "output_type": "stream",
     "text": [
      "67710\n"
     ]
    },
    {
     "data": {
      "image/png": "[encoded data removed]",
      "text/plain": [
       "<Figure size 432x288 with 1 Axes>"
      ]
     },
     "metadata": {
      "needs_background": "light"
     },
     "output_type": "display_data"
    }
   ],
   "source": [
    "y_error = []\n",
    "\n",
    "for i in range(y_pred.shape[0]):\n",
    "    y_error_test = y_pred[i] - y_test[i]\n",
    "    y_error.append(y_error_test)\n",
    "\n",
    "#error_list_y = y_error\n",
    "error_list_y = [i for i in y_error if abs(i) <= .75]\n",
    "print(len(error_list_y))\n",
    "\n",
    "num_bins_x = 81\n",
    "# the histogram of the data\n",
    "n, bins, patches = plt.hist(error_list_y, num_bins_x, density=1, facecolor='blue', alpha=0.5)\n",
    "\n",
    "plt.xlabel('Y Error (real - pred)')\n",
    "\n",
    "plt.title(r'Y Residual')\n",
    "# Tweak spacing to prevent clipping of ylabel\n",
    "plt.subplots_adjust(left=0.15)\n",
    "plt.show()"
   ]
  },
  {
   "cell_type": "code",
   "execution_count": null,
   "metadata": {},
   "outputs": [],
   "source": []
  }
 ],
 "metadata": {
  "kernelspec": {
   "display_name": "Python 3",
   "language": "python",
   "name": "python3"
  },
  "language_info": {
   "codemirror_mode": {
    "name": "ipython",
    "version": 3
   },
   "file_extension": ".py",
   "mimetype": "text/x-python",
   "name": "python",
   "nbconvert_exporter": "python",
   "pygments_lexer": "ipython3",
   "version": "3.7.6"
  }
 },
 "nbformat": 4,
 "nbformat_minor": 4
}
