{
 "cells": [
  {
   "cell_type": "code",
   "execution_count": 585,
   "metadata": {},
   "outputs": [],
   "source": [
    "#This program fits the O-PPAC data onto a FCNN model\n",
    "import tensorflow as tf\n",
    "from tensorflow.keras import datasets, layers, models, metrics, Model\n",
    "from tensorflow.keras.callbacks import Callback\n",
    "from sklearn.model_selection import train_test_split\n",
    "from sklearn.metrics import classification_report\n",
    "from sklearn.preprocessing import normalize\n",
    "import tensorflow_docs as tfdocs\n",
    "import tensorflow_docs.plots\n",
    "import tensorflow_docs.modeling\n",
    "import numpy as np\n",
    "from numpy import *\n",
    "import pandas as pd\n",
    "import matplotlib.pyplot as plt\n",
    "import matplotlib.mlab as mlab\n",
    "import h5py\n",
    "import datetime"
   ]
  },
  {
   "cell_type": "code",
   "execution_count": 698,
   "metadata": {},
   "outputs": [
    {
     "name": "stdout",
     "output_type": "stream",
     "text": [
      "(991, 342, 132)\n"
     ]
    }
   ],
   "source": [
    "dataset = h5py.File('simu_HDF_thistimeforReal.h5', 'r') #load data\n",
    "num_diodes = dataset['Num_diodes'][...] #separate the data into each key within the data file\n",
    "x_pos = (dataset['Xpos'][...])/100\n",
    "y_pos = (dataset['Ypos'][...])/100\n",
    "histgrid = dataset['histgrid'][...]\n",
    "histgrid = histgrid[:-10,:,:] #redefine the shape and size of histgrid by removing the last 10 events\n",
    "output = np.vstack((x_pos,y_pos)) #define new, single variable for x and y position\n",
    "output = np.transpose(output) #original definition was sideways, so we transposed it\n",
    "\n",
    "#values = [117,174]\n",
    "#list of locations (by index) in histgrid which have unusable data due to peaks being in incorrect/weird locations\n",
    "\n",
    "new_histgrid = np.delete(histgrid, values, 1)\n",
    "#histgrid = new_histgrid\n",
    "#deletes \"values\" from histgrid and then redefines histgrid to not contain those values\n",
    "#done as 2 lines so you can comment out the 2nd and compare histgrid to new_histgrid if needed\n",
    "\n",
    "print(histgrid.shape)\n",
    "\n",
    "where_are_NaNs = isnan(histgrid) #removes any NaN values within histgrid; shouldn't be a problem with \"values\" removed\n",
    "histgrid[where_are_NaNs] = 0\n",
    "\n",
    "dataset.close()"
   ]
  },
  {
   "cell_type": "code",
   "execution_count": 701,
   "metadata": {},
   "outputs": [
    {
     "name": "stdout",
     "output_type": "stream",
     "text": [
      "(338580, 132)\n",
      "(338580, 2)\n"
     ]
    }
   ],
   "source": [
    "def data_compile(histdata):\n",
    "    data = []  #creates empty arrays for data and labels\n",
    "    labels = []\n",
    "    for i in range(histdata.shape[1]):\n",
    "        for j in range(1,histdata.shape[0]):\n",
    "            data.append(histdata[j,i,0:132]) #puts histgrid data inside of \"data\"\n",
    "            labels.append(output[i]) #puts x,y _pos into \"labels\"\n",
    "    return(np.array(data),np.array(labels))\n",
    "\n",
    "all_data, all_labels = data_compile(histgrid)\n",
    "\n",
    "#to make sure everything is the correct shape\n",
    "print(all_data.shape)\n",
    "print(all_labels.shape)"
   ]
  },
  {
   "cell_type": "code",
   "execution_count": 702,
   "metadata": {},
   "outputs": [
    {
     "name": "stdout",
     "output_type": "stream",
     "text": [
      "0.8395246220687987\n"
     ]
    }
   ],
   "source": [
    "all_data = normalize(all_data,axis = 1)\n",
    "print(np.max(all_data))"
   ]
  },
  {
   "cell_type": "code",
   "execution_count": 664,
   "metadata": {},
   "outputs": [],
   "source": []
  },
  {
   "cell_type": "code",
   "execution_count": 755,
   "metadata": {},
   "outputs": [
    {
     "name": "stdout",
     "output_type": "stream",
     "text": [
      "               0         1         2         3    4    5         6         7  \\\n",
      "0       0.000000  0.003912  0.000000  0.000000  0.0  0.0  0.000000  0.003912   \n",
      "1       0.000000  0.000000  0.000000  0.000000  0.0  0.0  0.000000  0.000000   \n",
      "2       0.000000  0.000000  0.003955  0.007909  0.0  0.0  0.007909  0.000000   \n",
      "3       0.008882  0.000000  0.000000  0.000000  0.0  0.0  0.004441  0.000000   \n",
      "4       0.000000  0.000000  0.000000  0.000000  0.0  0.0  0.000000  0.000000   \n",
      "...          ...       ...       ...       ...  ...  ...       ...       ...   \n",
      "338575  0.000000  0.000000  0.000000  0.000000  0.0  0.0  0.000000  0.000000   \n",
      "338576  0.000000  0.000000  0.000000  0.000000  0.0  0.0  0.003650  0.000000   \n",
      "338577  0.000000  0.000000  0.000000  0.000000  0.0  0.0  0.000000  0.000000   \n",
      "338578  0.000000  0.000000  0.000000  0.000000  0.0  0.0  0.000000  0.002713   \n",
      "338579  0.000000  0.000000  0.000000  0.000000  0.0  0.0  0.000000  0.000000   \n",
      "\n",
      "               8         9  ...       123  124       125       126  127  \\\n",
      "0       0.003912  0.007825  ...  0.000000  0.0  0.000000  0.000000  0.0   \n",
      "1       0.000000  0.021735  ...  0.000000  0.0  0.000000  0.000000  0.0   \n",
      "2       0.000000  0.015818  ...  0.000000  0.0  0.000000  0.003955  0.0   \n",
      "3       0.000000  0.013323  ...  0.000000  0.0  0.000000  0.000000  0.0   \n",
      "4       0.000000  0.030455  ...  0.000000  0.0  0.000000  0.000000  0.0   \n",
      "...          ...       ...  ...       ...  ...       ...       ...  ...   \n",
      "338575  0.000000  0.000000  ...  0.000000  0.0  0.000000  0.000000  0.0   \n",
      "338576  0.003650  0.000000  ...  0.000000  0.0  0.000000  0.000000  0.0   \n",
      "338577  0.000000  0.000000  ...  0.000000  0.0  0.000000  0.000000  0.0   \n",
      "338578  0.000000  0.000000  ...  0.002713  0.0  0.000000  0.000000  0.0   \n",
      "338579  0.003952  0.000000  ...  0.000000  0.0  0.003952  0.000000  0.0   \n",
      "\n",
      "             128       129       130       131       sum  \n",
      "0       0.000000  0.000000  0.000000  0.000000  3.939760  \n",
      "1       0.000000  0.000000  0.000000  0.000000  3.993799  \n",
      "2       0.000000  0.000000  0.003955  0.003955  3.962425  \n",
      "3       0.000000  0.000000  0.004441  0.000000  3.934709  \n",
      "4       0.000000  0.000000  0.000000  0.000000  4.007038  \n",
      "...          ...       ...       ...       ...       ...  \n",
      "338575  0.004407  0.000000  0.000000  0.000000  4.068053  \n",
      "338576  0.000000  0.003650  0.003650  0.000000  4.087972  \n",
      "338577  0.000000  0.000000  0.000000  0.000000  4.071427  \n",
      "338578  0.000000  0.000000  0.000000  0.000000  3.969028  \n",
      "338579  0.000000  0.003952  0.000000  0.000000  4.097918  \n",
      "\n",
      "[338294 rows x 133 columns]\n",
      "338294\n",
      "338294\n",
      "338294\n",
      "338294\n"
     ]
    }
   ],
   "source": [
    "all_labels = pd.DataFrame(all_labels)\n",
    "all_data = pd.DataFrame(all_data)\n",
    "all_data[\"sum\"] = np.sum(all_data, axis = 1)\n",
    "\n",
    "print(all_data)\n",
    "\n",
    "print(len(all_labels))\n",
    "print(len(all_data))\n",
    "\n",
    "remove_labels = list(all_data[all_data[\"sum\"] == 0].index)\n",
    "\n",
    "all_labels = all_labels.drop(all_labels.index[remove_labels])\n",
    "all_data = all_data[all_data[\"sum\"] != 0]\n",
    "\n",
    "print(len(all_labels))\n",
    "print(len(all_data))\n",
    "\n",
    "del all_data['sum']"
   ]
  },
  {
   "cell_type": "code",
   "execution_count": 709,
   "metadata": {},
   "outputs": [],
   "source": [
    "train_data, test_data, train_labels, test_labels = train_test_split(all_data, all_labels, test_size=0.2,shuffle=True)\n",
    "#splits training and test data for the FCNN; 20% set aside for testing"
   ]
  },
  {
   "cell_type": "code",
   "execution_count": 710,
   "metadata": {},
   "outputs": [
    {
     "name": "stdout",
     "output_type": "stream",
     "text": [
      "2\n",
      "(270635, 132)\n",
      "234760    0.0\n",
      "222876    0.0\n",
      "315753    0.0\n",
      "283444    0.0\n",
      "329684    0.0\n",
      "         ... \n",
      "150373    0.0\n",
      "190335    0.0\n",
      "16710     0.0\n",
      "222224    0.0\n",
      "215661    0.0\n",
      "Name: 0, Length: 270635, dtype: float64\n"
     ]
    }
   ],
   "source": [
    "print(train_data.ndim)\n",
    "print(train_data.shape)\n",
    "print(train_data[0])"
   ]
  },
  {
   "cell_type": "code",
   "execution_count": 711,
   "metadata": {},
   "outputs": [],
   "source": [
    "#early stopping mechanism; can increase amount of time before stopping by increasing patience\n",
    "callback = tf.keras.callbacks.EarlyStopping(monitor='val_loss', patience=10)"
   ]
  },
  {
   "cell_type": "code",
   "execution_count": 712,
   "metadata": {},
   "outputs": [],
   "source": [
    "#Fully connected neural network\n",
    "#the \"layers\" are the dense hidden layers which are fully connected\n",
    "#first number changes the nodes, 2nd is the activation function, (first line has number of inputs as well)\n",
    "\n",
    "FCNN_model = tf.keras.Sequential()\n",
    "FCNN_model.add(layers.Dense(256, activation='relu', input_shape = [132]))\n",
    "FCNN_model.add(layers.Dense(256, activation = 'relu'))\n",
    "#FCNN_model.add(layers.Dense(128, activation = 'relu'))\n",
    "#FCNN_model.add(layers.Dense(128, activation = 'relu'))\n",
    "#FCNN_model.add(layers.Dropout(0.2))\n",
    "FCNN_model.add(layers.Dense(2, activation = 'linear'))"
   ]
  },
  {
   "cell_type": "code",
   "execution_count": 713,
   "metadata": {},
   "outputs": [],
   "source": [
    "#compiles the FCNN and includes the learning rate as well\n",
    "FCNN_model.compile(optimizer = tf.keras.optimizers.Adam(learning_rate=0.001), \n",
    "              loss = 'mse', \n",
    "              metrics=['mae', 'mse'])"
   ]
  },
  {
   "cell_type": "code",
   "execution_count": 714,
   "metadata": {},
   "outputs": [
    {
     "name": "stdout",
     "output_type": "stream",
     "text": [
      "Epoch 1/100\n",
      "5921/5921 [==============================] - 22s 4ms/step - loss: 4.5845 - mae: 0.6888 - mse: 4.5845 - val_loss: 0.2769 - val_mae: 0.3945 - val_mse: 0.2769\n",
      "Epoch 2/100\n",
      "5921/5921 [==============================] - 19s 3ms/step - loss: 0.1853 - mae: 0.3342 - mse: 0.1853 - val_loss: 0.1500 - val_mae: 0.2982 - val_mse: 0.1500\n",
      "Epoch 3/100\n",
      "5921/5921 [==============================] - 22s 4ms/step - loss: 0.1186 - mae: 0.2673 - mse: 0.1186 - val_loss: 0.1122 - val_mae: 0.2624 - val_mse: 0.1122\n",
      "Epoch 4/100\n",
      "5921/5921 [==============================] - 20s 3ms/step - loss: 0.0857 - mae: 0.2282 - mse: 0.0857 - val_loss: 0.0779 - val_mae: 0.2154 - val_mse: 0.0779\n",
      "Epoch 5/100\n",
      "5921/5921 [==============================] - 21s 4ms/step - loss: 0.0690 - mae: 0.2045 - mse: 0.0690 - val_loss: 0.0907 - val_mae: 0.2357 - val_mse: 0.0907\n",
      "Epoch 6/100\n",
      "5921/5921 [==============================] - 23s 4ms/step - loss: 0.0578 - mae: 0.1867 - mse: 0.0578 - val_loss: 0.0529 - val_mae: 0.1741 - val_mse: 0.0529\n",
      "Epoch 7/100\n",
      "5921/5921 [==============================] - 22s 4ms/step - loss: 0.0492 - mae: 0.1718 - mse: 0.0492 - val_loss: 0.0508 - val_mae: 0.1735 - val_mse: 0.0508\n",
      "Epoch 8/100\n",
      "5921/5921 [==============================] - 20s 3ms/step - loss: 0.0424 - mae: 0.1584 - mse: 0.0424 - val_loss: 0.0462 - val_mae: 0.1641 - val_mse: 0.0462\n",
      "Epoch 9/100\n",
      "5921/5921 [==============================] - 25s 4ms/step - loss: 0.0372 - mae: 0.1476 - mse: 0.0372 - val_loss: 0.0431 - val_mae: 0.1621 - val_mse: 0.0431\n",
      "Epoch 10/100\n",
      "5921/5921 [==============================] - 34s 6ms/step - loss: 0.0338 - mae: 0.1401 - mse: 0.0338 - val_loss: 0.0378 - val_mae: 0.1491 - val_mse: 0.0378\n",
      "Epoch 11/100\n",
      "   1/5921 [..............................] - ETA: 0s - loss: 0.0373 - mae: 0.1579 - mse: 0.0373WARNING:tensorflow:Method (on_train_batch_end) is slow compared to the batch update (0.106174). Check your callbacks.\n"
     ]
    },
    {
     "name": "stderr",
     "output_type": "stream",
     "text": [
      "WARNING:tensorflow:Method (on_train_batch_end) is slow compared to the batch update (0.106174). Check your callbacks.\n"
     ]
    },
    {
     "name": "stdout",
     "output_type": "stream",
     "text": [
      "5921/5921 [==============================] - 22s 4ms/step - loss: 0.0301 - mae: 0.1311 - mse: 0.0301 - val_loss: 0.0259 - val_mae: 0.1178 - val_mse: 0.0259\n",
      "Epoch 12/100\n",
      "5921/5921 [==============================] - 20s 3ms/step - loss: 0.0284 - mae: 0.1261 - mse: 0.0284 - val_loss: 0.0259 - val_mae: 0.1187 - val_mse: 0.0259\n",
      "Epoch 13/100\n",
      "5921/5921 [==============================] - 20s 3ms/step - loss: 0.0256 - mae: 0.1197 - mse: 0.0256 - val_loss: 0.0270 - val_mae: 0.1214 - val_mse: 0.0270\n",
      "Epoch 14/100\n",
      "5921/5921 [==============================] - 20s 3ms/step - loss: 0.0229 - mae: 0.1127 - mse: 0.0229 - val_loss: 0.0323 - val_mae: 0.1374 - val_mse: 0.0323\n",
      "Epoch 15/100\n",
      "5921/5921 [==============================] - 21s 4ms/step - loss: 0.0218 - mae: 0.1094 - mse: 0.0218 - val_loss: 0.0214 - val_mae: 0.1029 - val_mse: 0.0214\n",
      "Epoch 16/100\n",
      "5921/5921 [==============================] - 23s 4ms/step - loss: 0.0195 - mae: 0.1036 - mse: 0.0195 - val_loss: 0.0276 - val_mae: 0.1220 - val_mse: 0.0276\n",
      "Epoch 17/100\n",
      "5921/5921 [==============================] - 31s 5ms/step - loss: 0.0185 - mae: 0.1003 - mse: 0.0185 - val_loss: 0.0302 - val_mae: 0.1342 - val_mse: 0.0302\n",
      "Epoch 18/100\n",
      "5921/5921 [==============================] - 25s 4ms/step - loss: 0.0179 - mae: 0.0982 - mse: 0.0179 - val_loss: 0.0158 - val_mae: 0.0886 - val_mse: 0.0158\n",
      "Epoch 19/100\n",
      "5921/5921 [==============================] - 28s 5ms/step - loss: 0.0169 - mae: 0.0951 - mse: 0.0169 - val_loss: 0.0206 - val_mae: 0.1036 - val_mse: 0.0206\n",
      "Epoch 20/100\n",
      "5921/5921 [==============================] - 25s 4ms/step - loss: 0.0152 - mae: 0.0898 - mse: 0.0152 - val_loss: 0.0191 - val_mae: 0.1018 - val_mse: 0.0191\n",
      "Epoch 21/100\n",
      "5921/5921 [==============================] - 25s 4ms/step - loss: 0.0141 - mae: 0.0871 - mse: 0.0141 - val_loss: 0.0231 - val_mae: 0.1062 - val_mse: 0.0231\n",
      "Epoch 22/100\n",
      "5921/5921 [==============================] - 25s 4ms/step - loss: 0.0135 - mae: 0.0850 - mse: 0.0135 - val_loss: 0.0100 - val_mae: 0.0665 - val_mse: 0.0100\n",
      "Epoch 23/100\n",
      "5921/5921 [==============================] - 24s 4ms/step - loss: 0.0128 - mae: 0.0822 - mse: 0.0128 - val_loss: 0.0120 - val_mae: 0.0734 - val_mse: 0.0120\n",
      "Epoch 24/100\n",
      "5921/5921 [==============================] - 26s 4ms/step - loss: 0.0119 - mae: 0.0794 - mse: 0.0119 - val_loss: 0.0139 - val_mae: 0.0869 - val_mse: 0.0139\n",
      "Epoch 25/100\n",
      "5921/5921 [==============================] - 24s 4ms/step - loss: 0.0110 - mae: 0.0764 - mse: 0.0110 - val_loss: 0.0124 - val_mae: 0.0733 - val_mse: 0.0124\n",
      "Epoch 26/100\n",
      "5921/5921 [==============================] - 23s 4ms/step - loss: 0.0106 - mae: 0.0749 - mse: 0.0106 - val_loss: 0.0086 - val_mae: 0.0611 - val_mse: 0.0086\n",
      "Epoch 27/100\n",
      "5921/5921 [==============================] - 24s 4ms/step - loss: 0.0098 - mae: 0.0721 - mse: 0.0098 - val_loss: 0.0141 - val_mae: 0.0835 - val_mse: 0.0141\n",
      "Epoch 28/100\n",
      "5921/5921 [==============================] - 24s 4ms/step - loss: 0.0092 - mae: 0.0702 - mse: 0.0092 - val_loss: 0.0137 - val_mae: 0.0795 - val_mse: 0.0137\n",
      "Epoch 29/100\n",
      "5921/5921 [==============================] - 25s 4ms/step - loss: 0.0091 - mae: 0.0695 - mse: 0.0091 - val_loss: 0.0098 - val_mae: 0.0689 - val_mse: 0.0098\n",
      "Epoch 30/100\n",
      "5921/5921 [==============================] - 25s 4ms/step - loss: 0.0084 - mae: 0.0671 - mse: 0.0084 - val_loss: 0.0125 - val_mae: 0.0799 - val_mse: 0.0125\n",
      "Epoch 31/100\n",
      "5921/5921 [==============================] - 27s 5ms/step - loss: 0.0080 - mae: 0.0658 - mse: 0.0080 - val_loss: 0.0122 - val_mae: 0.0755 - val_mse: 0.0122\n",
      "Epoch 32/100\n",
      "5921/5921 [==============================] - 28s 5ms/step - loss: 0.0078 - mae: 0.0651 - mse: 0.0078 - val_loss: 0.0096 - val_mae: 0.0662 - val_mse: 0.0096\n",
      "Epoch 33/100\n",
      "5921/5921 [==============================] - 25s 4ms/step - loss: 0.0075 - mae: 0.0633 - mse: 0.0075 - val_loss: 0.0086 - val_mae: 0.0661 - val_mse: 0.0086\n",
      "Epoch 34/100\n",
      "5921/5921 [==============================] - 24s 4ms/step - loss: 0.0071 - mae: 0.0624 - mse: 0.0071 - val_loss: 0.0088 - val_mae: 0.0617 - val_mse: 0.0088\n",
      "Epoch 35/100\n",
      "5921/5921 [==============================] - 24s 4ms/step - loss: 0.0070 - mae: 0.0611 - mse: 0.0070 - val_loss: 0.0131 - val_mae: 0.0785 - val_mse: 0.0131\n",
      "Epoch 36/100\n",
      "5921/5921 [==============================] - 25s 4ms/step - loss: 0.0066 - mae: 0.0597 - mse: 0.0066 - val_loss: 0.0087 - val_mae: 0.0625 - val_mse: 0.0087\n",
      "Epoch 37/100\n",
      "5921/5921 [==============================] - 24s 4ms/step - loss: 0.0063 - mae: 0.0584 - mse: 0.0063 - val_loss: 0.0091 - val_mae: 0.0677 - val_mse: 0.0091\n",
      "Epoch 38/100\n",
      "5921/5921 [==============================] - 25s 4ms/step - loss: 0.0062 - mae: 0.0580 - mse: 0.0062 - val_loss: 0.0099 - val_mae: 0.0699 - val_mse: 0.0099\n",
      "Epoch 39/100\n",
      "5921/5921 [==============================] - 24s 4ms/step - loss: 0.0062 - mae: 0.0579 - mse: 0.0062 - val_loss: 0.0054 - val_mae: 0.0448 - val_mse: 0.0054\n",
      "Epoch 40/100\n",
      "5921/5921 [==============================] - 25s 4ms/step - loss: 0.0057 - mae: 0.0551 - mse: 0.0057 - val_loss: 0.0087 - val_mae: 0.0608 - val_mse: 0.0087\n",
      "Epoch 41/100\n",
      "5921/5921 [==============================] - 25s 4ms/step - loss: 0.0057 - mae: 0.0554 - mse: 0.0057 - val_loss: 0.0203 - val_mae: 0.1054 - val_mse: 0.0203\n",
      "Epoch 42/100\n",
      "5921/5921 [==============================] - 25s 4ms/step - loss: 0.0056 - mae: 0.0548 - mse: 0.0056 - val_loss: 0.0080 - val_mae: 0.0612 - val_mse: 0.0080\n",
      "Epoch 43/100\n",
      "5921/5921 [==============================] - 25s 4ms/step - loss: 0.0054 - mae: 0.0537 - mse: 0.0054 - val_loss: 0.0124 - val_mae: 0.0767 - val_mse: 0.0124\n",
      "Epoch 44/100\n",
      "5921/5921 [==============================] - 25s 4ms/step - loss: 0.0052 - mae: 0.0526 - mse: 0.0052 - val_loss: 0.0126 - val_mae: 0.0804 - val_mse: 0.0126\n",
      "Epoch 45/100\n",
      "5921/5921 [==============================] - 25s 4ms/step - loss: 0.0050 - mae: 0.0514 - mse: 0.0050 - val_loss: 0.0071 - val_mae: 0.0564 - val_mse: 0.0071\n",
      "Epoch 46/100\n",
      "5921/5921 [==============================] - 25s 4ms/step - loss: 0.0052 - mae: 0.0527 - mse: 0.0052 - val_loss: 0.0066 - val_mae: 0.0498 - val_mse: 0.0066\n",
      "Epoch 47/100\n",
      "5921/5921 [==============================] - 25s 4ms/step - loss: 0.0048 - mae: 0.0504 - mse: 0.0048 - val_loss: 0.0059 - val_mae: 0.0490 - val_mse: 0.0059\n",
      "Epoch 48/100\n",
      "5921/5921 [==============================] - 25s 4ms/step - loss: 0.0047 - mae: 0.0500 - mse: 0.0047 - val_loss: 0.0055 - val_mae: 0.0451 - val_mse: 0.0055\n",
      "Epoch 49/100\n",
      "5921/5921 [==============================] - 25s 4ms/step - loss: 0.0046 - mae: 0.0495 - mse: 0.0046 - val_loss: 0.0044 - val_mae: 0.0380 - val_mse: 0.0044\n",
      "Epoch 50/100\n",
      "5921/5921 [==============================] - 24s 4ms/step - loss: 0.0044 - mae: 0.0486 - mse: 0.0044 - val_loss: 0.0062 - val_mae: 0.0505 - val_mse: 0.0062\n",
      "Epoch 51/100\n",
      "5921/5921 [==============================] - 25s 4ms/step - loss: 0.0042 - mae: 0.0474 - mse: 0.0042 - val_loss: 0.0063 - val_mae: 0.0495 - val_mse: 0.0063\n",
      "Epoch 52/100\n",
      "5921/5921 [==============================] - 25s 4ms/step - loss: 0.0041 - mae: 0.0469 - mse: 0.0041 - val_loss: 0.0064 - val_mae: 0.0539 - val_mse: 0.0064\n",
      "Epoch 53/100\n",
      "5921/5921 [==============================] - 25s 4ms/step - loss: 0.0043 - mae: 0.0477 - mse: 0.0043 - val_loss: 0.0039 - val_mae: 0.0355 - val_mse: 0.0039\n",
      "Epoch 54/100\n",
      "5921/5921 [==============================] - 25s 4ms/step - loss: 0.0042 - mae: 0.0468 - mse: 0.0042 - val_loss: 0.0086 - val_mae: 0.0607 - val_mse: 0.0086\n",
      "Epoch 55/100\n",
      "5921/5921 [==============================] - 27s 5ms/step - loss: 0.0039 - mae: 0.0454 - mse: 0.0039 - val_loss: 0.0092 - val_mae: 0.0633 - val_mse: 0.0092\n",
      "Epoch 56/100\n",
      "5921/5921 [==============================] - 25s 4ms/step - loss: 0.0041 - mae: 0.0459 - mse: 0.0041 - val_loss: 0.0046 - val_mae: 0.0415 - val_mse: 0.0046\n",
      "Epoch 57/100\n",
      "5921/5921 [==============================] - 25s 4ms/step - loss: 0.0038 - mae: 0.0443 - mse: 0.0038 - val_loss: 0.0082 - val_mae: 0.0587 - val_mse: 0.0082\n",
      "Epoch 58/100\n",
      "5921/5921 [==============================] - 25s 4ms/step - loss: 0.0038 - mae: 0.0445 - mse: 0.0038 - val_loss: 0.0086 - val_mae: 0.0572 - val_mse: 0.0086\n",
      "Epoch 59/100\n",
      "5921/5921 [==============================] - 25s 4ms/step - loss: 0.0037 - mae: 0.0440 - mse: 0.0037 - val_loss: 0.0035 - val_mae: 0.0318 - val_mse: 0.0035\n",
      "Epoch 60/100\n",
      "5921/5921 [==============================] - 25s 4ms/step - loss: 0.0035 - mae: 0.0428 - mse: 0.0035 - val_loss: 0.0049 - val_mae: 0.0434 - val_mse: 0.0049\n",
      "Epoch 61/100\n",
      "5921/5921 [==============================] - 24s 4ms/step - loss: 0.0035 - mae: 0.0428 - mse: 0.0035 - val_loss: 0.0067 - val_mae: 0.0526 - val_mse: 0.0067\n",
      "Epoch 62/100\n",
      "5921/5921 [==============================] - 24s 4ms/step - loss: 0.0035 - mae: 0.0427 - mse: 0.0035 - val_loss: 0.0102 - val_mae: 0.0700 - val_mse: 0.0102\n",
      "Epoch 63/100\n",
      "5921/5921 [==============================] - 24s 4ms/step - loss: 0.0034 - mae: 0.0421 - mse: 0.0034 - val_loss: 0.0045 - val_mae: 0.0415 - val_mse: 0.0045\n",
      "Epoch 64/100\n",
      "5921/5921 [==============================] - 24s 4ms/step - loss: 0.0034 - mae: 0.0422 - mse: 0.0034 - val_loss: 0.0166 - val_mae: 0.0931 - val_mse: 0.0166\n",
      "Epoch 65/100\n",
      "5921/5921 [==============================] - 24s 4ms/step - loss: 0.0034 - mae: 0.0414 - mse: 0.0034 - val_loss: 0.0070 - val_mae: 0.0563 - val_mse: 0.0070\n",
      "Epoch 66/100\n",
      "5921/5921 [==============================] - 25s 4ms/step - loss: 0.0032 - mae: 0.0406 - mse: 0.0032 - val_loss: 0.0037 - val_mae: 0.0330 - val_mse: 0.0037\n",
      "Epoch 67/100\n",
      "5921/5921 [==============================] - 27s 5ms/step - loss: 0.0031 - mae: 0.0399 - mse: 0.0031 - val_loss: 0.0036 - val_mae: 0.0339 - val_mse: 0.0036\n",
      "Epoch 68/100\n",
      "5921/5921 [==============================] - 27s 4ms/step - loss: 0.0030 - mae: 0.0398 - mse: 0.0030 - val_loss: 0.0055 - val_mae: 0.0488 - val_mse: 0.0055\n",
      "Epoch 69/100\n",
      "5921/5921 [==============================] - 26s 4ms/step - loss: 0.0030 - mae: 0.0398 - mse: 0.0030 - val_loss: 0.0057 - val_mae: 0.0506 - val_mse: 0.0057\n"
     ]
    }
   ],
   "source": [
    "FCNN_history = FCNN_model.fit(train_data, train_labels,\n",
    "                    epochs=100,\n",
    "                    batch_size = 32,\n",
    "                    callbacks = [callback],\n",
    "                    validation_split = 0.3 \n",
    "                    )"
   ]
  },
  {
   "cell_type": "code",
   "execution_count": 715,
   "metadata": {},
   "outputs": [
    {
     "data": {
      "image/png": "[encoded data removed]",
      "text/plain": [
       "<Figure size 432x288 with 1 Axes>"
      ]
     },
     "metadata": {
      "needs_background": "light"
     },
     "output_type": "display_data"
    }
   ],
   "source": [
    "#loss plot of training and test data\n",
    "plt.plot(FCNN_history.history['loss'], label='loss')\n",
    "plt.plot(FCNN_history.history['val_loss'], label = 'val_loss')\n",
    "plt.xlabel('Epoch')\n",
    "plt.yscale('log')\n",
    "plt.ylabel('Loss')\n",
    "plt.legend(loc='upper right')\n",
    "plt.title(\"FCNN O-PPAC Loss Curve, Dropout 0, 2 Dense 256 Node, Adam 0.001, MSE, linear activation\")\n",
    "plt.show()"
   ]
  },
  {
   "cell_type": "code",
   "execution_count": 716,
   "metadata": {},
   "outputs": [
    {
     "name": "stdout",
     "output_type": "stream",
     "text": [
      "2115/2115 - 4s - loss: 0.0042 - mae: 0.0503 - mse: 0.0042\n"
     ]
    }
   ],
   "source": [
    "#separation of 'result' values (stats from test data)\n",
    "result = FCNN_model.evaluate(test_data, test_labels, verbose=2)"
   ]
  },
  {
   "cell_type": "code",
   "execution_count": 717,
   "metadata": {},
   "outputs": [],
   "source": [
    "#separation of 'prediction' values (training data)\n",
    "predictions = FCNN_model.predict(test_data)"
   ]
  },
  {
   "cell_type": "code",
   "execution_count": 724,
   "metadata": {},
   "outputs": [
    {
     "data": {
      "text/plain": [
       "-12.0"
      ]
     },
     "execution_count": 724,
     "metadata": {},
     "output_type": "execute_result"
    }
   ],
   "source": [
    "x_pred = predictions[:,0]\n",
    "y_pred = predictions[:,1]\n",
    "\n",
    "\n",
    "x_test1 = test_labels[0]\n",
    "y_test1 = test_labels[1]\n",
    "\n",
    "x_test = np.array(x_test1)\n",
    "y_test = np.array(y_test1)\n",
    "\n",
    "\n",
    "x_test[0]\n",
    "y_test[0]"
   ]
  },
  {
   "cell_type": "code",
   "execution_count": 757,
   "metadata": {},
   "outputs": [
    {
     "data": {
      "image/png": "[encoded data removed]",
      "text/plain": [
       "<Figure size 432x288 with 1 Axes>"
      ]
     },
     "metadata": {
      "needs_background": "light"
     },
     "output_type": "display_data"
    }
   ],
   "source": [
    "new_x_labels = []\n",
    "for i in range(x_test.shape[0]):\n",
    "    new_x_labels.append([x_test[i]])\n",
    "np.array(new_x_labels)\n",
    "new_x_labels[2]\n",
    "\n",
    "a = plt.axes(aspect='equal')\n",
    "\n",
    "plt.scatter(new_x_labels, x_pred, s=6, marker = \"x\")\n",
    "plt.xlabel('True Values')\n",
    "plt.ylabel('Predictions')\n",
    "lims = [-50, 50]\n",
    "plt.xlim(lims)\n",
    "plt.ylim(lims)\n",
    "_ = plt.plot(lims, lims, linewidth = .5)\n",
    "plt.title(\"FCNN O-PPAC X Predictions vs True X Values\")\n",
    "plt.show()"
   ]
  },
  {
   "cell_type": "code",
   "execution_count": 758,
   "metadata": {},
   "outputs": [
    {
     "data": {
      "image/png": "[encoded data removed]",
      "text/plain": [
       "<Figure size 432x288 with 1 Axes>"
      ]
     },
     "metadata": {
      "needs_background": "light"
     },
     "output_type": "display_data"
    }
   ],
   "source": [
    "new_y_labels = []\n",
    "for i in range(y_test.shape[0]):\n",
    "    new_y_labels.append([y_test[i]])\n",
    "np.array(new_y_labels)\n",
    "new_y_labels[2]\n",
    "\n",
    "a = plt.axes(aspect='equal')\n",
    "plt.scatter(new_y_labels, y_pred, s=6, marker = \"x\")\n",
    "plt.xlabel('True Values')\n",
    "plt.ylabel('Predictions')\n",
    "lims = [-50, 50]\n",
    "plt.xlim(lims)\n",
    "plt.ylim(lims)\n",
    "_ = plt.plot(lims, lims, linewidth = .5)\n",
    "plt.title(\"FCNN O-PPAC Y Predictions vs True Y Values\")\n",
    "plt.show()"
   ]
  },
  {
   "cell_type": "code",
   "execution_count": 739,
   "metadata": {},
   "outputs": [
    {
     "name": "stdout",
     "output_type": "stream",
     "text": [
      "2\n",
      "[2.1269989013671875, -1.7860355377197266]\n",
      "<class 'pandas.core.frame.DataFrame'>\n"
     ]
    }
   ],
   "source": [
    "#to find the locations of largest error within my predicted x values\n",
    "x_error = []\n",
    "\n",
    "for i in range(x_pred.shape[0]):\n",
    "    x_error_test = x_pred[i] - x_test[i]\n",
    "    x_error.append(x_error_test)\n",
    "\n",
    "xerror_list = [i for i in x_error if abs(i) >= 1]\n",
    "xerror_list.sort(reverse = True)\n",
    "print(len(xerror_list))\n",
    "print(xerror_list)\n"
   ]
  },
  {
   "cell_type": "code",
   "execution_count": 754,
   "metadata": {},
   "outputs": [
    {
     "ename": "SyntaxError",
     "evalue": "invalid character in identifier (<ipython-input-754-f4975698a1a7>, line 10)",
     "output_type": "error",
     "traceback": [
      "\u001b[1;36m  File \u001b[1;32m\"<ipython-input-754-f4975698a1a7>\"\u001b[1;36m, line \u001b[1;32m10\u001b[0m\n\u001b[1;33m    print(test_data[test_data[‘Index’]==x_test_locat].index.values)\u001b[0m\n\u001b[1;37m                                    ^\u001b[0m\n\u001b[1;31mSyntaxError\u001b[0m\u001b[1;31m:\u001b[0m invalid character in identifier\n"
     ]
    }
   ],
   "source": [
    "#stuff to fix still\n",
    "\n",
    "bad_xvalue = 2.1269989013671875\n",
    "x_test_locat = x_error.index(bad_xvalue)\n",
    " \n",
    "print(x_test_locat)\n",
    "\n",
    "plt.title('Problem Location Example')\n",
    "plt.plot(test_data.iloc[[x_test_locat]])\n",
    "plt.show()\n",
    "\n",
    "print(test_data[test_data[‘Index’]==x_test_locat].index.values)\n",
    "\n",
    "print(test_data)"
   ]
  },
  {
   "cell_type": "code",
   "execution_count": 733,
   "metadata": {},
   "outputs": [
    {
     "name": "stdout",
     "output_type": "stream",
     "text": [
      "0\n",
      "[]\n"
     ]
    }
   ],
   "source": [
    "#to find the locations of largest error within my predicted y values\n",
    "y_error = []\n",
    "\n",
    "for i in range(y_pred.shape[0]):\n",
    "    y_error_test = y_pred[i] - y_test[i]\n",
    "    y_error.append(y_error_test)\n",
    "\n",
    "yerror_list = [i for i in y_error if abs(i) >= 1]\n",
    "yerror_list.sort(reverse = True)\n",
    "print(len(yerror_list))\n",
    "print(yerror_list)"
   ]
  },
  {
   "cell_type": "code",
   "execution_count": 570,
   "metadata": {},
   "outputs": [
    {
     "data": {
      "image/png": "[encoded data removed]",
      "text/plain": [
       "<Figure size 432x288 with 1 Axes>"
      ]
     },
     "metadata": {
      "needs_background": "light"
     },
     "output_type": "display_data"
    }
   ],
   "source": [
    "#stuff to fix still\n",
    "\n",
    "bad_yvalue = 2.532268524169922\n",
    "y_test_locat = y_error.index(bad_yvalue)\n",
    "\n",
    "plt.title('Problem Location Example')\n",
    "plt.plot(test_data[y_test_locat])\n",
    "plt.show()"
   ]
  },
  {
   "cell_type": "code",
   "execution_count": 736,
   "metadata": {},
   "outputs": [
    {
     "name": "stdout",
     "output_type": "stream",
     "text": [
      "[119]\n"
     ]
    }
   ],
   "source": [
    "#in \"bad value\" plug in x error value to find the index for x_pos and y_pos\n",
    "bad_value = 2.1269989013671875\n",
    "x_locat = np.where(x_pos == (np.array(x_test[x_error.index(bad_value)])))\n",
    "y_locat = np.where(y_pos == (np.array(y_test[x_error.index(bad_value)])))\n",
    "\n",
    "print(np.intersect1d(x_locat, y_locat))\n",
    "\n",
    "#the common value between the x and y arrays is the index of the bad data\n",
    "\n",
    "#Event locations with 0s: 6, 57, 196\n",
    "#Event locations with bad peaks: 299"
   ]
  },
  {
   "cell_type": "code",
   "execution_count": 569,
   "metadata": {},
   "outputs": [
    {
     "name": "stdout",
     "output_type": "stream",
     "text": [
      "[196]\n"
     ]
    }
   ],
   "source": [
    "#in \"bad value\" plug in y error value to find the index for x_pos and y_pos\n",
    "bad_value = 20.07520866394043\n",
    "x_locat = np.where(x_pos == (np.array(x_test[y_error.index(bad_value)])))\n",
    "y_locat = np.where(y_pos == (np.array(y_test[y_error.index(bad_value)])))\n",
    "\n",
    "print(np.intersect1d(x_locat, y_locat))\n",
    "\n",
    "#the common value between the x and y arrays is the index of the bad data\n"
   ]
  },
  {
   "cell_type": "code",
   "execution_count": null,
   "metadata": {},
   "outputs": [],
   "source": []
  },
  {
   "cell_type": "code",
   "execution_count": null,
   "metadata": {},
   "outputs": [],
   "source": []
  },
  {
   "cell_type": "code",
   "execution_count": 734,
   "metadata": {},
   "outputs": [
    {
     "name": "stdout",
     "output_type": "stream",
     "text": [
      "67656\n"
     ]
    },
    {
     "data": {
      "image/png": "[encoded data removed]",
      "text/plain": [
       "<Figure size 432x288 with 1 Axes>"
      ]
     },
     "metadata": {
      "needs_background": "light"
     },
     "output_type": "display_data"
    }
   ],
   "source": [
    "x_error = []\n",
    "\n",
    "for i in range(x_pred.shape[0]):\n",
    "    x_error_test = x_pred[i] - x_test[i]\n",
    "    x_error.append(x_error_test)\n",
    "\n",
    "#error_list_x = x_error\n",
    "error_list_x = [i for i in x_error if abs(i) <= .75]\n",
    "print(len(error_list_x))\n",
    "\n",
    "num_bins_x = 81\n",
    "# the histogram of the data\n",
    "n, bins, patches = plt.hist(error_list_x, num_bins_x, density=1, facecolor='blue', alpha=0.5)\n",
    "\n",
    "plt.xlabel('X Error (real - pred)')\n",
    "\n",
    "plt.title(r'X Residual')\n",
    "\n",
    "plt.show()"
   ]
  },
  {
   "cell_type": "code",
   "execution_count": 735,
   "metadata": {},
   "outputs": [
    {
     "name": "stdout",
     "output_type": "stream",
     "text": [
      "67658\n"
     ]
    },
    {
     "data": {
      "image/png": "[encoded data removed]",
      "text/plain": [
       "<Figure size 432x288 with 1 Axes>"
      ]
     },
     "metadata": {
      "needs_background": "light"
     },
     "output_type": "display_data"
    }
   ],
   "source": [
    "y_error = []\n",
    "\n",
    "for i in range(y_pred.shape[0]):\n",
    "    y_error_test = y_pred[i] - y_test[i]\n",
    "    y_error.append(y_error_test)\n",
    "\n",
    "#error_list_y = y_error\n",
    "error_list_y = [i for i in y_error if abs(i) <= .75]\n",
    "print(len(error_list_y))\n",
    "\n",
    "num_bins_x = 81\n",
    "# the histogram of the data\n",
    "n, bins, patches = plt.hist(error_list_y, num_bins_x, density=1, facecolor='blue', alpha=0.5)\n",
    "\n",
    "plt.xlabel('Y Error (real - pred)')\n",
    "\n",
    "plt.title(r'Y Residual')\n",
    "# Tweak spacing to prevent clipping of ylabel\n",
    "plt.subplots_adjust(left=0.15)\n",
    "plt.show()"
   ]
  },
  {
   "cell_type": "code",
   "execution_count": null,
   "metadata": {},
   "outputs": [],
   "source": []
  }
 ],
 "metadata": {
  "kernelspec": {
   "display_name": "Python 3",
   "language": "python",
   "name": "python3"
  },
  "language_info": {
   "codemirror_mode": {
    "name": "ipython",
    "version": 3
   },
   "file_extension": ".py",
   "mimetype": "text/x-python",
   "name": "python",
   "nbconvert_exporter": "python",
   "pygments_lexer": "ipython3",
   "version": "3.7.6"
  }
 },
 "nbformat": 4,
 "nbformat_minor": 4
}
