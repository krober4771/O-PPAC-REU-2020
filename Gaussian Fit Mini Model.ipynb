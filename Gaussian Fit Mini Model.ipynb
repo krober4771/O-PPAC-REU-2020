{
 "cells": [
  {
   "cell_type": "code",
   "execution_count": 2,
   "metadata": {},
   "outputs": [],
   "source": [
    "#first i need data from a previous run\n",
    "import tensorflow as tf\n",
    "from tensorflow.keras import datasets, layers, models, metrics, Model\n",
    "from tensorflow.keras.callbacks import Callback\n",
    "from scipy.stats import truncnorm\n",
    "from sklearn.model_selection import train_test_split\n",
    "from sklearn.metrics import classification_report\n",
    "from sklearn.preprocessing import normalize\n",
    "import tensorflow_docs as tfdocs\n",
    "import tensorflow_docs.plots\n",
    "import tensorflow_docs.modeling\n",
    "import numpy as np\n",
    "from numpy import *\n",
    "import pandas as pd\n",
    "import matplotlib.pyplot as plt\n",
    "import matplotlib.mlab as mlab\n",
    "import h5py\n",
    "import datetime\n",
    "from scipy.optimize import curve_fit\n",
    "import math\n",
    "from scipy import asarray as ar,exp\n",
    "import pylab as plb\n",
    "import tqdm\n",
    "from tqdm import tqdm\n",
    "import time\n",
    "import progressbar"
   ]
  },
  {
   "cell_type": "code",
   "execution_count": 3,
   "metadata": {},
   "outputs": [
    {
     "name": "stdout",
     "output_type": "stream",
     "text": [
      "(338922, 132)\n",
      "(338922, 2)\n"
     ]
    }
   ],
   "source": [
    "dataset = np.load(\"/home/roberts/O-PPAC/recomplied_dataset.npy\")\n",
    "all_data = dataset[ : , :132]\n",
    "all_labels = dataset[: , -2:]\n",
    "\n",
    "print(all_data.shape)\n",
    "print(all_labels.shape)"
   ]
  },
  {
   "cell_type": "code",
   "execution_count": 4,
   "metadata": {},
   "outputs": [
    {
     "name": "stdout",
     "output_type": "stream",
     "text": [
      "0.8395246220687987\n"
     ]
    }
   ],
   "source": [
    "all_data = normalize(all_data,axis = 1)\n",
    "print(np.max(all_data))"
   ]
  },
  {
   "cell_type": "code",
   "execution_count": 5,
   "metadata": {},
   "outputs": [
    {
     "name": "stdout",
     "output_type": "stream",
     "text": [
      "(338922, 33)\n",
      "(338922,)\n",
      "0.0\n"
     ]
    }
   ],
   "source": [
    "#separate the test data as done above\n",
    "x1_data_all = (all_data[: , :33])*100\n",
    "x2_data_all = (all_data[:, 33:66])*100\n",
    "y1_data_all = (all_data[:, 66:99])*100\n",
    "y2_data_all = (all_data[:, 99:132])*100\n",
    "\n",
    "#labels kept so they have the same indices\n",
    "x_label_all = all_labels[ : , 0 ]\n",
    "y_label_all = all_labels[ : , 1 ]\n",
    "\n",
    "print(x1_data_all.shape)\n",
    "print(x_label_all.shape)\n",
    "\n",
    "print(np.min(x1_data_all))"
   ]
  },
  {
   "cell_type": "code",
   "execution_count": 6,
   "metadata": {},
   "outputs": [],
   "source": [
    "#gaussian fit function\n",
    "def gaussianpdf(x, k, sigma, mu):\n",
    "    return k*np.exp(-(x-mu)**2/(2*sigma**2))"
   ]
  },
  {
   "cell_type": "code",
   "execution_count": 103,
   "metadata": {},
   "outputs": [],
   "source": [
    "#function to (hopefully) fit gaussians (and thus, centroids which is what we want) onto all data sets\n",
    "def centroidmm(x, y):\n",
    "    try:\n",
    "        if np.max(y) > 20:\n",
    "            kvalue = np.max(y)+(np.max(y)/2)\n",
    "        elif np.max(y) == 0:\n",
    "            kvalue = 1\n",
    "        else:\n",
    "            kvalue = np.max(y)\n",
    "        popt, _ = curve_fit(gaussianpdf, x, y, bounds=(0, [kvalue,10., 33.]))\n",
    "        return (popt[2]/33)*100-48 #converts location from diode number to mm (measurement of x_pos & y_pos)\n",
    "    except RuntimeError:\n",
    "        return -5555\n",
    "\n",
    "#function to (hopefully) fit gaussians (and thus, centroids which is what we want) onto all data sets\n",
    "def centroiddn(x, y):\n",
    "    try:\n",
    "        if np.max(y) > 20:\n",
    "            kvalue = np.max(y)+(np.max(y)/2)\n",
    "        elif np.max(y) == 0:\n",
    "            kvalue = 1\n",
    "        else:\n",
    "            kvalue = np.max(y)\n",
    "        popt, _ = curve_fit(gaussianpdf, x, y, bounds=(0, [kvalue,10., 33.]))\n",
    "        return popt[2]\n",
    "    except RuntimeError:\n",
    "        return -5555"
   ]
  },
  {
   "cell_type": "code",
   "execution_count": 8,
   "metadata": {},
   "outputs": [],
   "source": [
    "def find_peak_error(arr1data, arr2data):\n",
    "    error_indices1 = np.where(arr1data == -5555 )\n",
    "    error_indices2 = np.where(arr2data == -5555 )\n",
    "        \n",
    "    arr1data_df = pd.DataFrame(arr1data)\n",
    "    arr2data_df = pd.DataFrame(arr2data)\n",
    "        \n",
    "    error_indices = np.unique(np.concatenate([error_indices1, error_indices2], axis = 1))\n",
    "        \n",
    "    return error_indices"
   ]
  },
  {
   "cell_type": "code",
   "execution_count": 9,
   "metadata": {},
   "outputs": [],
   "source": [
    "def remove_peak_error(arr1data, arr2data, removearr):\n",
    "    \n",
    "    arr1data_df = pd.DataFrame(arr1data)\n",
    "    arr2data_df = pd.DataFrame(arr2data)\n",
    "        \n",
    "    arr1data_df_fixed = arr1data_df.drop(arr1data_df.index[removearr])\n",
    "    arr2data_df_fixed = arr2data_df.drop(arr2data_df.index[removearr])\n",
    "        \n",
    "    arr1data_fixed = arr1data_df_fixed.to_numpy()\n",
    "    arr2data_fixed = arr2data_df_fixed.to_numpy()\n",
    "        \n",
    "    return arr1data_fixed, arr2data_fixed"
   ]
  },
  {
   "cell_type": "code",
   "execution_count": 10,
   "metadata": {},
   "outputs": [],
   "source": [
    "#conversions from diode number to millimeters and vice versa\n",
    "#might need to be updated if Yassid sends a better method of converting\n",
    "def diodenum_to_mm(arr1data):\n",
    "    convert = []\n",
    "    for i in range(len(arr1data)):\n",
    "        mm = (arr1data[i] /33)*100 - 48\n",
    "        convert.append(mm)\n",
    "    return np.concatenate(convert)\n",
    "\n",
    "def mm_to_diodenum(arr1data):\n",
    "    convert = []\n",
    "    for i in range(len(arr1data)):\n",
    "        diodenum = ((arr1data[i] + 48)/100)*33\n",
    "        convert.append(diodenum)\n",
    "    return np.concatenate(convert)"
   ]
  },
  {
   "cell_type": "code",
   "execution_count": 11,
   "metadata": {},
   "outputs": [],
   "source": [
    "def average(arr1data, arr2data):\n",
    "    avg = (arr1data + arr2data)/2\n",
    "    return avg"
   ]
  },
  {
   "cell_type": "code",
   "execution_count": 257,
   "metadata": {},
   "outputs": [],
   "source": [
    "rangemin = 150000\n",
    "rangemax = 200500\n",
    "\n",
    "ranges = (rangemin, rangemax)\n",
    "\n",
    "range_size = rangemax - rangemin"
   ]
  },
  {
   "cell_type": "code",
   "execution_count": 167,
   "metadata": {},
   "outputs": [
    {
     "name": "stderr",
     "output_type": "stream",
     "text": [
      "100%|██████████| 50500/50500 [05:12<00:00, 161.55it/s]\n"
     ]
    }
   ],
   "source": [
    "x1_peaks_mini = []\n",
    "for i in tqdm(range(rangemin,rangemax)):\n",
    "    x1_dn = centroiddn(np.arange(0,33,1), x1_data_all[i,:])\n",
    "    x1_peaks_mini.append(x1_dn)\n",
    "    \n",
    "x1_peaks_mini = np.array(x1_peaks_mini)\n",
    "np.save(\"x1_peaks_file_mini_1\", x1_peaks_mini)"
   ]
  },
  {
   "cell_type": "code",
   "execution_count": 168,
   "metadata": {},
   "outputs": [
    {
     "name": "stderr",
     "output_type": "stream",
     "text": [
      "100%|██████████| 50500/50500 [14:02<00:00, 59.92it/s]  \n"
     ]
    }
   ],
   "source": [
    "x2_peaks_mini = []\n",
    "for i in tqdm(range(rangemin,rangemax)):\n",
    "    x2_dn = centroiddn(np.arange(0,33,1), x2_data_all[i,:])\n",
    "    x2_peaks_mini.append(x2_dn)\n",
    "    \n",
    "x2_peaks_mini = np.array(x2_peaks_mini)\n",
    "np.save(\"x2_peaks_file_mini_1\", x2_peaks_mini)"
   ]
  },
  {
   "cell_type": "code",
   "execution_count": 169,
   "metadata": {},
   "outputs": [
    {
     "name": "stderr",
     "output_type": "stream",
     "text": [
      "100%|██████████| 50500/50500 [06:16<00:00, 134.28it/s]\n"
     ]
    }
   ],
   "source": [
    "y1_peaks_mini = []\n",
    "for i in tqdm(range(rangemin,rangemax)):\n",
    "    y1_dn = centroiddn(np.arange(0,33,1), y1_data_all[i,:])\n",
    "    y1_peaks_mini.append(y1_dn)\n",
    "    \n",
    "y1_peaks_mini = np.array(y1_peaks_mini)\n",
    "np.save(\"y1_peaks_file_mini_1\", y1_peaks_mini)"
   ]
  },
  {
   "cell_type": "code",
   "execution_count": 170,
   "metadata": {},
   "outputs": [
    {
     "name": "stderr",
     "output_type": "stream",
     "text": [
      "100%|██████████| 50500/50500 [05:51<00:00, 143.55it/s]\n"
     ]
    }
   ],
   "source": [
    "y2_peaks_mini = []\n",
    "for i in tqdm(range(rangemin,rangemax)):\n",
    "    y2_dn = centroiddn(np.arange(0,33,1), y2_data_all[i,:])\n",
    "    y2_peaks_mini.append(y2_dn)\n",
    "    \n",
    "y2_peaks_mini = np.array(y2_peaks_mini)\n",
    "np.save(\"y2_peaks_file_mini_1\", y2_peaks_mini)"
   ]
  },
  {
   "cell_type": "code",
   "execution_count": 171,
   "metadata": {},
   "outputs": [
    {
     "name": "stdout",
     "output_type": "stream",
     "text": [
      "50500\n",
      "50500\n",
      "50500\n",
      "50500\n"
     ]
    }
   ],
   "source": [
    "#importing data so I'm not running over the other kernels\n",
    "x1_peaks_mini = np.load(\"x1_peaks_file_mini_1.npy\")\n",
    "x2_peaks_mini = np.load(\"x2_peaks_file_mini_1.npy\")\n",
    "y1_peaks_mini = np.load(\"y1_peaks_file_mini_1.npy\")\n",
    "y2_peaks_mini = np.load(\"y2_peaks_file_mini_1.npy\")\n",
    "\n",
    "print(len(x1_peaks_mini))\n",
    "print(len(x2_peaks_mini))\n",
    "print(len(y1_peaks_mini))\n",
    "print(len(y2_peaks_mini))"
   ]
  },
  {
   "cell_type": "code",
   "execution_count": 172,
   "metadata": {},
   "outputs": [],
   "source": [
    "x_errors_remove_mini = find_peak_error(x1_peaks_mini, x2_peaks_mini)\n",
    "y_errors_remove_mini = find_peak_error(y1_peaks_mini, y2_peaks_mini)\n",
    "\n",
    "all_error_indices_mini = np.unique(np.concatenate([x_errors_remove_mini, y_errors_remove_mini]))\n",
    "\n",
    "error_indices_mini = np.array(all_error_indices_mini)\n",
    "np.save(\"error_indices_mini\", error_indices_mini)"
   ]
  },
  {
   "cell_type": "code",
   "execution_count": 173,
   "metadata": {
    "scrolled": true
   },
   "outputs": [
    {
     "name": "stdout",
     "output_type": "stream",
     "text": [
      "[-7.57391264 -7.64592289 -7.56676355 ... 16.88492011 16.3940202\n",
      " 16.79216078]\n"
     ]
    }
   ],
   "source": [
    "fixed_x1_peaks_mini, fixed_x2_peaks_mini = remove_peak_error(x1_peaks_mini, x2_peaks_mini, all_error_indices_mini)\n",
    "\n",
    "x_peaks_mini = average(fixed_x1_peaks_mini, fixed_x2_peaks_mini)\n",
    "\n",
    "x_peaks_mm_mini = diodenum_to_mm(x_peaks_mini)\n",
    "print(x_peaks_mm_mini)"
   ]
  },
  {
   "cell_type": "code",
   "execution_count": 174,
   "metadata": {},
   "outputs": [
    {
     "name": "stdout",
     "output_type": "stream",
     "text": [
      "[-15.27398716 -15.38566505 -15.99146055 ... -27.57301109 -27.84489615\n",
      " -27.80393101]\n"
     ]
    }
   ],
   "source": [
    "fixed_y1_peaks_mini, fixed_y2_peaks_mini = remove_peak_error(y1_peaks_mini, y2_peaks_mini, all_error_indices_mini)\n",
    "\n",
    "y_peaks_mini = average(fixed_y1_peaks_mini, fixed_y2_peaks_mini)\n",
    "\n",
    "y_peaks_mm_mini = diodenum_to_mm(y_peaks_mini)\n",
    "print(y_peaks_mm_mini)"
   ]
  },
  {
   "cell_type": "code",
   "execution_count": 175,
   "metadata": {},
   "outputs": [
    {
     "name": "stdout",
     "output_type": "stream",
     "text": [
      "(47345, 1)\n",
      "(47345,)\n",
      "(47345, 1)\n",
      "(47345,)\n"
     ]
    }
   ],
   "source": [
    "x_label_all_mini = x_label_all[rangemin:rangemax]\n",
    "y_label_all_mini = y_label_all[rangemin:rangemax]\n",
    "\n",
    "x_label_all_df_mini = pd.DataFrame(x_label_all_mini)\n",
    "y_label_all_df_mini = pd.DataFrame(y_label_all_mini)\n",
    "\n",
    "x_label_all_df_fixed_mini = x_label_all_df_mini.drop(x_label_all_df_mini.index[error_indices_mini])\n",
    "y_label_all_df_fixed_mini = y_label_all_df_mini.drop(y_label_all_df_mini.index[error_indices_mini])\n",
    "\n",
    "x_label_all_arr_mini = x_label_all_df_fixed_mini.to_numpy()\n",
    "y_label_all_arr_mini = y_label_all_df_fixed_mini.to_numpy()\n",
    "\n",
    "print(x_label_all_arr_mini.shape)\n",
    "print(x_peaks_mm_mini.shape)\n",
    "print(y_label_all_arr_mini.shape)\n",
    "print(y_peaks_mm_mini.shape)"
   ]
  },
  {
   "cell_type": "code",
   "execution_count": 176,
   "metadata": {},
   "outputs": [
    {
     "data": {
      "image/png": "[encoded data removed]",
      "text/plain": [
       "<Figure size 432x288 with 1 Axes>"
      ]
     },
     "metadata": {
      "needs_background": "light"
     },
     "output_type": "display_data"
    }
   ],
   "source": [
    "#graph showing the accuracy of gaussian fit by comparing predicted and true x values\n",
    "#should be as close to the diagonal as possible\n",
    "new_x_labels_mini = []\n",
    "for i in range(len(x_label_all_arr_mini)):\n",
    "    new_x_labels_mini.append([x_label_all_arr_mini[i]])\n",
    "np.array(new_x_labels_mini)\n",
    "\n",
    "a = plt.axes(aspect='equal')\n",
    "\n",
    "plt.scatter(new_x_labels_mini, x_peaks_mm_mini, s=6, marker = \"x\")\n",
    "plt.xlabel('True Values')\n",
    "plt.ylabel('Predictions')\n",
    "lims = [-50, 50]\n",
    "plt.xlim(lims)\n",
    "plt.ylim(lims)\n",
    "_ = plt.plot(lims, lims, linewidth = .5)\n",
    "plt.title(\"FCNN O-PPAC X Predictions vs True X Values (events %5.0f - %5.0f)\" %tuple(ranges))\n",
    "plt.show()"
   ]
  },
  {
   "cell_type": "code",
   "execution_count": 222,
   "metadata": {
    "scrolled": false
   },
   "outputs": [
    {
     "name": "stdout",
     "output_type": "stream",
     "text": [
      "3\n",
      "[-10.00000017 -10.00000017 -10.00000017]\n"
     ]
    }
   ],
   "source": [
    "#to find the locations of largest error within my predicted y values (same as the x code above but specific to y)\n",
    "x_error_mini = []\n",
    "\n",
    "for i in range(len(x_peaks_mm_mini)):\n",
    "    x_error_test_mini = x_peaks_mm_mini[i] - x_label_all_arr_mini[i]\n",
    "    x_error_mini.append(x_error_test_mini)\n",
    "\n",
    "#print(x_error_mini)  \n",
    "\n",
    "xerror_list_mini = [i for i in x_error_mini if abs(i) >= 5]\n",
    "#xerror_list_mini.sort(reverse = True)\n",
    "print(len(xerror_list_mini))\n",
    "xerror_list_c_mini = np.squeeze(xerror_list_mini)\n",
    "print(xerror_list_c_mini)"
   ]
  },
  {
   "cell_type": "code",
   "execution_count": 237,
   "metadata": {},
   "outputs": [
    {
     "name": "stdout",
     "output_type": "stream",
     "text": [
      "[[ 0.33762019  0.          0.          0.67524038  0.          0.\n",
      "   0.33762019  0.          0.          0.33762019  0.          2.70096152\n",
      "   7.42764419 13.84242781 11.47908648 14.85528838 12.82956724 10.12860571\n",
      "   3.3762019   0.33762019  0.          0.          0.          0.\n",
      "   0.          0.          0.          0.          0.          0.\n",
      "   0.          0.67524038  0.        ]]\n"
     ]
    }
   ],
   "source": [
    "print(x1_data_all[true_index_x[0]])"
   ]
  },
  {
   "cell_type": "code",
   "execution_count": 252,
   "metadata": {},
   "outputs": [
    {
     "name": "stdout",
     "output_type": "stream",
     "text": [
      "[138422, 138423]\n"
     ]
    },
    {
     "data": {
      "image/png": "[encoded data removed]",
      "text/plain": [
       "<Figure size 432x288 with 1 Axes>"
      ]
     },
     "metadata": {
      "needs_background": "light"
     },
     "output_type": "display_data"
    }
   ],
   "source": [
    "#graph the location of areas with larger error (bad_yvalue must come from y-prediction)\n",
    "bad_xvalue_mini = -10.00000017\n",
    "x_test_locat_mini = np.isclose( x_error_mini, bad_xvalue_mini, .0001)\n",
    "\n",
    "true_index_x = list(set(np.squeeze(338922 - (rangemax - x_test_locat_mini))))\n",
    "print(true_index_x)\n",
    "\n",
    "plt.title('Problem Location Example')\n",
    "plt.plot(x1_data_all[true_index_x[1]])\n",
    "plt.show()"
   ]
  },
  {
   "cell_type": "code",
   "execution_count": 177,
   "metadata": {},
   "outputs": [
    {
     "data": {
      "image/png": "[encoded data removed]",
      "text/plain": [
       "<Figure size 432x288 with 1 Axes>"
      ]
     },
     "metadata": {
      "needs_background": "light"
     },
     "output_type": "display_data"
    }
   ],
   "source": [
    "#graph showing the accuracy of gaussian fit by comparing predicted and true x values\n",
    "#should be as close to the diagonal as possible\n",
    "new_y_labels_mini = []\n",
    "for i in range(len(y_label_all_arr_mini)):\n",
    "    new_y_labels_mini.append([y_label_all_arr_mini[i]])\n",
    "np.array(new_y_labels_mini)\n",
    "\n",
    "a = plt.axes(aspect='equal')\n",
    "\n",
    "plt.scatter(new_y_labels_mini, y_peaks_mm_mini, s=6, marker = \"x\")\n",
    "plt.xlabel('True Values')\n",
    "plt.ylabel('Predictions')\n",
    "lims = [-50, 50]\n",
    "plt.xlim(lims)\n",
    "plt.ylim(lims)\n",
    "_ = plt.plot(lims, lims, linewidth = .5)\n",
    "plt.title(\"FCNN O-PPAC Y Predictions vs True Y Values (events %5.0f - %5.0f)\" %tuple(ranges))\n",
    "plt.show()"
   ]
  },
  {
   "cell_type": "code",
   "execution_count": 220,
   "metadata": {},
   "outputs": [
    {
     "name": "stdout",
     "output_type": "stream",
     "text": [
      "1423\n",
      "[51.70970238 49.43300902 49.37287876 ... 13.54557182 13.37595329\n",
      " 13.10764931]\n"
     ]
    }
   ],
   "source": [
    "#to find the locations of largest error within my predicted y values (same as the x code above but specific to y)\n",
    "y_error_mini = []\n",
    "\n",
    "for i in range(len(y_peaks_mm_mini)):\n",
    "    y_error_test_mini = y_peaks_mm_mini[i] - y_label_all_arr_mini[i]\n",
    "    y_error_mini.append(y_error_test_mini)\n",
    "\n",
    "#print(y_error_mini)  \n",
    "\n",
    "yerror_list_mini = [i for i in y_error_mini if abs(i) >= 5]\n",
    "yerror_list_mini.sort(reverse = True)\n",
    "print(len(yerror_list_mini))\n",
    "yerror_list_c_mini = np.squeeze(yerror_list_mini)\n",
    "print(yerror_list_c_mini)"
   ]
  },
  {
   "cell_type": "code",
   "execution_count": 253,
   "metadata": {},
   "outputs": [
    {
     "name": "stdout",
     "output_type": "stream",
     "text": [
      "[138422, 138423]\n"
     ]
    },
    {
     "data": {
      "image/png": "[encoded data removed]",
      "text/plain": [
       "<Figure size 432x288 with 1 Axes>"
      ]
     },
     "metadata": {
      "needs_background": "light"
     },
     "output_type": "display_data"
    }
   ],
   "source": [
    "#graph the location of areas with larger error (bad_yvalue must come from y-prediction)\n",
    "bad_yvalue_mini = 51.70970238 \n",
    "y_test_locat_mini = np.isclose( y_error_mini, bad_yvalue_mini, .0001)\n",
    "\n",
    "true_index_y = list(set(np.squeeze(338922 - (rangemax - y_test_locat_mini))))\n",
    "print(true_index_y)\n",
    "\n",
    "plt.title('Problem Location Example')\n",
    "plt.plot(y1_data_all[true_index_y[0]])\n",
    "plt.show()"
   ]
  },
  {
   "cell_type": "code",
   "execution_count": null,
   "metadata": {},
   "outputs": [],
   "source": []
  },
  {
   "cell_type": "code",
   "execution_count": 285,
   "metadata": {},
   "outputs": [
    {
     "name": "stdout",
     "output_type": "stream",
     "text": [
      "[ 0.          0.          0.          0.          0.          0.\n",
      "  0.33009953  0.33009953  0.          0.          0.          2.31069669\n",
      "  5.61169196  9.57288628 14.19427965 15.84477729 12.21368249  5.94179148\n",
      "  3.63109479  0.99029858  0.33009953  0.66019905  0.33009953  0.\n",
      "  0.33009953  0.          0.          0.          0.33009953  0.\n",
      "  0.33009953  0.          0.33009953]\n"
     ]
    }
   ],
   "source": [
    "#basic gaussian fit stuff; needs x and y inputs for all data points; index is both for the y data and for lower code\n",
    "index = 138450\n",
    "x = np.arange(0,33,1)\n",
    "y = x1_data_all[index,:]\n",
    "\n",
    "print(y)\n",
    "x_label_all_arr_mini_index = range_size - (rangemax - index)\n",
    "\n",
    "#the true location of the peak as given by the label for that event\n",
    "x_peak_true_value = ((x_label_all_arr_mini[x_label_all_arr_mini_index]+48)/100)*33\n",
    "x_peak_fit_value = x_peaks_mini[x_label_all_arr_mini_index]"
   ]
  },
  {
   "cell_type": "code",
   "execution_count": 286,
   "metadata": {},
   "outputs": [
    {
     "name": "stdout",
     "output_type": "stream",
     "text": [
      "14.69539740250097\n",
      "[19.8]\n",
      "[20.03482332]\n"
     ]
    }
   ],
   "source": [
    "#curve fit code; bounds might be able to be played with still to improve model (specifically sigma in index 1)\n",
    "#trying new stuff to better balance k based on the input data\n",
    "if np.max(y) > 20:\n",
    "    kvalue = np.max(y)+(np.max(y)/2)\n",
    "elif np.max(y) == 0:\n",
    "    kvalue = 1\n",
    "else:\n",
    "    kvalue = np.max(y)\n",
    "\n",
    "popt, _ = curve_fit(gaussianpdf, x, y, bounds=(0, [kvalue,10., 33.]))\n",
    "print(popt[2])\n",
    "print(x_peak_true_value)\n",
    "print(x_peak_fit_value)"
   ]
  },
  {
   "cell_type": "code",
   "execution_count": 287,
   "metadata": {},
   "outputs": [
    {
     "data": {
      "image/png": "[encoded data removed]",
      "text/plain": [
       "<Figure size 432x288 with 1 Axes>"
      ]
     },
     "metadata": {
      "needs_background": "light"
     },
     "output_type": "display_data"
    }
   ],
   "source": [
    "#plotting gaussian to make sure it looks logically correct\n",
    "plt.plot(x, gaussianpdf(x, *popt), 'g--', label='fit: k=%5.3f, sigma=%5.3f, mu=%5.3f' % tuple(popt))\n",
    "plt.plot(x1_data_all[index,:])\n",
    "plt.axvline(x = x_peak_fit_value, color = \"black\", linewidth=.4, label='Pred Peak= %5.1f' %x_peak_fit_value)\n",
    "plt.axvline(x = x_peak_true_value, color = \"magenta\", linewidth=1, label='True Peak= %5.1f' % x_peak_true_value)\n",
    "plt.axvline(x = popt[2], color = \"red\", linewidth=.4, linestyle='dashdot', label='Fit Peak= %5.1f' %popt[2])\n",
    "plt.title('Event Number %5.0f' %index)\n",
    "plt.xlabel('Diode Number')\n",
    "plt.ylabel('Number of Detected Photons')\n",
    "plt.legend(bbox_to_anchor=(1.05, 1), loc='upper left', borderaxespad=0.)\n",
    "plt.show()"
   ]
  },
  {
   "cell_type": "code",
   "execution_count": null,
   "metadata": {},
   "outputs": [],
   "source": []
  },
  {
   "cell_type": "code",
   "execution_count": null,
   "metadata": {},
   "outputs": [],
   "source": []
  }
 ],
 "metadata": {
  "kernelspec": {
   "display_name": "Python 3",
   "language": "python",
   "name": "python3"
  },
  "language_info": {
   "codemirror_mode": {
    "name": "ipython",
    "version": 3
   },
   "file_extension": ".py",
   "mimetype": "text/x-python",
   "name": "python",
   "nbconvert_exporter": "python",
   "pygments_lexer": "ipython3",
   "version": "3.6.8"
  }
 },
 "nbformat": 4,
 "nbformat_minor": 4
}
