{
 "cells": [
  {
   "cell_type": "code",
   "execution_count": 4,
   "metadata": {},
   "outputs": [],
   "source": [
    "#first i need data from a previous run\n",
    "import tensorflow as tf\n",
    "from tensorflow.keras import datasets, layers, models, metrics, Model\n",
    "from tensorflow.keras.callbacks import Callback\n",
    "from scipy.stats import truncnorm\n",
    "from sklearn.model_selection import train_test_split\n",
    "from sklearn.metrics import classification_report\n",
    "from sklearn.preprocessing import normalize\n",
    "import tensorflow_docs as tfdocs\n",
    "import tensorflow_docs.plots\n",
    "import tensorflow_docs.modeling\n",
    "import numpy as np\n",
    "from numpy import *\n",
    "import pandas as pd\n",
    "import matplotlib.pyplot as plt\n",
    "import matplotlib.mlab as mlab\n",
    "import h5py\n",
    "import datetime\n",
    "from scipy.optimize import curve_fit\n",
    "import math\n",
    "from scipy import asarray as ar,exp\n",
    "import pylab as plb\n",
    "import tqdm\n",
    "from tqdm import tqdm\n",
    "import time\n",
    "import progressbar"
   ]
  },
  {
   "cell_type": "code",
   "execution_count": 5,
   "metadata": {},
   "outputs": [
    {
     "name": "stdout",
     "output_type": "stream",
     "text": [
      "(991, 342, 132)\n"
     ]
    }
   ],
   "source": [
    "dataset = h5py.File('simu_HDF_thistimeforReal.h5', 'r') #load data\n",
    "num_diodes = dataset['Num_diodes'][...] #separate the data into each key within the data file\n",
    "x_pos = (dataset['Xpos'][...])/100\n",
    "y_pos = (dataset['Ypos'][...])/100\n",
    "histgrid = dataset['histgrid'][...]\n",
    "histgrid = histgrid[:-10,:,:] #redefine the shape and size of histgrid by removing the last 10 events\n",
    "output = np.vstack((x_pos,y_pos)) #define new, single variable for x and y position\n",
    "output = np.transpose(output) #original definition was sideways, so we transposed it\n",
    "\n",
    "where_are_NaNs = isnan(histgrid) #removes any NaN values within histgrid; shouldn't be a problem with bad values removed\n",
    "histgrid[where_are_NaNs] = 0\n",
    "\n",
    "print(histgrid.shape)\n",
    "\n",
    "dataset.close()"
   ]
  },
  {
   "cell_type": "code",
   "execution_count": 6,
   "metadata": {},
   "outputs": [
    {
     "name": "stdout",
     "output_type": "stream",
     "text": [
      "(338922, 132)\n",
      "(338922, 2)\n"
     ]
    }
   ],
   "source": [
    "def data_compile(histdata):\n",
    "    data = []  #creates empty arrays for data and labels\n",
    "    labels = []\n",
    "    for i in range(histdata.shape[1]):\n",
    "        for j in range(0,histdata.shape[0]):\n",
    "            data.append(histdata[j,i,:]) #puts histgrid data inside of \"data\"\n",
    "            labels.append(output[i]) #puts x,y _pos into \"labels\"\n",
    "    return(np.array(data),np.array(labels))\n",
    "\n",
    "all_data, all_labels = data_compile(histgrid)\n",
    "\n",
    "#to make sure everything is the correct shape\n",
    "print(all_data.shape)\n",
    "print(all_labels.shape)"
   ]
  },
  {
   "cell_type": "code",
   "execution_count": 7,
   "metadata": {},
   "outputs": [
    {
     "name": "stdout",
     "output_type": "stream",
     "text": [
      "0.8395246220687987\n"
     ]
    }
   ],
   "source": [
    "all_data = normalize(all_data,axis = 1)\n",
    "print(np.max(all_data))"
   ]
  },
  {
   "cell_type": "code",
   "execution_count": null,
   "metadata": {},
   "outputs": [],
   "source": []
  },
  {
   "cell_type": "code",
   "execution_count": 8,
   "metadata": {},
   "outputs": [
    {
     "name": "stdout",
     "output_type": "stream",
     "text": [
      "(338922, 33)\n",
      "(338922,)\n",
      "0.0\n"
     ]
    }
   ],
   "source": [
    "#separate the test data as done above\n",
    "x1_data_all = (all_data[: , :33])*100\n",
    "x2_data_all = (all_data[:, 33:66])*100\n",
    "y1_data_all = (all_data[:, 66:99])*100\n",
    "y2_data_all = (all_data[:, 99:132])*100\n",
    "\n",
    "#labels kept so they have the same indices\n",
    "x_label_all = all_labels[ : , 0 ]\n",
    "y_label_all = all_labels[ : , 1 ]\n",
    "\n",
    "print(x1_data_all.shape)\n",
    "print(x_label_all.shape)\n",
    "\n",
    "print(np.min(x1_data_all))"
   ]
  },
  {
   "cell_type": "code",
   "execution_count": 9,
   "metadata": {},
   "outputs": [],
   "source": [
    "#gaussian fit function\n",
    "def gaussianpdf(x, k, sigma, mu):\n",
    "    return k*np.exp(-(x-mu)**2/(2*sigma**2))"
   ]
  },
  {
   "cell_type": "code",
   "execution_count": 97,
   "metadata": {},
   "outputs": [],
   "source": [
    "#function to (hopefully) fit gaussians (and thus, centroids which is what we want) onto all data sets\n",
    "def centroidmm(x, y):\n",
    "    try:\n",
    "        if np.max(y) > 20:\n",
    "            kvalue = np.max(y)+(np.max(y)/2)\n",
    "        else:\n",
    "            kvalue = np.max(y)\n",
    "        popt, _ = curve_fit(gaussianpdf, x, y, bounds=(0, [kvalue,10., 33.]))\n",
    "        return (popt[2]/33)*100-48 #converts location from diode number to mm (measurement of x_pos & y_pos)\n",
    "    except RuntimeError:\n",
    "        return -5555\n",
    "\n",
    "#function to (hopefully) fit gaussians (and thus, centroids which is what we want) onto all data sets\n",
    "def centroiddn(x, y):\n",
    "    try:\n",
    "        if np.max(y) > 20:\n",
    "            kvalue = np.max(y)+(np.max(y)/2)\n",
    "        elif np.max(y) == 0:\n",
    "            kvalue = 1\n",
    "        else:\n",
    "            kvalue = np.max(y)\n",
    "        popt, _ = curve_fit(gaussianpdf, x, y, bounds=(0, [kvalue,7., 33.]))\n",
    "        return popt[2]\n",
    "    except RuntimeError:\n",
    "        return -5555"
   ]
  },
  {
   "cell_type": "code",
   "execution_count": null,
   "metadata": {},
   "outputs": [],
   "source": []
  },
  {
   "cell_type": "code",
   "execution_count": 23,
   "metadata": {},
   "outputs": [
    {
     "name": "stdout",
     "output_type": "stream",
     "text": [
      "0\n",
      "10000\n",
      "20000\n",
      "30000\n",
      "40000\n",
      "50000\n",
      "60000\n",
      "70000\n",
      "80000\n",
      "90000\n",
      "100000\n",
      "110000\n",
      "120000\n",
      "130000\n",
      "140000\n",
      "150000\n",
      "160000\n",
      "170000\n",
      "180000\n",
      "190000\n",
      "200000\n",
      "210000\n",
      "220000\n",
      "230000\n",
      "240000\n",
      "250000\n",
      "260000\n",
      "270000\n",
      "280000\n",
      "290000\n",
      "300000\n",
      "310000\n",
      "320000\n",
      "330000\n"
     ]
    }
   ],
   "source": [
    "#DO NOT RERUN UNLESS ABSOLUTELY NEEDED; TAKES A VERY LONG TIME   \n",
    "x1_peaks = []\n",
    "for i in tqdm(range(x1_data_all.shape[0])):\n",
    "    x1_dn = centroiddn(np.arange(0,33,1), x1_data_all[i,:])\n",
    "    x1_peaks.append(x1_dn)"
   ]
  },
  {
   "cell_type": "code",
   "execution_count": 24,
   "metadata": {},
   "outputs": [],
   "source": [
    "x1_peaks = np.array(x1_peaks)\n",
    "np.save(\"x1_peaks_file_all_1\", x1_peaks)"
   ]
  },
  {
   "cell_type": "code",
   "execution_count": 25,
   "metadata": {},
   "outputs": [
    {
     "name": "stdout",
     "output_type": "stream",
     "text": [
      "0\n",
      "10000\n",
      "20000\n",
      "30000\n",
      "40000\n",
      "50000\n",
      "60000\n",
      "70000\n",
      "80000\n",
      "90000\n",
      "100000\n",
      "110000\n",
      "120000\n",
      "130000\n",
      "140000\n",
      "150000\n",
      "160000\n",
      "170000\n",
      "180000\n",
      "190000\n",
      "200000\n",
      "210000\n",
      "220000\n",
      "230000\n",
      "240000\n",
      "250000\n",
      "260000\n",
      "270000\n",
      "280000\n",
      "290000\n",
      "300000\n",
      "310000\n",
      "320000\n",
      "330000\n"
     ]
    }
   ],
   "source": [
    "#DO NOT RERUN UNLESS ABSOLUTELY NEEDED; TAKES A VERY LONG TIME\n",
    "x2_peaks = []\n",
    "for i in tqdm(range(x2_data_all.shape[0])):\n",
    "    x2_dn = centroiddn(np.arange(0,33,1), x2_data_all[i,:])\n",
    "    x2_peaks.append(x2_dn)"
   ]
  },
  {
   "cell_type": "code",
   "execution_count": 26,
   "metadata": {},
   "outputs": [],
   "source": [
    "x2_peaks = np.array(x2_peaks)\n",
    "np.save(\"x2_peaks_file_all_1\", x2_peaks)"
   ]
  },
  {
   "cell_type": "code",
   "execution_count": 27,
   "metadata": {},
   "outputs": [
    {
     "name": "stdout",
     "output_type": "stream",
     "text": [
      "0\n",
      "10000\n",
      "20000\n",
      "30000\n",
      "40000\n",
      "50000\n",
      "60000\n",
      "70000\n",
      "80000\n",
      "90000\n",
      "100000\n",
      "110000\n",
      "120000\n",
      "130000\n",
      "140000\n",
      "150000\n",
      "160000\n",
      "170000\n",
      "180000\n",
      "190000\n",
      "200000\n",
      "210000\n",
      "220000\n",
      "230000\n",
      "240000\n",
      "250000\n",
      "260000\n",
      "270000\n",
      "280000\n",
      "290000\n",
      "300000\n",
      "310000\n",
      "320000\n",
      "330000\n"
     ]
    }
   ],
   "source": [
    "#DO NOT RERUN UNLESS ABSOLUTELY NEEDED; TAKES A VERY LONG TIME\n",
    "y1_peaks = []\n",
    "for i in tqdm(range(y1_data_all.shape[0])):\n",
    "    y1_dn = centroiddn(np.arange(0,33,1), y1_data_all[i,:])\n",
    "    y1_peaks.append(y1_dn)"
   ]
  },
  {
   "cell_type": "code",
   "execution_count": 28,
   "metadata": {},
   "outputs": [],
   "source": [
    "y1_peaks = np.array(y1_peaks)\n",
    "np.save(\"y1_peaks_file_all_1\", y1_peaks)"
   ]
  },
  {
   "cell_type": "code",
   "execution_count": 29,
   "metadata": {},
   "outputs": [
    {
     "name": "stdout",
     "output_type": "stream",
     "text": [
      "0\n",
      "10000\n",
      "20000\n",
      "30000\n",
      "40000\n",
      "50000\n",
      "60000\n",
      "70000\n",
      "80000\n",
      "90000\n",
      "100000\n",
      "110000\n",
      "120000\n",
      "130000\n",
      "140000\n",
      "150000\n",
      "160000\n",
      "170000\n",
      "180000\n",
      "190000\n",
      "200000\n",
      "210000\n",
      "220000\n",
      "230000\n",
      "240000\n",
      "250000\n",
      "260000\n",
      "270000\n",
      "280000\n",
      "290000\n",
      "300000\n",
      "310000\n",
      "320000\n",
      "330000\n"
     ]
    }
   ],
   "source": [
    "#DO NOT RERUN UNLESS ABSOLUTELY NEEDED; TAKES A VERY LONG TIME\n",
    "y2_peaks = []\n",
    "for i in tqdm(range(x1_data_all.shape[0])):\n",
    "    y2_dn = centroiddn(np.arange(0,33,1), y2_data_all[i,:])\n",
    "    y2_peaks.append(y2_dn)"
   ]
  },
  {
   "cell_type": "code",
   "execution_count": 30,
   "metadata": {},
   "outputs": [],
   "source": [
    "y2_peaks = np.array(y2_peaks)\n",
    "np.save(\"y2_peaks_file_all_1\", y2_peaks)"
   ]
  },
  {
   "cell_type": "code",
   "execution_count": 31,
   "metadata": {},
   "outputs": [],
   "source": [
    "#formatting data to use in main notebook"
   ]
  },
  {
   "cell_type": "code",
   "execution_count": 6,
   "metadata": {},
   "outputs": [
    {
     "name": "stdout",
     "output_type": "stream",
     "text": [
      "338922\n",
      "338922\n",
      "338922\n",
      "338922\n"
     ]
    }
   ],
   "source": [
    "#importing data so I'm not running over the other kernels\n",
    "x1_peaks = np.load(\"x1_peaks_file_all_1.npy\")\n",
    "x2_peaks = np.load(\"x2_peaks_file_all_1.npy\")\n",
    "y1_peaks = np.load(\"y1_peaks_file_all_1.npy\")\n",
    "y2_peaks = np.load(\"y2_peaks_file_all_1.npy\")\n",
    "\n",
    "print(len(x1_peaks))\n",
    "print(len(x2_peaks))\n",
    "print(len(y1_peaks))\n",
    "print(len(y2_peaks))"
   ]
  },
  {
   "cell_type": "code",
   "execution_count": 22,
   "metadata": {},
   "outputs": [],
   "source": [
    "def find_peak_error(arr1data, arr2data):\n",
    "    error_indices1 = np.where(arr1data == -5555 )\n",
    "    error_indices2 = np.where(arr2data == -5555 )\n",
    "        \n",
    "    arr1data_df = pd.DataFrame(arr1data)\n",
    "    arr2data_df = pd.DataFrame(arr2data)\n",
    "        \n",
    "    error_indices = np.unique(np.concatenate([error_indices1, error_indices2], axis = 1))\n",
    "        \n",
    "    return error_indices"
   ]
  },
  {
   "cell_type": "code",
   "execution_count": 23,
   "metadata": {},
   "outputs": [],
   "source": [
    "def remove_peak_error(arr1data, arr2data, removearr):\n",
    "    \n",
    "    arr1data_df = pd.DataFrame(arr1data)\n",
    "    arr2data_df = pd.DataFrame(arr2data)\n",
    "        \n",
    "    arr1data_df_fixed = arr1data_df.drop(arr1data_df.index[removearr])\n",
    "    arr2data_df_fixed = arr2data_df.drop(arr2data_df.index[removearr])\n",
    "        \n",
    "    arr1data_fixed = arr1data_df_fixed.to_numpy()\n",
    "    arr2data_fixed = arr2data_df_fixed.to_numpy()\n",
    "        \n",
    "    return arr1data_fixed, arr2data_fixed"
   ]
  },
  {
   "cell_type": "code",
   "execution_count": 24,
   "metadata": {},
   "outputs": [],
   "source": [
    "#conversions from diode number to millimeters and vice versa\n",
    "#might need to be updated if Yassid sends a better method of converting\n",
    "def diodenum_to_mm(arr1data):\n",
    "    convert = []\n",
    "    for i in range(len(arr1data)):\n",
    "        mm = (arr1data[i] /33)*100 - 48\n",
    "        convert.append(mm)\n",
    "    return np.concatenate(convert)\n",
    "\n",
    "def mm_to_diodenum(arr1data):\n",
    "    convert = []\n",
    "    for i in range(len(arr1data)):\n",
    "        diodenum = ((arr1data[i] + 48)/100)*33\n",
    "        convert.append(diodenum)\n",
    "    return np.concatenate(convert)"
   ]
  },
  {
   "cell_type": "code",
   "execution_count": 25,
   "metadata": {},
   "outputs": [],
   "source": [
    "def average(arr1data, arr2data):\n",
    "    avg = (arr1data + arr2data)/2\n",
    "    return avg"
   ]
  },
  {
   "cell_type": "code",
   "execution_count": 11,
   "metadata": {},
   "outputs": [],
   "source": [
    "x_errors_remove = find_peak_error(x1_peaks, x2_peaks)\n",
    "y_errors_remove = find_peak_error(y1_peaks, y2_peaks)\n",
    "\n",
    "all_error_indices = np.unique(np.concatenate([x_errors_remove, y_errors_remove]))\n",
    "\n",
    "error_indices = np.array(all_error_indices)\n",
    "np.save(\"error_indices\", error_indices)"
   ]
  },
  {
   "cell_type": "code",
   "execution_count": 12,
   "metadata": {},
   "outputs": [
    {
     "name": "stdout",
     "output_type": "stream",
     "text": [
      "[-11.72566795 -11.39965588 -11.27697396 ...   8.68566297   8.35194957\n",
      "   8.67700899]\n"
     ]
    }
   ],
   "source": [
    "fixed_x_peaks = remove_peak_error(x1_peaks, x2_peaks, all_error_indices)\n",
    "\n",
    "fixed_x1_peaks = fixed_x_peaks[0]\n",
    "fixed_x2_peaks = fixed_x_peaks[1]\n",
    "\n",
    "x_peaks = average(fixed_x1_peaks, fixed_x2_peaks)\n",
    "\n",
    "x_peaks_mm = diodenum_to_mm(x_peaks)\n",
    "print(x_peaks_mm)"
   ]
  },
  {
   "cell_type": "code",
   "execution_count": 13,
   "metadata": {},
   "outputs": [],
   "source": [
    "x_peaks_data = np.array(x_peaks_mm)\n",
    "np.save(\"x_peaks_data_ALL\", x_peaks_data)"
   ]
  },
  {
   "cell_type": "code",
   "execution_count": 14,
   "metadata": {},
   "outputs": [
    {
     "name": "stdout",
     "output_type": "stream",
     "text": [
      "[-11.3134978  -11.72870128 -11.89686311 ...   8.38687597   8.4090021\n",
      "   8.77971843]\n"
     ]
    }
   ],
   "source": [
    "fixed_y_peaks = remove_peak_error(y1_peaks, y2_peaks, all_error_indices)\n",
    "\n",
    "fixed_y1_peaks = fixed_y_peaks[0]\n",
    "fixed_y2_peaks = fixed_y_peaks[1]\n",
    "\n",
    "y_peaks = average(fixed_y1_peaks, fixed_y2_peaks)\n",
    "\n",
    "y_peaks_mm = diodenum_to_mm(y_peaks)\n",
    "print(y_peaks_mm)"
   ]
  },
  {
   "cell_type": "code",
   "execution_count": 15,
   "metadata": {},
   "outputs": [],
   "source": [
    "y_peaks_data = np.array(y_peaks_mm)\n",
    "np.save(\"y_peaks_data_ALL\", y_peaks_data)"
   ]
  },
  {
   "cell_type": "code",
   "execution_count": null,
   "metadata": {},
   "outputs": [],
   "source": []
  },
  {
   "cell_type": "code",
   "execution_count": 21,
   "metadata": {},
   "outputs": [
    {
     "name": "stdout",
     "output_type": "stream",
     "text": [
      "(318628, 1)\n",
      "(318628,)\n"
     ]
    }
   ],
   "source": [
    "x_label_all_df = pd.DataFrame(x_label_all)\n",
    "\n",
    "x_label_all_df_fixed = x_label_all_df.drop(x_label_all_df.index[error_indices])\n",
    "\n",
    "x_label_all_arr = x_label_all_df_fixed.to_numpy()\n",
    "\n",
    "print(x_label_all_arr.shape)\n",
    "print(x_peaks_data.shape)"
   ]
  },
  {
   "cell_type": "code",
   "execution_count": 24,
   "metadata": {},
   "outputs": [
    {
     "data": {
      "image/png": "[encoded data removed]",
      "text/plain": [
       "<Figure size 432x288 with 1 Axes>"
      ]
     },
     "metadata": {
      "needs_background": "light"
     },
     "output_type": "display_data"
    }
   ],
   "source": [
    "#graph showing the accuracy of FCNN model by comparing predicted and true x values\n",
    "#should be as close to the diagonal as possible\n",
    "new_x_labels = []\n",
    "for i in range(len(x_label_all_arr)):\n",
    "    new_x_labels.append([x_label_all_arr[i]])\n",
    "np.array(new_x_labels)\n",
    "new_x_labels[2]\n",
    "\n",
    "a = plt.axes(aspect='equal')\n",
    "\n",
    "plt.scatter(new_x_labels, x_peaks_data, s=6, marker = \"x\")\n",
    "plt.xlabel('True Values')\n",
    "plt.ylabel('Predictions')\n",
    "lims = [-50, 50]\n",
    "plt.xlim(lims)\n",
    "plt.ylim(lims)\n",
    "_ = plt.plot(lims, lims, linewidth = .5)\n",
    "plt.title(\"FCNN O-PPAC X Predictions vs True X Values\")\n",
    "plt.show()"
   ]
  },
  {
   "cell_type": "code",
   "execution_count": null,
   "metadata": {},
   "outputs": [],
   "source": []
  }
 ],
 "metadata": {
  "kernelspec": {
   "display_name": "Python 3",
   "language": "python",
   "name": "python3"
  },
  "language_info": {
   "codemirror_mode": {
    "name": "ipython",
    "version": 3
   },
   "file_extension": ".py",
   "mimetype": "text/x-python",
   "name": "python",
   "nbconvert_exporter": "python",
   "pygments_lexer": "ipython3",
   "version": "3.6.8"
  }
 },
 "nbformat": 4,
 "nbformat_minor": 4
}
